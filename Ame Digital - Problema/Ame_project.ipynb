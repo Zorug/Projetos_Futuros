{
 "cells": [
  {
   "cell_type": "markdown",
   "metadata": {
    "colab_type": "text",
    "id": "46OUbp26_X9Z"
   },
   "source": [
    "Este código foi criado por Cassiano Gross"
   ]
  },
  {
   "cell_type": "markdown",
   "metadata": {
    "colab_type": "text",
    "id": "4fe7ijcJq0u0"
   },
   "source": [
    "## Impotando as bibliotecas"
   ]
  },
  {
   "cell_type": "code",
   "execution_count": 0,
   "metadata": {
    "colab": {},
    "colab_type": "code",
    "id": "eFcltSVjidc7"
   },
   "outputs": [],
   "source": [
    "import pandas as pd\n",
    "import numpy as np\n",
    "import seaborn as sns"
   ]
  },
  {
   "cell_type": "markdown",
   "metadata": {
    "colab_type": "text",
    "id": "HvHRIqA4rB95"
   },
   "source": [
    "## Carregando o Dataset"
   ]
  },
  {
   "cell_type": "code",
   "execution_count": 0,
   "metadata": {
    "colab": {
     "base_uri": "https://localhost:8080/",
     "height": 34
    },
    "colab_type": "code",
    "id": "TGf9dn_RihOS",
    "outputId": "2109f39f-49c3-445f-bdc5-0ec69d1a07fb"
   },
   "outputs": [
    {
     "data": {
      "text/plain": [
       "180275"
      ]
     },
     "execution_count": 2,
     "metadata": {
      "tags": []
     },
     "output_type": "execute_result"
    }
   ],
   "source": [
    "csv_path  = \"https://raw.githubusercontent.com/Zorug/Projetos_Futuros/master/Ame%20Digital%20-%20Problema/problem1_dataset.csv\"\n",
    "dados = pd.read_csv(csv_path)\n",
    "\n",
    "tamanho_dataset = dados.shape[0]\n",
    "tamanho_dataset"
   ]
  },
  {
   "cell_type": "code",
   "execution_count": 0,
   "metadata": {
    "colab": {
     "base_uri": "https://localhost:8080/",
     "height": 226
    },
    "colab_type": "code",
    "id": "udmDRoQO00WL",
    "outputId": "a249e1c4-dd84-4b1f-c1f5-0d2774430b81"
   },
   "outputs": [
    {
     "data": {
      "text/html": [
       "<div>\n",
       "<style scoped>\n",
       "    .dataframe tbody tr th:only-of-type {\n",
       "        vertical-align: middle;\n",
       "    }\n",
       "\n",
       "    .dataframe tbody tr th {\n",
       "        vertical-align: top;\n",
       "    }\n",
       "\n",
       "    .dataframe thead th {\n",
       "        text-align: right;\n",
       "    }\n",
       "</style>\n",
       "<table border=\"1\" class=\"dataframe\">\n",
       "  <thead>\n",
       "    <tr style=\"text-align: right;\">\n",
       "      <th></th>\n",
       "      <th>ITEM_ID</th>\n",
       "      <th>ALTURA</th>\n",
       "      <th>CAPACIDADE_(L)</th>\n",
       "      <th>COMPOSICAO</th>\n",
       "      <th>COR</th>\n",
       "      <th>FORMATO</th>\n",
       "      <th>LARGURA</th>\n",
       "      <th>MARCA</th>\n",
       "      <th>PARA_LAVA_LOUCAS</th>\n",
       "      <th>PARA_MICRO_ONDAS</th>\n",
       "      <th>PESO</th>\n",
       "      <th>PROFUNDIDADE</th>\n",
       "      <th>TEMPO_GARANTIA</th>\n",
       "      <th>TEM_FERRO_FUNDIDO</th>\n",
       "      <th>TEM_GRELHA</th>\n",
       "      <th>TEM_TAMPA</th>\n",
       "      <th>TIPO_PRODUTO</th>\n",
       "      <th>TIPO_WOK</th>\n",
       "      <th>SESSION_ID</th>\n",
       "      <th>ITEM_PRICE</th>\n",
       "      <th>INTERESTED</th>\n",
       "    </tr>\n",
       "  </thead>\n",
       "  <tbody>\n",
       "    <tr>\n",
       "      <th>51617</th>\n",
       "      <td>254633516</td>\n",
       "      <td>30.5</td>\n",
       "      <td>NaN</td>\n",
       "      <td>ALUMINIO</td>\n",
       "      <td>GOIABA</td>\n",
       "      <td>REDONDO</td>\n",
       "      <td>14.0</td>\n",
       "      <td>LA CUISINE</td>\n",
       "      <td>NaN</td>\n",
       "      <td>NaN</td>\n",
       "      <td>NaN</td>\n",
       "      <td>50.0</td>\n",
       "      <td>3.0</td>\n",
       "      <td>NAO</td>\n",
       "      <td>SIM</td>\n",
       "      <td>1.0</td>\n",
       "      <td>PANELA</td>\n",
       "      <td>NAO</td>\n",
       "      <td>593.248136</td>\n",
       "      <td>199.545556</td>\n",
       "      <td>0.0</td>\n",
       "    </tr>\n",
       "    <tr>\n",
       "      <th>8902</th>\n",
       "      <td>253661510</td>\n",
       "      <td>49.5</td>\n",
       "      <td>6.0</td>\n",
       "      <td>ALUMINIO</td>\n",
       "      <td>VERMELHO</td>\n",
       "      <td>REDONDO</td>\n",
       "      <td>41.5</td>\n",
       "      <td>TRAMONTINA</td>\n",
       "      <td>Yes</td>\n",
       "      <td>NaN</td>\n",
       "      <td>120.0</td>\n",
       "      <td>47.0</td>\n",
       "      <td>NaN</td>\n",
       "      <td>NAO</td>\n",
       "      <td>NAO</td>\n",
       "      <td>1.0</td>\n",
       "      <td>PIPOQUEIRA</td>\n",
       "      <td>NAO</td>\n",
       "      <td>658.384759</td>\n",
       "      <td>103.330242</td>\n",
       "      <td>0.0</td>\n",
       "    </tr>\n",
       "    <tr>\n",
       "      <th>157066</th>\n",
       "      <td>264220456</td>\n",
       "      <td>30.5</td>\n",
       "      <td>NaN</td>\n",
       "      <td>ALUMINIO</td>\n",
       "      <td>VINHO</td>\n",
       "      <td>NaN</td>\n",
       "      <td>14.0</td>\n",
       "      <td>LA CUISINE</td>\n",
       "      <td>NaN</td>\n",
       "      <td>NaN</td>\n",
       "      <td>NaN</td>\n",
       "      <td>50.0</td>\n",
       "      <td>3.0</td>\n",
       "      <td>NAO</td>\n",
       "      <td>SIM</td>\n",
       "      <td>1.0</td>\n",
       "      <td>PANELA</td>\n",
       "      <td>NAO</td>\n",
       "      <td>760.779151</td>\n",
       "      <td>179.990000</td>\n",
       "      <td>1.0</td>\n",
       "    </tr>\n",
       "    <tr>\n",
       "      <th>17288</th>\n",
       "      <td>218228122</td>\n",
       "      <td>24.0</td>\n",
       "      <td>NaN</td>\n",
       "      <td>INOX</td>\n",
       "      <td>INOX</td>\n",
       "      <td>NaN</td>\n",
       "      <td>20.0</td>\n",
       "      <td>LA CUISINE</td>\n",
       "      <td>Yes</td>\n",
       "      <td>no</td>\n",
       "      <td>190.0</td>\n",
       "      <td>20.0</td>\n",
       "      <td>3.0</td>\n",
       "      <td>NAO</td>\n",
       "      <td>NAO</td>\n",
       "      <td>1.0</td>\n",
       "      <td>ESPAGUETEIRA</td>\n",
       "      <td>NAO</td>\n",
       "      <td>909.291617</td>\n",
       "      <td>130.596061</td>\n",
       "      <td>0.0</td>\n",
       "    </tr>\n",
       "    <tr>\n",
       "      <th>63062</th>\n",
       "      <td>242171044</td>\n",
       "      <td>19.0</td>\n",
       "      <td>NaN</td>\n",
       "      <td>INOX</td>\n",
       "      <td>INOX</td>\n",
       "      <td>NaN</td>\n",
       "      <td>15.5</td>\n",
       "      <td>TRAMONTINA</td>\n",
       "      <td>Yes</td>\n",
       "      <td>no</td>\n",
       "      <td>110.0</td>\n",
       "      <td>22.0</td>\n",
       "      <td>12.0</td>\n",
       "      <td>NAO</td>\n",
       "      <td>NAO</td>\n",
       "      <td>0.0</td>\n",
       "      <td>CUSCUZEIRA</td>\n",
       "      <td>NAO</td>\n",
       "      <td>726.698490</td>\n",
       "      <td>161.892000</td>\n",
       "      <td>0.0</td>\n",
       "    </tr>\n",
       "  </tbody>\n",
       "</table>\n",
       "</div>"
      ],
      "text/plain": [
       "          ITEM_ID  ALTURA  CAPACIDADE_(L)  ...  SESSION_ID  ITEM_PRICE INTERESTED\n",
       "51617   254633516    30.5             NaN  ...  593.248136  199.545556        0.0\n",
       "8902    253661510    49.5             6.0  ...  658.384759  103.330242        0.0\n",
       "157066  264220456    30.5             NaN  ...  760.779151  179.990000        1.0\n",
       "17288   218228122    24.0             NaN  ...  909.291617  130.596061        0.0\n",
       "63062   242171044    19.0             NaN  ...  726.698490  161.892000        0.0\n",
       "\n",
       "[5 rows x 21 columns]"
      ]
     },
     "execution_count": 3,
     "metadata": {
      "tags": []
     },
     "output_type": "execute_result"
    }
   ],
   "source": [
    "dados.sample(5)"
   ]
  },
  {
   "cell_type": "markdown",
   "metadata": {
    "colab_type": "text",
    "id": "i0sFk8iwrLn-"
   },
   "source": [
    "## Organização dos tipos de dados"
   ]
  },
  {
   "cell_type": "code",
   "execution_count": 0,
   "metadata": {
    "colab": {
     "base_uri": "https://localhost:8080/",
     "height": 399
    },
    "colab_type": "code",
    "id": "Lw39apqAivwl",
    "outputId": "58e1cae8-cae7-49a3-945d-d8e426782827"
   },
   "outputs": [
    {
     "data": {
      "text/plain": [
       "ITEM_ID                int64\n",
       "ALTURA               float64\n",
       "CAPACIDADE_(L)       float64\n",
       "COMPOSICAO            object\n",
       "COR                   object\n",
       "FORMATO               object\n",
       "LARGURA              float64\n",
       "MARCA                 object\n",
       "PARA_LAVA_LOUCAS      object\n",
       "PARA_MICRO_ONDAS      object\n",
       "PESO                 float64\n",
       "PROFUNDIDADE         float64\n",
       "TEMPO_GARANTIA       float64\n",
       "TEM_FERRO_FUNDIDO     object\n",
       "TEM_GRELHA            object\n",
       "TEM_TAMPA            float64\n",
       "TIPO_PRODUTO          object\n",
       "TIPO_WOK              object\n",
       "SESSION_ID           float64\n",
       "ITEM_PRICE           float64\n",
       "INTERESTED           float64\n",
       "dtype: object"
      ]
     },
     "execution_count": 4,
     "metadata": {
      "tags": []
     },
     "output_type": "execute_result"
    }
   ],
   "source": [
    "# Verificando os tipos de dados para trabalhar\n",
    "dt = dados.dtypes; dt"
   ]
  },
  {
   "cell_type": "markdown",
   "metadata": {
    "colab_type": "text",
    "id": "Yf2RX4jUIUYp"
   },
   "source": [
    "### Organizando colunas do tipo object para variaveis boleanas"
   ]
  },
  {
   "cell_type": "code",
   "execution_count": 0,
   "metadata": {
    "colab": {
     "base_uri": "https://localhost:8080/",
     "height": 208
    },
    "colab_type": "code",
    "id": "vi4kfJXTElBb",
    "outputId": "b11b40e7-9908-4928-f5d1-1d228bf33463"
   },
   "outputs": [
    {
     "data": {
      "text/plain": [
       "COMPOSICAO           object\n",
       "COR                  object\n",
       "FORMATO              object\n",
       "MARCA                object\n",
       "PARA_LAVA_LOUCAS     object\n",
       "PARA_MICRO_ONDAS     object\n",
       "TEM_FERRO_FUNDIDO    object\n",
       "TEM_GRELHA           object\n",
       "TIPO_PRODUTO         object\n",
       "TIPO_WOK             object\n",
       "dtype: object"
      ]
     },
     "execution_count": 5,
     "metadata": {
      "tags": []
     },
     "output_type": "execute_result"
    }
   ],
   "source": [
    "# vamos começar organizando as colunas do tipo object\n",
    "dt_objects = dt[dt == object]; dt_objects"
   ]
  },
  {
   "cell_type": "code",
   "execution_count": 0,
   "metadata": {
    "colab": {
     "base_uri": "https://localhost:8080/",
     "height": 191
    },
    "colab_type": "code",
    "id": "85f_lMqSFgbq",
    "outputId": "5b54e8a3-a663-40d9-d62a-99eaa08700ad"
   },
   "outputs": [
    {
     "data": {
      "text/plain": [
       "['COMPOSICAO',\n",
       " 'COR',\n",
       " 'FORMATO',\n",
       " 'MARCA',\n",
       " 'PARA_LAVA_LOUCAS',\n",
       " 'PARA_MICRO_ONDAS',\n",
       " 'TEM_FERRO_FUNDIDO',\n",
       " 'TEM_GRELHA',\n",
       " 'TIPO_PRODUTO',\n",
       " 'TIPO_WOK']"
      ]
     },
     "execution_count": 6,
     "metadata": {
      "tags": []
     },
     "output_type": "execute_result"
    }
   ],
   "source": [
    "# separamos todos as colunas do tipo objeto pelo seu nome\n",
    "indices_obj = list(dt_objects.index); indices_obj"
   ]
  },
  {
   "cell_type": "code",
   "execution_count": 0,
   "metadata": {
    "colab": {
     "base_uri": "https://localhost:8080/",
     "height": 144
    },
    "colab_type": "code",
    "id": "WhijpVs4Gb69",
    "outputId": "ef1a0939-cc03-4bcb-ab67-a7648d2426b2"
   },
   "outputs": [
    {
     "data": {
      "text/html": [
       "<div>\n",
       "<style scoped>\n",
       "    .dataframe tbody tr th:only-of-type {\n",
       "        vertical-align: middle;\n",
       "    }\n",
       "\n",
       "    .dataframe tbody tr th {\n",
       "        vertical-align: top;\n",
       "    }\n",
       "\n",
       "    .dataframe thead th {\n",
       "        text-align: right;\n",
       "    }\n",
       "</style>\n",
       "<table border=\"1\" class=\"dataframe\">\n",
       "  <thead>\n",
       "    <tr style=\"text-align: right;\">\n",
       "      <th></th>\n",
       "      <th>COMPOSICAO</th>\n",
       "      <th>COR</th>\n",
       "      <th>FORMATO</th>\n",
       "      <th>MARCA</th>\n",
       "      <th>PARA_LAVA_LOUCAS</th>\n",
       "      <th>PARA_MICRO_ONDAS</th>\n",
       "      <th>TEM_FERRO_FUNDIDO</th>\n",
       "      <th>TEM_GRELHA</th>\n",
       "      <th>TIPO_PRODUTO</th>\n",
       "      <th>TIPO_WOK</th>\n",
       "    </tr>\n",
       "  </thead>\n",
       "  <tbody>\n",
       "    <tr>\n",
       "      <th>89526</th>\n",
       "      <td>ALUMINIO</td>\n",
       "      <td>VINHO</td>\n",
       "      <td>NaN</td>\n",
       "      <td>LA CUISINE</td>\n",
       "      <td>NaN</td>\n",
       "      <td>NaN</td>\n",
       "      <td>NAO</td>\n",
       "      <td>SIM</td>\n",
       "      <td>PANELA</td>\n",
       "      <td>NAO</td>\n",
       "    </tr>\n",
       "    <tr>\n",
       "      <th>106749</th>\n",
       "      <td>INOX</td>\n",
       "      <td>ROXO</td>\n",
       "      <td>NaN</td>\n",
       "      <td>EURO</td>\n",
       "      <td>No</td>\n",
       "      <td>no</td>\n",
       "      <td>NAO</td>\n",
       "      <td>NAO</td>\n",
       "      <td>CHALEIRA</td>\n",
       "      <td>NAO</td>\n",
       "    </tr>\n",
       "    <tr>\n",
       "      <th>94913</th>\n",
       "      <td>INOX</td>\n",
       "      <td>INOX</td>\n",
       "      <td>NaN</td>\n",
       "      <td>LA CUISINE</td>\n",
       "      <td>Yes</td>\n",
       "      <td>no</td>\n",
       "      <td>NAO</td>\n",
       "      <td>NAO</td>\n",
       "      <td>ESPAGUETEIRA</td>\n",
       "      <td>NAO</td>\n",
       "    </tr>\n",
       "  </tbody>\n",
       "</table>\n",
       "</div>"
      ],
      "text/plain": [
       "       COMPOSICAO    COR FORMATO  ... TEM_GRELHA  TIPO_PRODUTO TIPO_WOK\n",
       "89526    ALUMINIO  VINHO     NaN  ...        SIM        PANELA      NAO\n",
       "106749       INOX   ROXO     NaN  ...        NAO      CHALEIRA      NAO\n",
       "94913        INOX   INOX     NaN  ...        NAO  ESPAGUETEIRA      NAO\n",
       "\n",
       "[3 rows x 10 columns]"
      ]
     },
     "execution_count": 7,
     "metadata": {
      "tags": []
     },
     "output_type": "execute_result"
    }
   ],
   "source": [
    "dados[indices_obj].sample(3)"
   ]
  },
  {
   "cell_type": "code",
   "execution_count": 0,
   "metadata": {
    "colab": {
     "base_uri": "https://localhost:8080/",
     "height": 144
    },
    "colab_type": "code",
    "id": "4vJZQvXtDdfH",
    "outputId": "76ba7f56-33a7-4ccb-efe8-2db4c0b77824"
   },
   "outputs": [
    {
     "data": {
      "text/html": [
       "<div>\n",
       "<style scoped>\n",
       "    .dataframe tbody tr th:only-of-type {\n",
       "        vertical-align: middle;\n",
       "    }\n",
       "\n",
       "    .dataframe tbody tr th {\n",
       "        vertical-align: top;\n",
       "    }\n",
       "\n",
       "    .dataframe thead th {\n",
       "        text-align: right;\n",
       "    }\n",
       "</style>\n",
       "<table border=\"1\" class=\"dataframe\">\n",
       "  <thead>\n",
       "    <tr style=\"text-align: right;\">\n",
       "      <th></th>\n",
       "      <th>PARA_LAVA_LOUCAS</th>\n",
       "      <th>PARA_MICRO_ONDAS</th>\n",
       "      <th>TEM_FERRO_FUNDIDO</th>\n",
       "      <th>TEM_GRELHA</th>\n",
       "      <th>TIPO_WOK</th>\n",
       "    </tr>\n",
       "  </thead>\n",
       "  <tbody>\n",
       "    <tr>\n",
       "      <th>100029</th>\n",
       "      <td>Yes</td>\n",
       "      <td>no</td>\n",
       "      <td>NAO</td>\n",
       "      <td>NAO</td>\n",
       "      <td>SIM</td>\n",
       "    </tr>\n",
       "    <tr>\n",
       "      <th>110649</th>\n",
       "      <td>No</td>\n",
       "      <td>no</td>\n",
       "      <td>NAO</td>\n",
       "      <td>NAO</td>\n",
       "      <td>NAO</td>\n",
       "    </tr>\n",
       "    <tr>\n",
       "      <th>48528</th>\n",
       "      <td>NaN</td>\n",
       "      <td>NaN</td>\n",
       "      <td>SIM</td>\n",
       "      <td>NAO</td>\n",
       "      <td>NAO</td>\n",
       "    </tr>\n",
       "  </tbody>\n",
       "</table>\n",
       "</div>"
      ],
      "text/plain": [
       "       PARA_LAVA_LOUCAS PARA_MICRO_ONDAS TEM_FERRO_FUNDIDO TEM_GRELHA TIPO_WOK\n",
       "100029              Yes               no               NAO        NAO      SIM\n",
       "110649               No               no               NAO        NAO      NAO\n",
       "48528               NaN              NaN               SIM        NAO      NAO"
      ]
     },
     "execution_count": 8,
     "metadata": {
      "tags": []
     },
     "output_type": "execute_result"
    }
   ],
   "source": [
    "# Precisamos organizar as variáveis booleanas a serem convertidas:\n",
    "ind_obj_bool = [\"PARA_LAVA_LOUCAS\", \"PARA_MICRO_ONDAS\", \"TEM_FERRO_FUNDIDO\", \"TEM_GRELHA\", \"TIPO_WOK\"]\n",
    "dados[ind_obj_bool].sample(3)"
   ]
  },
  {
   "cell_type": "code",
   "execution_count": 0,
   "metadata": {
    "colab": {
     "base_uri": "https://localhost:8080/",
     "height": 104
    },
    "colab_type": "code",
    "id": "MxJ8OUL7HZ2h",
    "outputId": "6e26049e-bfb7-48fe-89a3-56d6b03f0643"
   },
   "outputs": [
    {
     "name": "stdout",
     "output_type": "stream",
     "text": [
      "[nan 'No' 'Yes' 'NAO']\n",
      "[nan 'no' 'yes']\n",
      "['NAO' 'SIM']\n",
      "['SIM' 'NAO']\n",
      "['NAO' 'SIM']\n"
     ]
    }
   ],
   "source": [
    "# verificando os valores presentes nas colunas selecionadas\n",
    "for coluna in ind_obj_bool: print(dados[coluna].unique())"
   ]
  },
  {
   "cell_type": "code",
   "execution_count": 0,
   "metadata": {
    "colab": {},
    "colab_type": "code",
    "id": "mD3h5c5oMZ6Z"
   },
   "outputs": [],
   "source": [
    "# dicionário para a conversão\n",
    "dicionario = {'No':0.0, 'NAO':0.0, 'no':0.0, 'Yes':1.0, 'yes':1.0, 'SIM':1.0}"
   ]
  },
  {
   "cell_type": "code",
   "execution_count": 0,
   "metadata": {
    "colab": {},
    "colab_type": "code",
    "id": "LJA76OCIONQ8"
   },
   "outputs": [],
   "source": [
    "# aplicando o dicionário no df\n",
    "for coluna in ind_obj_bool: dados[coluna] = dados[coluna].map(dicionario) "
   ]
  },
  {
   "cell_type": "code",
   "execution_count": 0,
   "metadata": {
    "colab": {
     "base_uri": "https://localhost:8080/",
     "height": 216
    },
    "colab_type": "code",
    "id": "pMgumhpXOwfe",
    "outputId": "2d0fe1a2-1b72-4384-b980-a55d3e68bb77"
   },
   "outputs": [
    {
     "data": {
      "text/html": [
       "<div>\n",
       "<style scoped>\n",
       "    .dataframe tbody tr th:only-of-type {\n",
       "        vertical-align: middle;\n",
       "    }\n",
       "\n",
       "    .dataframe tbody tr th {\n",
       "        vertical-align: top;\n",
       "    }\n",
       "\n",
       "    .dataframe thead th {\n",
       "        text-align: right;\n",
       "    }\n",
       "</style>\n",
       "<table border=\"1\" class=\"dataframe\">\n",
       "  <thead>\n",
       "    <tr style=\"text-align: right;\">\n",
       "      <th></th>\n",
       "      <th>ITEM_ID</th>\n",
       "      <th>ALTURA</th>\n",
       "      <th>CAPACIDADE_(L)</th>\n",
       "      <th>COMPOSICAO</th>\n",
       "      <th>COR</th>\n",
       "      <th>FORMATO</th>\n",
       "      <th>LARGURA</th>\n",
       "      <th>MARCA</th>\n",
       "      <th>PARA_LAVA_LOUCAS</th>\n",
       "      <th>PARA_MICRO_ONDAS</th>\n",
       "      <th>PESO</th>\n",
       "      <th>PROFUNDIDADE</th>\n",
       "      <th>TEMPO_GARANTIA</th>\n",
       "      <th>TEM_FERRO_FUNDIDO</th>\n",
       "      <th>TEM_GRELHA</th>\n",
       "      <th>TEM_TAMPA</th>\n",
       "      <th>TIPO_PRODUTO</th>\n",
       "      <th>TIPO_WOK</th>\n",
       "      <th>SESSION_ID</th>\n",
       "      <th>ITEM_PRICE</th>\n",
       "      <th>INTERESTED</th>\n",
       "    </tr>\n",
       "  </thead>\n",
       "  <tbody>\n",
       "    <tr>\n",
       "      <th>137589</th>\n",
       "      <td>260010106</td>\n",
       "      <td>46.0</td>\n",
       "      <td>NaN</td>\n",
       "      <td>NaN</td>\n",
       "      <td>PRETO</td>\n",
       "      <td>REDONDO</td>\n",
       "      <td>30.0</td>\n",
       "      <td>PANELA MINEIRA</td>\n",
       "      <td>NaN</td>\n",
       "      <td>NaN</td>\n",
       "      <td>NaN</td>\n",
       "      <td>41.0</td>\n",
       "      <td>NaN</td>\n",
       "      <td>1.0</td>\n",
       "      <td>0.0</td>\n",
       "      <td>0.0</td>\n",
       "      <td>CHAPA</td>\n",
       "      <td>0.0</td>\n",
       "      <td>849.377332</td>\n",
       "      <td>37.99</td>\n",
       "      <td>0.0</td>\n",
       "    </tr>\n",
       "    <tr>\n",
       "      <th>115588</th>\n",
       "      <td>264220456</td>\n",
       "      <td>30.5</td>\n",
       "      <td>NaN</td>\n",
       "      <td>ALUMINIO</td>\n",
       "      <td>VINHO</td>\n",
       "      <td>NaN</td>\n",
       "      <td>14.0</td>\n",
       "      <td>LA CUISINE</td>\n",
       "      <td>NaN</td>\n",
       "      <td>NaN</td>\n",
       "      <td>NaN</td>\n",
       "      <td>50.0</td>\n",
       "      <td>3.0</td>\n",
       "      <td>0.0</td>\n",
       "      <td>1.0</td>\n",
       "      <td>1.0</td>\n",
       "      <td>PANELA</td>\n",
       "      <td>0.0</td>\n",
       "      <td>667.301397</td>\n",
       "      <td>199.99</td>\n",
       "      <td>0.0</td>\n",
       "    </tr>\n",
       "    <tr>\n",
       "      <th>77048</th>\n",
       "      <td>255487712</td>\n",
       "      <td>47.5</td>\n",
       "      <td>NaN</td>\n",
       "      <td>ALUMINIO</td>\n",
       "      <td>COBRE</td>\n",
       "      <td>NaN</td>\n",
       "      <td>26.5</td>\n",
       "      <td>LA CUISINE</td>\n",
       "      <td>NaN</td>\n",
       "      <td>NaN</td>\n",
       "      <td>NaN</td>\n",
       "      <td>7.0</td>\n",
       "      <td>3.0</td>\n",
       "      <td>0.0</td>\n",
       "      <td>0.0</td>\n",
       "      <td>0.0</td>\n",
       "      <td>FRIGIDEIRA</td>\n",
       "      <td>0.0</td>\n",
       "      <td>912.484424</td>\n",
       "      <td>89.99</td>\n",
       "      <td>0.0</td>\n",
       "    </tr>\n",
       "  </tbody>\n",
       "</table>\n",
       "</div>"
      ],
      "text/plain": [
       "          ITEM_ID  ALTURA  CAPACIDADE_(L)  ...  SESSION_ID ITEM_PRICE INTERESTED\n",
       "137589  260010106    46.0             NaN  ...  849.377332      37.99        0.0\n",
       "115588  264220456    30.5             NaN  ...  667.301397     199.99        0.0\n",
       "77048   255487712    47.5             NaN  ...  912.484424      89.99        0.0\n",
       "\n",
       "[3 rows x 21 columns]"
      ]
     },
     "execution_count": 12,
     "metadata": {
      "tags": []
     },
     "output_type": "execute_result"
    }
   ],
   "source": [
    "dados.sample(3)"
   ]
  },
  {
   "cell_type": "code",
   "execution_count": 0,
   "metadata": {
    "colab": {
     "base_uri": "https://localhost:8080/",
     "height": 208
    },
    "colab_type": "code",
    "id": "DI62E7KEQy1D",
    "outputId": "3fce0090-5331-46f2-a0c2-86d7d875efe8"
   },
   "outputs": [
    {
     "data": {
      "text/plain": [
       "COMPOSICAO            object\n",
       "COR                   object\n",
       "FORMATO               object\n",
       "MARCA                 object\n",
       "PARA_LAVA_LOUCAS     float64\n",
       "PARA_MICRO_ONDAS     float64\n",
       "TEM_FERRO_FUNDIDO    float64\n",
       "TEM_GRELHA           float64\n",
       "TIPO_PRODUTO          object\n",
       "TIPO_WOK             float64\n",
       "dtype: object"
      ]
     },
     "execution_count": 13,
     "metadata": {
      "tags": []
     },
     "output_type": "execute_result"
    }
   ],
   "source": [
    "dados[indices_obj].dtypes # transformação bem sucedida"
   ]
  },
  {
   "cell_type": "markdown",
   "metadata": {
    "colab_type": "text",
    "id": "SCpToMhNUqj8"
   },
   "source": [
    "### Remoção dos IDs e Organização do preço"
   ]
  },
  {
   "cell_type": "code",
   "execution_count": 0,
   "metadata": {
    "colab": {},
    "colab_type": "code",
    "id": "03ygdiTBit4m"
   },
   "outputs": [],
   "source": [
    "# Como estas colunas não tem utilidade na nossa análise, estou optando por removelas do dataset\n",
    "dados = dados.drop(['ITEM_ID', 'SESSION_ID'], axis=1)"
   ]
  },
  {
   "cell_type": "code",
   "execution_count": 0,
   "metadata": {
    "colab": {
     "base_uri": "https://localhost:8080/",
     "height": 164
    },
    "colab_type": "code",
    "id": "zhoQG7tDa_WL",
    "outputId": "7bdd5d11-dd4d-4a9a-9ec7-a1fde036bcdb"
   },
   "outputs": [
    {
     "data": {
      "text/html": [
       "<div>\n",
       "<style scoped>\n",
       "    .dataframe tbody tr th:only-of-type {\n",
       "        vertical-align: middle;\n",
       "    }\n",
       "\n",
       "    .dataframe tbody tr th {\n",
       "        vertical-align: top;\n",
       "    }\n",
       "\n",
       "    .dataframe thead th {\n",
       "        text-align: right;\n",
       "    }\n",
       "</style>\n",
       "<table border=\"1\" class=\"dataframe\">\n",
       "  <thead>\n",
       "    <tr style=\"text-align: right;\">\n",
       "      <th></th>\n",
       "      <th>ALTURA</th>\n",
       "      <th>CAPACIDADE_(L)</th>\n",
       "      <th>COMPOSICAO</th>\n",
       "      <th>COR</th>\n",
       "      <th>FORMATO</th>\n",
       "      <th>LARGURA</th>\n",
       "      <th>MARCA</th>\n",
       "      <th>PARA_LAVA_LOUCAS</th>\n",
       "      <th>PARA_MICRO_ONDAS</th>\n",
       "      <th>PESO</th>\n",
       "      <th>PROFUNDIDADE</th>\n",
       "      <th>TEMPO_GARANTIA</th>\n",
       "      <th>TEM_FERRO_FUNDIDO</th>\n",
       "      <th>TEM_GRELHA</th>\n",
       "      <th>TEM_TAMPA</th>\n",
       "      <th>TIPO_PRODUTO</th>\n",
       "      <th>TIPO_WOK</th>\n",
       "      <th>ITEM_PRICE</th>\n",
       "      <th>INTERESTED</th>\n",
       "    </tr>\n",
       "  </thead>\n",
       "  <tbody>\n",
       "    <tr>\n",
       "      <th>165227</th>\n",
       "      <td>49.5</td>\n",
       "      <td>6.0</td>\n",
       "      <td>ALUMINIO</td>\n",
       "      <td>VERMELHO</td>\n",
       "      <td>REDONDO</td>\n",
       "      <td>41.5</td>\n",
       "      <td>TRAMONTINA</td>\n",
       "      <td>1.0</td>\n",
       "      <td>NaN</td>\n",
       "      <td>120.0</td>\n",
       "      <td>47.0</td>\n",
       "      <td>NaN</td>\n",
       "      <td>0.0</td>\n",
       "      <td>0.0</td>\n",
       "      <td>1.0</td>\n",
       "      <td>PIPOQUEIRA</td>\n",
       "      <td>0.0</td>\n",
       "      <td>110.67</td>\n",
       "      <td>0.0</td>\n",
       "    </tr>\n",
       "    <tr>\n",
       "      <th>54000</th>\n",
       "      <td>NaN</td>\n",
       "      <td>1.4</td>\n",
       "      <td>INOX</td>\n",
       "      <td>INOX</td>\n",
       "      <td>NaN</td>\n",
       "      <td>NaN</td>\n",
       "      <td>TRAMONTINA</td>\n",
       "      <td>0.0</td>\n",
       "      <td>0.0</td>\n",
       "      <td>NaN</td>\n",
       "      <td>NaN</td>\n",
       "      <td>300.0</td>\n",
       "      <td>0.0</td>\n",
       "      <td>0.0</td>\n",
       "      <td>0.0</td>\n",
       "      <td>FRIGIDEIRA</td>\n",
       "      <td>0.0</td>\n",
       "      <td>171.86</td>\n",
       "      <td>0.0</td>\n",
       "    </tr>\n",
       "    <tr>\n",
       "      <th>48869</th>\n",
       "      <td>46.7</td>\n",
       "      <td>4.5</td>\n",
       "      <td>ALUMINIO</td>\n",
       "      <td>CEREJA</td>\n",
       "      <td>REDONDO</td>\n",
       "      <td>36.7</td>\n",
       "      <td>TRAMONTINA</td>\n",
       "      <td>1.0</td>\n",
       "      <td>0.0</td>\n",
       "      <td>190.0</td>\n",
       "      <td>19.8</td>\n",
       "      <td>12.0</td>\n",
       "      <td>0.0</td>\n",
       "      <td>0.0</td>\n",
       "      <td>0.0</td>\n",
       "      <td>PANELA</td>\n",
       "      <td>1.0</td>\n",
       "      <td>129.08</td>\n",
       "      <td>0.0</td>\n",
       "    </tr>\n",
       "  </tbody>\n",
       "</table>\n",
       "</div>"
      ],
      "text/plain": [
       "        ALTURA  CAPACIDADE_(L) COMPOSICAO  ... TIPO_WOK ITEM_PRICE  INTERESTED\n",
       "165227    49.5             6.0   ALUMINIO  ...      0.0     110.67         0.0\n",
       "54000      NaN             1.4       INOX  ...      0.0     171.86         0.0\n",
       "48869     46.7             4.5   ALUMINIO  ...      1.0     129.08         0.0\n",
       "\n",
       "[3 rows x 19 columns]"
      ]
     },
     "execution_count": 15,
     "metadata": {
      "tags": []
     },
     "output_type": "execute_result"
    }
   ],
   "source": [
    "# para ficar melhor apresentavel vou limitar as casas decimais do item_price\n",
    "dados.ITEM_PRICE = dados.ITEM_PRICE.round(2); dados.sample(3)"
   ]
  },
  {
   "cell_type": "markdown",
   "metadata": {
    "colab_type": "text",
    "id": "vs3fR-0zBW9h"
   },
   "source": [
    "### Agrupamento dos tipos de dados para uma melhor compreensão/visualização"
   ]
  },
  {
   "cell_type": "code",
   "execution_count": 0,
   "metadata": {
    "colab": {},
    "colab_type": "code",
    "id": "eTyG_azaCUi_"
   },
   "outputs": [],
   "source": [
    "# Temos os seguintes grupos: categóricas, dimensões, booleanas e outras\n",
    "categoricas = [\"COMPOSICAO\", \"COR\", \"FORMATO\", \"MARCA\", \"TIPO_PRODUTO\"]\n",
    "dimensoes = [\"ALTURA\", \"CAPACIDADE_(L)\", \"LARGURA\", \"PROFUNDIDADE\"]\n",
    "booleanas = [\"PARA_LAVA_LOUCAS\", \"PARA_MICRO_ONDAS\", \"TEM_FERRO_FUNDIDO\", \"TEM_GRELHA\", \"TEM_TAMPA\", \"TIPO_WOK\", \"INTERESTED\"]\n",
    "outras = [\"PESO\", \"TEMPO_GARANTIA\", \"ITEM_PRICE\"]"
   ]
  },
  {
   "cell_type": "code",
   "execution_count": 0,
   "metadata": {
    "colab": {
     "base_uri": "https://localhost:8080/",
     "height": 226
    },
    "colab_type": "code",
    "id": "hYwSQAQqH00Z",
    "outputId": "a26a5db7-8aed-47c9-d5ad-6bf6b94eec75"
   },
   "outputs": [
    {
     "data": {
      "text/html": [
       "<div>\n",
       "<style scoped>\n",
       "    .dataframe tbody tr th:only-of-type {\n",
       "        vertical-align: middle;\n",
       "    }\n",
       "\n",
       "    .dataframe tbody tr th {\n",
       "        vertical-align: top;\n",
       "    }\n",
       "\n",
       "    .dataframe thead th {\n",
       "        text-align: right;\n",
       "    }\n",
       "</style>\n",
       "<table border=\"1\" class=\"dataframe\">\n",
       "  <thead>\n",
       "    <tr style=\"text-align: right;\">\n",
       "      <th></th>\n",
       "      <th>COMPOSICAO</th>\n",
       "      <th>COR</th>\n",
       "      <th>FORMATO</th>\n",
       "      <th>MARCA</th>\n",
       "      <th>TIPO_PRODUTO</th>\n",
       "      <th>ALTURA</th>\n",
       "      <th>CAPACIDADE_(L)</th>\n",
       "      <th>LARGURA</th>\n",
       "      <th>PROFUNDIDADE</th>\n",
       "      <th>PESO</th>\n",
       "      <th>TEMPO_GARANTIA</th>\n",
       "      <th>ITEM_PRICE</th>\n",
       "      <th>PARA_LAVA_LOUCAS</th>\n",
       "      <th>PARA_MICRO_ONDAS</th>\n",
       "      <th>TEM_FERRO_FUNDIDO</th>\n",
       "      <th>TEM_GRELHA</th>\n",
       "      <th>TEM_TAMPA</th>\n",
       "      <th>TIPO_WOK</th>\n",
       "      <th>INTERESTED</th>\n",
       "    </tr>\n",
       "  </thead>\n",
       "  <tbody>\n",
       "    <tr>\n",
       "      <th>97107</th>\n",
       "      <td>INOX</td>\n",
       "      <td>INOX</td>\n",
       "      <td>NaN</td>\n",
       "      <td>TRAMONTINA</td>\n",
       "      <td>COZI-VAPORE</td>\n",
       "      <td>25.3</td>\n",
       "      <td>1.7</td>\n",
       "      <td>18.1</td>\n",
       "      <td>10.0</td>\n",
       "      <td>460.0</td>\n",
       "      <td>12.0</td>\n",
       "      <td>114.99</td>\n",
       "      <td>1.0</td>\n",
       "      <td>0.0</td>\n",
       "      <td>0.0</td>\n",
       "      <td>0.0</td>\n",
       "      <td>0.0</td>\n",
       "      <td>0.0</td>\n",
       "      <td>0.0</td>\n",
       "    </tr>\n",
       "    <tr>\n",
       "      <th>65373</th>\n",
       "      <td>ALUMINIO</td>\n",
       "      <td>VERMELHO</td>\n",
       "      <td>NaN</td>\n",
       "      <td>BRINOX</td>\n",
       "      <td>FRIGIDEIRA</td>\n",
       "      <td>7.0</td>\n",
       "      <td>NaN</td>\n",
       "      <td>20.0</td>\n",
       "      <td>38.5</td>\n",
       "      <td>NaN</td>\n",
       "      <td>NaN</td>\n",
       "      <td>NaN</td>\n",
       "      <td>NaN</td>\n",
       "      <td>NaN</td>\n",
       "      <td>0.0</td>\n",
       "      <td>0.0</td>\n",
       "      <td>0.0</td>\n",
       "      <td>0.0</td>\n",
       "      <td>0.0</td>\n",
       "    </tr>\n",
       "    <tr>\n",
       "      <th>62247</th>\n",
       "      <td>ALUMINIO</td>\n",
       "      <td>LARANJA</td>\n",
       "      <td>REDONDO</td>\n",
       "      <td>HERCULES</td>\n",
       "      <td>CACAROLA</td>\n",
       "      <td>28.0</td>\n",
       "      <td>4.3</td>\n",
       "      <td>13.0</td>\n",
       "      <td>27.5</td>\n",
       "      <td>20.0</td>\n",
       "      <td>3.0</td>\n",
       "      <td>NaN</td>\n",
       "      <td>0.0</td>\n",
       "      <td>0.0</td>\n",
       "      <td>1.0</td>\n",
       "      <td>0.0</td>\n",
       "      <td>0.0</td>\n",
       "      <td>0.0</td>\n",
       "      <td>0.0</td>\n",
       "    </tr>\n",
       "    <tr>\n",
       "      <th>146636</th>\n",
       "      <td>INOX</td>\n",
       "      <td>AZUL</td>\n",
       "      <td>NaN</td>\n",
       "      <td>VEC</td>\n",
       "      <td>CHALEIRA</td>\n",
       "      <td>23.0</td>\n",
       "      <td>NaN</td>\n",
       "      <td>20.0</td>\n",
       "      <td>21.0</td>\n",
       "      <td>NaN</td>\n",
       "      <td>NaN</td>\n",
       "      <td>34.99</td>\n",
       "      <td>NaN</td>\n",
       "      <td>NaN</td>\n",
       "      <td>0.0</td>\n",
       "      <td>0.0</td>\n",
       "      <td>0.0</td>\n",
       "      <td>0.0</td>\n",
       "      <td>0.0</td>\n",
       "    </tr>\n",
       "    <tr>\n",
       "      <th>43560</th>\n",
       "      <td>ALUMINIO</td>\n",
       "      <td>VERMELHO</td>\n",
       "      <td>REDONDO</td>\n",
       "      <td>TRAMONTINA</td>\n",
       "      <td>PIPOQUEIRA</td>\n",
       "      <td>49.5</td>\n",
       "      <td>6.0</td>\n",
       "      <td>41.5</td>\n",
       "      <td>47.0</td>\n",
       "      <td>120.0</td>\n",
       "      <td>NaN</td>\n",
       "      <td>105.90</td>\n",
       "      <td>1.0</td>\n",
       "      <td>NaN</td>\n",
       "      <td>0.0</td>\n",
       "      <td>0.0</td>\n",
       "      <td>1.0</td>\n",
       "      <td>0.0</td>\n",
       "      <td>1.0</td>\n",
       "    </tr>\n",
       "  </tbody>\n",
       "</table>\n",
       "</div>"
      ],
      "text/plain": [
       "       COMPOSICAO       COR  FORMATO  ... TEM_TAMPA TIPO_WOK  INTERESTED\n",
       "97107        INOX      INOX      NaN  ...       0.0      0.0         0.0\n",
       "65373    ALUMINIO  VERMELHO      NaN  ...       0.0      0.0         0.0\n",
       "62247    ALUMINIO   LARANJA  REDONDO  ...       0.0      0.0         0.0\n",
       "146636       INOX      AZUL      NaN  ...       0.0      0.0         0.0\n",
       "43560    ALUMINIO  VERMELHO  REDONDO  ...       1.0      0.0         1.0\n",
       "\n",
       "[5 rows x 19 columns]"
      ]
     },
     "execution_count": 17,
     "metadata": {
      "tags": []
     },
     "output_type": "execute_result"
    }
   ],
   "source": [
    "colunas_dados = categoricas + dimensoes + outras + booleanas\n",
    "dados = dados[colunas_dados]; dados.sample(5)"
   ]
  },
  {
   "cell_type": "markdown",
   "metadata": {
    "colab_type": "text",
    "id": "ieeRyVh_WA_a"
   },
   "source": [
    "## Exploração do dataset para tratamento dos dados missing"
   ]
  },
  {
   "cell_type": "code",
   "execution_count": 0,
   "metadata": {
    "colab": {
     "base_uri": "https://localhost:8080/",
     "height": 34
    },
    "colab_type": "code",
    "id": "YlE5mzxcMPps",
    "outputId": "a5823056-6f27-4dea-c81b-0d5cc285694b"
   },
   "outputs": [
    {
     "name": "stdout",
     "output_type": "stream",
     "text": [
      "O tamanho do dataset é 180275. Para cada categoria temos um percentual de valores missing.\n"
     ]
    }
   ],
   "source": [
    "print(f\"O tamanho do dataset é {tamanho_dataset}. Para cada categoria temos um percentual de valores missing.\")"
   ]
  },
  {
   "cell_type": "code",
   "execution_count": 0,
   "metadata": {
    "colab": {},
    "colab_type": "code",
    "id": "xYaogCtJeJ4j"
   },
   "outputs": [],
   "source": [
    "# função para verificar a quantidade de dados nan presentes\n",
    "def prop_missing():\n",
    "  print('Proporção de valores nan por coluna do dataset: \\n')\n",
    "  return (dados.isnull().sum()/tamanho_dataset).sort_values(ascending=False)"
   ]
  },
  {
   "cell_type": "code",
   "execution_count": 0,
   "metadata": {
    "colab": {
     "base_uri": "https://localhost:8080/",
     "height": 399
    },
    "colab_type": "code",
    "id": "XKLRKfKhefY7",
    "outputId": "78e98e54-ba49-47ea-d298-2dedc7e75551"
   },
   "outputs": [
    {
     "name": "stdout",
     "output_type": "stream",
     "text": [
      "Proporção de valores nan por coluna do dataset: \n",
      "\n"
     ]
    },
    {
     "data": {
      "text/plain": [
       "CAPACIDADE_(L)       0.574700\n",
       "PARA_MICRO_ONDAS     0.520721\n",
       "FORMATO              0.500702\n",
       "PESO                 0.453479\n",
       "PARA_LAVA_LOUCAS     0.422627\n",
       "TEMPO_GARANTIA       0.318985\n",
       "COMPOSICAO           0.129230\n",
       "ITEM_PRICE           0.072650\n",
       "COR                  0.055604\n",
       "PROFUNDIDADE         0.051410\n",
       "LARGURA              0.051410\n",
       "ALTURA               0.051410\n",
       "MARCA                0.001520\n",
       "TEM_FERRO_FUNDIDO    0.000000\n",
       "TIPO_WOK             0.000000\n",
       "TEM_GRELHA           0.000000\n",
       "TIPO_PRODUTO         0.000000\n",
       "TEM_TAMPA            0.000000\n",
       "INTERESTED           0.000000\n",
       "dtype: float64"
      ]
     },
     "execution_count": 20,
     "metadata": {
      "tags": []
     },
     "output_type": "execute_result"
    }
   ],
   "source": [
    "prop_missing()"
   ]
  },
  {
   "cell_type": "markdown",
   "metadata": {
    "colab_type": "text",
    "id": "tVuAHcdIBnIw"
   },
   "source": [
    "### Limpeza do Dataset"
   ]
  },
  {
   "cell_type": "markdown",
   "metadata": {
    "colab_type": "text",
    "id": "0IsnMPzsR5FF"
   },
   "source": [
    "#### Tratamento do \"CAPACIDADE_(L)\""
   ]
  },
  {
   "cell_type": "code",
   "execution_count": 0,
   "metadata": {
    "colab": {
     "base_uri": "https://localhost:8080/",
     "height": 156
    },
    "colab_type": "code",
    "id": "6ezF6MugZmHd",
    "outputId": "319672a4-42f0-4000-c247-9fa5d24dba30"
   },
   "outputs": [
    {
     "data": {
      "text/plain": [
       "array(['PANELA', 'PIPOQUEIRA', 'ESPAGUETEIRA', 'WOK', 'CACAROLA',\n",
       "       'CUSCUZEIRA', 'CHAPA', 'CHALEIRA', 'FRIGIDEIRA', 'FERVEDOR',\n",
       "       'SANDUICHEIRA', 'FONDUE', 'MINI-CACAROLA', 'OMELETEIRA',\n",
       "       'PAELLERA', 'BIFETEIRA', 'CUMBUCA', 'PANQUEQUEIRA', 'FRITADEIRA',\n",
       "       'FOGAREIRO', 'FORMA', 'CALDEIRAO', 'GRILL', 'ASSADEIRA',\n",
       "       'LEITEIRA', 'TAMPA', 'PRENSADOR', 'CUSCUZEIRO', 'FORNO',\n",
       "       'BISTEQUEIRA', 'CREMEIRA', 'VAPORELLA', 'CANECA/FERVEDOR'],\n",
       "      dtype=object)"
      ]
     },
     "execution_count": 21,
     "metadata": {
      "tags": []
     },
     "output_type": "execute_result"
    }
   ],
   "source": [
    "# Vamos começar com a capacidade:\n",
    "# Dependendo do tipo de produto, a sua capacidade será nula, como chapas que n possuem volume.\n",
    "# vamos verificar os tipos com capacidade nan relevantes\n",
    "dados.TIPO_PRODUTO[dados['CAPACIDADE_(L)'].isna()].unique()"
   ]
  },
  {
   "cell_type": "code",
   "execution_count": 0,
   "metadata": {
    "colab": {},
    "colab_type": "code",
    "id": "D8R-Iv6omLDa"
   },
   "outputs": [],
   "source": [
    "capacidade_nula = ['CHAPA', 'BIFETEIRA', 'FOGAREIRO', 'SANDUICHEIRA', 'TAMPA', 'GRILL', 'PRENSADOR', 'VAPORELLA']"
   ]
  },
  {
   "cell_type": "code",
   "execution_count": 0,
   "metadata": {
    "colab": {},
    "colab_type": "code",
    "id": "UxSkaaiB_nme"
   },
   "outputs": [],
   "source": [
    "# buscando os índices\n",
    "indices = dados[dados[\"CAPACIDADE_(L)\"].isna()].query(f\"TIPO_PRODUTO in {capacidade_nula}\").index"
   ]
  },
  {
   "cell_type": "code",
   "execution_count": 0,
   "metadata": {
    "colab": {},
    "colab_type": "code",
    "id": "5eLHtvqZf2tR"
   },
   "outputs": [],
   "source": [
    "#mapeando e substitundo os dados no dataset\n",
    "dados[\"CAPACIDADE_(L)\"].iloc[indices] = dados[\"CAPACIDADE_(L)\"].iloc[indices].map(lambda x: 0.0)"
   ]
  },
  {
   "cell_type": "code",
   "execution_count": 0,
   "metadata": {
    "colab": {
     "base_uri": "https://localhost:8080/",
     "height": 86
    },
    "colab_type": "code",
    "id": "PVXsOXbxiSfE",
    "outputId": "2c359118-77f8-478a-d51a-b3c3bf19694a"
   },
   "outputs": [
    {
     "name": "stdout",
     "output_type": "stream",
     "text": [
      "Proporção de valores nan por coluna do dataset: \n",
      "\n"
     ]
    },
    {
     "data": {
      "text/plain": [
       "CAPACIDADE_(L)    0.536464\n",
       "dtype: float64"
      ]
     },
     "execution_count": 25,
     "metadata": {
      "tags": []
     },
     "output_type": "execute_result"
    }
   ],
   "source": [
    "# aqui vemos uma leve redução de aproximadamente 4% dos nan desta categoria\n",
    "prop_missing()[0:1]"
   ]
  },
  {
   "cell_type": "markdown",
   "metadata": {
    "colab_type": "text",
    "id": "kjBXoaL4SA6e"
   },
   "source": [
    "#### Tratamento do \"PARA_MICRO_ONDAS\""
   ]
  },
  {
   "cell_type": "code",
   "execution_count": 0,
   "metadata": {
    "colab": {
     "base_uri": "https://localhost:8080/",
     "height": 86
    },
    "colab_type": "code",
    "id": "TJXTGIBFdax1",
    "outputId": "94398684-4797-4035-9acd-bfe9f3a82bef"
   },
   "outputs": [
    {
     "name": "stdout",
     "output_type": "stream",
     "text": [
      "Proporção de valores nan por coluna do dataset: \n",
      "\n"
     ]
    },
    {
     "data": {
      "text/plain": [
       "PARA_MICRO_ONDAS    0.520721\n",
       "dtype: float64"
      ]
     },
     "execution_count": 26,
     "metadata": {
      "tags": []
     },
     "output_type": "execute_result"
    }
   ],
   "source": [
    "# trabalharos dados microondas\n",
    "prop_missing()[1:2]"
   ]
  },
  {
   "cell_type": "code",
   "execution_count": 0,
   "metadata": {
    "colab": {
     "base_uri": "https://localhost:8080/",
     "height": 69
    },
    "colab_type": "code",
    "id": "Q6FTxGe-rjiW",
    "outputId": "286da4e4-e7b8-4b7d-b6ce-5dae554872db"
   },
   "outputs": [
    {
     "data": {
      "text/plain": [
       "ALUMINIO    58662\n",
       "INOX        13844\n",
       "Name: COMPOSICAO, dtype: int64"
      ]
     },
     "execution_count": 27,
     "metadata": {
      "tags": []
     },
     "output_type": "execute_result"
    }
   ],
   "source": [
    "# alguns tipos de produtos não são próprios para microondas \n",
    "# podemos tentar filtrar por material (eliminando metais) ou por produto\n",
    "dados.COMPOSICAO[dados.PARA_MICRO_ONDAS.isna()].value_counts() # também possui nan"
   ]
  },
  {
   "cell_type": "code",
   "execution_count": 0,
   "metadata": {
    "colab": {},
    "colab_type": "code",
    "id": "xK-FDtdBpas1"
   },
   "outputs": [],
   "source": [
    "proibe_microondas = [\"ALUMINIO\", \"INOX\"] # metal X microondas\n",
    "indices = dados[[\"COMPOSICAO\", \"PARA_MICRO_ONDAS\"]][dados.PARA_MICRO_ONDAS.isna()].query(f\"COMPOSICAO in {proibe_microondas}\").index\n",
    "dados[\"PARA_MICRO_ONDAS\"].iloc[indices] = dados[\"PARA_MICRO_ONDAS\"].iloc[indices].map(lambda x: 0.0)"
   ]
  },
  {
   "cell_type": "code",
   "execution_count": 0,
   "metadata": {
    "colab": {
     "base_uri": "https://localhost:8080/",
     "height": 86
    },
    "colab_type": "code",
    "id": "QrOBD49stt0s",
    "outputId": "8698c5e6-239f-496e-d213-e21f9bb59b00"
   },
   "outputs": [
    {
     "name": "stdout",
     "output_type": "stream",
     "text": [
      "Proporção de valores nan por coluna do dataset: \n",
      "\n"
     ]
    },
    {
     "data": {
      "text/plain": [
       "PARA_MICRO_ONDAS    0.118524\n",
       "dtype: float64"
      ]
     },
     "execution_count": 29,
     "metadata": {
      "tags": []
     },
     "output_type": "execute_result"
    }
   ],
   "source": [
    "# já mudou a sequência, aproximadamente 40% devalores preenchidos\n",
    "prop_missing()[6:7]"
   ]
  },
  {
   "cell_type": "code",
   "execution_count": 0,
   "metadata": {
    "colab": {
     "base_uri": "https://localhost:8080/",
     "height": 104
    },
    "colab_type": "code",
    "id": "NU37Nv24uQ9x",
    "outputId": "d5463fbf-f205-4388-bf9f-478ca32dddae"
   },
   "outputs": [
    {
     "data": {
      "text/plain": [
       "array(['CACAROLA', 'CHAPA', 'PANELA', 'FRIGIDEIRA', 'SANDUICHEIRA',\n",
       "       'FONDUE', 'MINI-CACAROLA', 'BIFETEIRA', 'CUMBUCA', 'FOGAREIRO',\n",
       "       'PIPOQUEIRA', 'FORMA', 'CALDEIRAO', 'ASSADEIRA', 'GRILL',\n",
       "       'ESPAGUETEIRA', 'PANQUEQUEIRA', 'PRENSADOR', 'CHALEIRA', 'FORNO',\n",
       "       'FERVEDOR'], dtype=object)"
      ]
     },
     "execution_count": 30,
     "metadata": {
      "tags": []
     },
     "output_type": "execute_result"
    }
   ],
   "source": [
    "# produtos com microondas missing\n",
    "dados.TIPO_PRODUTO[dados.PARA_MICRO_ONDAS.isna()].unique()"
   ]
  },
  {
   "cell_type": "code",
   "execution_count": 0,
   "metadata": {
    "colab": {},
    "colab_type": "code",
    "id": "dieb-S1nvOpp"
   },
   "outputs": [],
   "source": [
    "# lista com itens que possuem a opção de ir ao microondas \n",
    "# (alguns itens possuem versões alternativas para microondas, mas vou generalizar e atentar aos itens obvios)\n",
    "on_micro = ['CUMBUCA']"
   ]
  },
  {
   "cell_type": "code",
   "execution_count": 0,
   "metadata": {
    "colab": {
     "base_uri": "https://localhost:8080/",
     "height": 104
    },
    "colab_type": "code",
    "id": "LVId7m-O1aIL",
    "outputId": "51d45fa2-275b-4567-c4fe-bafebe0e8f81"
   },
   "outputs": [
    {
     "name": "stderr",
     "output_type": "stream",
     "text": [
      "/usr/local/lib/python3.6/dist-packages/pandas/core/indexing.py:205: SettingWithCopyWarning: \n",
      "A value is trying to be set on a copy of a slice from a DataFrame\n",
      "\n",
      "See the caveats in the documentation: http://pandas.pydata.org/pandas-docs/stable/user_guide/indexing.html#returning-a-view-versus-a-copy\n",
      "  self._setitem_with_indexer(indexer, value)\n"
     ]
    }
   ],
   "source": [
    "indices1 = dados[[\"TIPO_PRODUTO\", \"PARA_MICRO_ONDAS\"]][dados.PARA_MICRO_ONDAS.isna()].query(f\"TIPO_PRODUTO in {on_micro}\").index # pega valores ce cumbuca\n",
    "indices2 = dados[[\"TIPO_PRODUTO\", \"PARA_MICRO_ONDAS\"]][dados.PARA_MICRO_ONDAS.isna()].index # alterando todos os valores para zero\n",
    "dados[\"PARA_MICRO_ONDAS\"].iloc[indices2] = dados[\"PARA_MICRO_ONDAS\"].iloc[indices2].map(lambda x: 0.0)\n",
    "dados[\"PARA_MICRO_ONDAS\"].iloc[indices1] = dados[\"PARA_MICRO_ONDAS\"].iloc[indices1].map(lambda x: 1.0) # alterando para 1 os valores de cumbuca"
   ]
  },
  {
   "cell_type": "code",
   "execution_count": 0,
   "metadata": {
    "colab": {
     "base_uri": "https://localhost:8080/",
     "height": 86
    },
    "colab_type": "code",
    "id": "Qg8ZtLfl2YH2",
    "outputId": "508a30da-12f1-4c1f-a50b-3a2868d3f426"
   },
   "outputs": [
    {
     "name": "stdout",
     "output_type": "stream",
     "text": [
      "Proporção de valores nan por coluna do dataset: \n",
      "\n"
     ]
    },
    {
     "data": {
      "text/plain": [
       "PARA_MICRO_ONDAS    0.0\n",
       "dtype: float64"
      ]
     },
     "execution_count": 33,
     "metadata": {
      "tags": []
     },
     "output_type": "execute_result"
    }
   ],
   "source": [
    "# perfeito, conseguimos eliminar todos os nan desta coluna.\n",
    "prop_missing()[12:13]"
   ]
  },
  {
   "cell_type": "markdown",
   "metadata": {
    "colab_type": "text",
    "id": "FLKs_Qm6RQ5-"
   },
   "source": [
    "#### Tratamento do \"PARA_LAVA_LOUCAS\""
   ]
  },
  {
   "cell_type": "code",
   "execution_count": 0,
   "metadata": {
    "colab": {
     "base_uri": "https://localhost:8080/",
     "height": 86
    },
    "colab_type": "code",
    "id": "tu6Wi-dO3CZp",
    "outputId": "063d1939-3801-4294-f279-4337fbe41e19"
   },
   "outputs": [
    {
     "name": "stdout",
     "output_type": "stream",
     "text": [
      "Proporção de valores nan por coluna do dataset: \n",
      "\n"
     ]
    },
    {
     "data": {
      "text/plain": [
       "PARA_LAVA_LOUCAS    0.422627\n",
       "dtype: float64"
      ]
     },
     "execution_count": 34,
     "metadata": {
      "tags": []
     },
     "output_type": "execute_result"
    }
   ],
   "source": [
    "# com a mesma lógica vamos trabalhar com a coluna lava_louças\n",
    "prop_missing()[3:4]"
   ]
  },
  {
   "cell_type": "code",
   "execution_count": 0,
   "metadata": {
    "colab": {
     "base_uri": "https://localhost:8080/",
     "height": 139
    },
    "colab_type": "code",
    "id": "6c13mobqCjp0",
    "outputId": "a1162d51-8333-427a-d84b-9c6a7656965b"
   },
   "outputs": [
    {
     "data": {
      "text/plain": [
       "array(['PANELA', 'CACAROLA', 'CHAPA', 'CHALEIRA', 'FRIGIDEIRA',\n",
       "       'SANDUICHEIRA', 'FONDUE', 'PIPOQUEIRA', 'MINI-CACAROLA',\n",
       "       'OMELETEIRA', 'PAELLERA', 'BIFETEIRA', 'CUMBUCA', 'WOK',\n",
       "       'PANQUEQUEIRA', 'ESPAGUETEIRA', 'FRITADEIRA', 'FOGAREIRO',\n",
       "       'CUSCUZEIRA', 'FORMA', 'CALDEIRAO', 'GRILL', 'FERVEDOR',\n",
       "       'ASSADEIRA', 'LEITEIRA', 'TAMPA', 'PRENSADOR', 'FORNO',\n",
       "       'CANECA/FERVEDOR'], dtype=object)"
      ]
     },
     "execution_count": 35,
     "metadata": {
      "tags": []
     },
     "output_type": "execute_result"
    }
   ],
   "source": [
    "# dependendo do tipo do produto, e.g., algo elétrico\n",
    "dados[dados.PARA_LAVA_LOUCAS.isna()].TIPO_PRODUTO.unique()"
   ]
  },
  {
   "cell_type": "code",
   "execution_count": 0,
   "metadata": {
    "colab": {},
    "colab_type": "code",
    "id": "Hpy_q0A254sX"
   },
   "outputs": [],
   "source": [
    "# seria interessante se tivesse uma coluna dizendo se o produto é elétrico. No caso da pipoqueira ou grill fica difícil definir o tipo\n",
    "nao_lava_loucas = [\"FOGAREIRO\", \"SANDUICHEIRA\", \"FORNO\"]\n",
    "indices = dados[[\"TIPO_PRODUTO\", \"PARA_LAVA_LOUCAS\"]][dados.PARA_LAVA_LOUCAS.isna()].query(f\"TIPO_PRODUTO in {nao_lava_loucas}\").index\n",
    "dados[\"PARA_LAVA_LOUCAS\"].iloc[indices] = dados[\"PARA_LAVA_LOUCAS\"].iloc[indices].map(lambda x: 0.0)"
   ]
  },
  {
   "cell_type": "code",
   "execution_count": 0,
   "metadata": {
    "colab": {
     "base_uri": "https://localhost:8080/",
     "height": 86
    },
    "colab_type": "code",
    "id": "UjuSeebECQEI",
    "outputId": "a222a4b6-f01e-4352-8030-5a649869c34e"
   },
   "outputs": [
    {
     "name": "stdout",
     "output_type": "stream",
     "text": [
      "Proporção de valores nan por coluna do dataset: \n",
      "\n"
     ]
    },
    {
     "data": {
      "text/plain": [
       "PARA_LAVA_LOUCAS    0.418461\n",
       "dtype: float64"
      ]
     },
     "execution_count": 37,
     "metadata": {
      "tags": []
     },
     "output_type": "execute_result"
    }
   ],
   "source": [
    "# aqui já forma reduzidos bem menos\n",
    "prop_missing()[3:4]"
   ]
  },
  {
   "cell_type": "markdown",
   "metadata": {
    "colab_type": "text",
    "id": "KJkBKotCQ7FO"
   },
   "source": [
    "#### Tratamento do \"FORMATO\""
   ]
  },
  {
   "cell_type": "code",
   "execution_count": 0,
   "metadata": {
    "colab": {
     "base_uri": "https://localhost:8080/",
     "height": 86
    },
    "colab_type": "code",
    "id": "zt8x5ERZFhTg",
    "outputId": "bcb2cae5-2b0e-494d-a9a5-a90b3d3f6652"
   },
   "outputs": [
    {
     "name": "stdout",
     "output_type": "stream",
     "text": [
      "Proporção de valores nan por coluna do dataset: \n",
      "\n"
     ]
    },
    {
     "data": {
      "text/plain": [
       "FORMATO    0.500702\n",
       "dtype: float64"
      ]
     },
     "execution_count": 38,
     "metadata": {
      "tags": []
     },
     "output_type": "execute_result"
    }
   ],
   "source": [
    "# Outra verificação similar é a do formato\n",
    "prop_missing()[1:2]"
   ]
  },
  {
   "cell_type": "code",
   "execution_count": 0,
   "metadata": {
    "colab": {
     "base_uri": "https://localhost:8080/",
     "height": 121
    },
    "colab_type": "code",
    "id": "4CxKmU4FTQDt",
    "outputId": "b3d5427b-aeb0-4574-bd51-66d0d720e74f"
   },
   "outputs": [
    {
     "data": {
      "text/plain": [
       "array(['PANELA', 'PIPOQUEIRA', 'ESPAGUETEIRA', 'CREMEIRA', 'CUSCUZEIRA',\n",
       "       'CHALEIRA', 'CHAPA', 'FERVEDOR', 'FRIGIDEIRA', 'CACAROLA',\n",
       "       'PAELLERA', 'CALDEIRAO', 'WOK', 'PANQUEQUEIRA', 'FRITADEIRA',\n",
       "       'FORMA', 'BULE', 'GRILL', 'OMELETEIRA', 'COZI-VAPORE', 'LEITEIRA',\n",
       "       'FOGAREIRO', 'COZI-PASTA', 'CUSCUZEIRO', 'BISTEQUEIRA',\n",
       "       'SANDUICHEIRA', 'VAPORELLA'], dtype=object)"
      ]
     },
     "execution_count": 39,
     "metadata": {
      "tags": []
     },
     "output_type": "execute_result"
    }
   ],
   "source": [
    "dados[dados.FORMATO.isna()].TIPO_PRODUTO.unique()"
   ]
  },
  {
   "cell_type": "code",
   "execution_count": 0,
   "metadata": {
    "colab": {
     "base_uri": "https://localhost:8080/",
     "height": 52
    },
    "colab_type": "code",
    "id": "5p1jBaUqQZR4",
    "outputId": "f231e566-3ac4-4270-de44-e1e05bc8bfe5"
   },
   "outputs": [
    {
     "data": {
      "text/plain": [
       "array([nan, 'REDONDO', 'FRIGIDEIRA', 'OVAL', 'QUADRADO', 'RETANGULAR'],\n",
       "      dtype=object)"
      ]
     },
     "execution_count": 40,
     "metadata": {
      "tags": []
     },
     "output_type": "execute_result"
    }
   ],
   "source": [
    "# formatos no dataset\n",
    "dados.FORMATO.unique()"
   ]
  },
  {
   "cell_type": "code",
   "execution_count": 0,
   "metadata": {
    "colab": {
     "base_uri": "https://localhost:8080/",
     "height": 86
    },
    "colab_type": "code",
    "id": "Gp2K-9ZlJgo6",
    "outputId": "ee7fff25-199a-49c5-eb5f-6e3a70fdc85b"
   },
   "outputs": [
    {
     "data": {
      "text/plain": [
       "REDONDO       42808\n",
       "OVAL            553\n",
       "RETANGULAR      300\n",
       "Name: FORMATO, dtype: int64"
      ]
     },
     "execution_count": 41,
     "metadata": {
      "tags": []
     },
     "output_type": "execute_result"
    }
   ],
   "source": [
    "# mostra a similaridade. há panelas em outros formatos\n",
    "dados.query(\"TIPO_PRODUTO == 'PANELA'\").FORMATO.value_counts()"
   ]
  },
  {
   "cell_type": "code",
   "execution_count": 0,
   "metadata": {
    "colab": {
     "base_uri": "https://localhost:8080/",
     "height": 52
    },
    "colab_type": "code",
    "id": "U62iv05KIP0E",
    "outputId": "f769d48e-030c-4a6d-9290-456019562a7e"
   },
   "outputs": [
    {
     "data": {
      "text/plain": [
       "REDONDO    1163\n",
       "Name: FORMATO, dtype: int64"
      ]
     },
     "execution_count": 42,
     "metadata": {
      "tags": []
     },
     "output_type": "execute_result"
    }
   ],
   "source": [
    "# mostra a similaridade. Estou fazendo este teste o tempo todo, vou deixar aqui como exemplo\n",
    "dados.query(\"TIPO_PRODUTO == 'CHALEIRA'\").FORMATO.value_counts()"
   ]
  },
  {
   "cell_type": "code",
   "execution_count": 0,
   "metadata": {
    "colab": {},
    "colab_type": "code",
    "id": "eQ7TMCW6IHSj"
   },
   "outputs": [],
   "source": [
    "# completando os que possuem 100% dos casos verificados\n",
    "formato_redondo = ['CHALEIRA', 'PIPOQUEIRA', 'ESPAGUETEIRA', 'FERVEDOR', 'CALDEIRAO', 'BULE', 'PANQUEQUEIRA', 'PAELLERA', 'OMELETEIRA', 'LEITEIRA']\n",
    "# formato onde todos os valores estão missing, não estão listados\n",
    "formato_outros = ['CREMEIRA', 'CUSCUZEIRA', 'FRITADEIRA', 'COZI-VAPORE', 'COZI-PASTA', 'BISTEQUEIRA', 'VAPORELLA']"
   ]
  },
  {
   "cell_type": "code",
   "execution_count": 0,
   "metadata": {
    "colab": {},
    "colab_type": "code",
    "id": "Bc4ovFDrHFGG"
   },
   "outputs": [],
   "source": [
    "# transformando redondos missing\n",
    "indices = dados[[\"TIPO_PRODUTO\", \"FORMATO\"]][dados.FORMATO.isna()].query(f\"TIPO_PRODUTO in {formato_redondo}\").index\n",
    "dados[\"FORMATO\"].iloc[indices] = dados[\"FORMATO\"].iloc[indices].map(lambda x: \"REDONDO\")"
   ]
  },
  {
   "cell_type": "code",
   "execution_count": 0,
   "metadata": {
    "colab": {
     "base_uri": "https://localhost:8080/",
     "height": 104
    },
    "colab_type": "code",
    "id": "1H6_b5BxSawL",
    "outputId": "20ff3ea6-91b5-4170-f691-8f7db5479bd6"
   },
   "outputs": [
    {
     "name": "stderr",
     "output_type": "stream",
     "text": [
      "/usr/local/lib/python3.6/dist-packages/pandas/core/indexing.py:205: SettingWithCopyWarning: \n",
      "A value is trying to be set on a copy of a slice from a DataFrame\n",
      "\n",
      "See the caveats in the documentation: http://pandas.pydata.org/pandas-docs/stable/user_guide/indexing.html#returning-a-view-versus-a-copy\n",
      "  self._setitem_with_indexer(indexer, value)\n"
     ]
    }
   ],
   "source": [
    "# transformando outros missing\n",
    "indices = dados[[\"TIPO_PRODUTO\", \"FORMATO\"]][dados.FORMATO.isna()].query(f\"TIPO_PRODUTO in {formato_outros}\").index\n",
    "dados[\"FORMATO\"].iloc[indices] = dados[\"FORMATO\"].iloc[indices].map(lambda x: \"OUTROS\")"
   ]
  },
  {
   "cell_type": "code",
   "execution_count": 0,
   "metadata": {
    "colab": {
     "base_uri": "https://localhost:8080/",
     "height": 86
    },
    "colab_type": "code",
    "id": "P7lBxMW0S3Yy",
    "outputId": "587d7545-1b1a-4534-8b7c-7b3468cdc185"
   },
   "outputs": [
    {
     "name": "stdout",
     "output_type": "stream",
     "text": [
      "Proporção de valores nan por coluna do dataset: \n",
      "\n"
     ]
    },
    {
     "data": {
      "text/plain": [
       "FORMATO    0.230692\n",
       "dtype: float64"
      ]
     },
     "execution_count": 46,
     "metadata": {
      "tags": []
     },
     "output_type": "execute_result"
    }
   ],
   "source": [
    "# com esse tratamento a proporção de missings nesta variável já caiu pela metade\n",
    "prop_missing()[4:5]"
   ]
  },
  {
   "cell_type": "markdown",
   "metadata": {
    "colab_type": "text",
    "id": "CdUWmI4omnrT"
   },
   "source": [
    "#### Outra aplicação em \"PARA_LAVA_LOUCAS\""
   ]
  },
  {
   "cell_type": "code",
   "execution_count": 0,
   "metadata": {
    "colab": {
     "base_uri": "https://localhost:8080/",
     "height": 86
    },
    "colab_type": "code",
    "id": "hQyZ2nANTFPy",
    "outputId": "d7f31770-889d-47d7-919c-a5b512ab2d85"
   },
   "outputs": [
    {
     "name": "stdout",
     "output_type": "stream",
     "text": [
      "Proporção de valores nan por coluna do dataset: \n",
      "\n"
     ]
    },
    {
     "data": {
      "text/plain": [
       "PARA_LAVA_LOUCAS    0.418461\n",
       "dtype: float64"
      ]
     },
     "execution_count": 47,
     "metadata": {
      "tags": []
     },
     "output_type": "execute_result"
    }
   ],
   "source": [
    "prop_missing()[2:3]"
   ]
  },
  {
   "cell_type": "code",
   "execution_count": 0,
   "metadata": {
    "colab": {
     "base_uri": "https://localhost:8080/",
     "height": 121
    },
    "colab_type": "code",
    "id": "rVvnuvYVUDig",
    "outputId": "d0a6586d-1a3c-4613-8c4c-cb202bd58177"
   },
   "outputs": [
    {
     "data": {
      "text/plain": [
       "array(['PANELA', 'CACAROLA', 'CHAPA', 'CHALEIRA', 'FRIGIDEIRA', 'FONDUE',\n",
       "       'PIPOQUEIRA', 'MINI-CACAROLA', 'OMELETEIRA', 'PAELLERA',\n",
       "       'BIFETEIRA', 'CUMBUCA', 'WOK', 'PANQUEQUEIRA', 'ESPAGUETEIRA',\n",
       "       'FRITADEIRA', 'CUSCUZEIRA', 'FORMA', 'CALDEIRAO', 'GRILL',\n",
       "       'FERVEDOR', 'ASSADEIRA', 'LEITEIRA', 'TAMPA', 'PRENSADOR',\n",
       "       'CANECA/FERVEDOR'], dtype=object)"
      ]
     },
     "execution_count": 48,
     "metadata": {
      "tags": []
     },
     "output_type": "execute_result"
    }
   ],
   "source": [
    "# de forma semelhante a anterior, filtrando baseado nos valores do mesmo tipo no dataset, vou preencher os com 100%\n",
    "dados[[\"TIPO_PRODUTO\",\"PARA_LAVA_LOUCAS\"]][dados.PARA_LAVA_LOUCAS.isna()].TIPO_PRODUTO.unique()"
   ]
  },
  {
   "cell_type": "code",
   "execution_count": 0,
   "metadata": {
    "colab": {},
    "colab_type": "code",
    "id": "-iFUzr9xjCtn"
   },
   "outputs": [],
   "source": [
    "# valores obtidos depois da pesquisa\n",
    "todos_nao_lava = ['PANQUEQUEIRA', 'FERVEDOR']\n",
    "todos_lava = ['CUSCUZEIRA','FORMA']"
   ]
  },
  {
   "cell_type": "code",
   "execution_count": 0,
   "metadata": {
    "colab": {
     "base_uri": "https://localhost:8080/",
     "height": 104
    },
    "colab_type": "code",
    "id": "j4G8nRuz1axK",
    "outputId": "c635d6cc-374b-4d63-ea99-684b44f4b020"
   },
   "outputs": [
    {
     "name": "stderr",
     "output_type": "stream",
     "text": [
      "/usr/local/lib/python3.6/dist-packages/pandas/core/indexing.py:205: SettingWithCopyWarning: \n",
      "A value is trying to be set on a copy of a slice from a DataFrame\n",
      "\n",
      "See the caveats in the documentation: http://pandas.pydata.org/pandas-docs/stable/user_guide/indexing.html#returning-a-view-versus-a-copy\n",
      "  self._setitem_with_indexer(indexer, value)\n"
     ]
    }
   ],
   "source": [
    "# atualização dos nan que não vão na lava_loucas\n",
    "indice = dados[dados.PARA_LAVA_LOUCAS.isna()].query(f\"TIPO_PRODUTO in {todos_nao_lava}\").index\n",
    "dados[\"PARA_LAVA_LOUCAS\"].iloc[indices] = dados[\"PARA_LAVA_LOUCAS\"].iloc[indices].map(lambda x: 0.0)"
   ]
  },
  {
   "cell_type": "code",
   "execution_count": 0,
   "metadata": {
    "colab": {
     "base_uri": "https://localhost:8080/",
     "height": 104
    },
    "colab_type": "code",
    "id": "_EsoBptS2oX-",
    "outputId": "b3234704-dfab-4cda-c23e-ab6aed38792c"
   },
   "outputs": [
    {
     "name": "stderr",
     "output_type": "stream",
     "text": [
      "/usr/local/lib/python3.6/dist-packages/pandas/core/indexing.py:205: SettingWithCopyWarning: \n",
      "A value is trying to be set on a copy of a slice from a DataFrame\n",
      "\n",
      "See the caveats in the documentation: http://pandas.pydata.org/pandas-docs/stable/user_guide/indexing.html#returning-a-view-versus-a-copy\n",
      "  self._setitem_with_indexer(indexer, value)\n"
     ]
    }
   ],
   "source": [
    "# atualização dos nan que vão na lava_loucas\n",
    "indice = dados[dados.PARA_LAVA_LOUCAS.isna()].query(f\"TIPO_PRODUTO in {todos_lava}\").index\n",
    "dados[\"PARA_LAVA_LOUCAS\"].iloc[indices] = dados[\"PARA_LAVA_LOUCAS\"].iloc[indices].map(lambda x: 1.0)"
   ]
  },
  {
   "cell_type": "code",
   "execution_count": 0,
   "metadata": {
    "colab": {
     "base_uri": "https://localhost:8080/",
     "height": 86
    },
    "colab_type": "code",
    "id": "GNqhrTni22K5",
    "outputId": "162f55f6-8d82-48bc-f29f-9ac39595ee67"
   },
   "outputs": [
    {
     "name": "stdout",
     "output_type": "stream",
     "text": [
      "Proporção de valores nan por coluna do dataset: \n",
      "\n"
     ]
    },
    {
     "data": {
      "text/plain": [
       "PARA_LAVA_LOUCAS    0.405647\n",
       "dtype: float64"
      ]
     },
     "execution_count": 52,
     "metadata": {
      "tags": []
     },
     "output_type": "execute_result"
    }
   ],
   "source": [
    "# diminui poouco a proporção missing\n",
    "prop_missing()[2:3]"
   ]
  },
  {
   "cell_type": "markdown",
   "metadata": {
    "colab_type": "text",
    "id": "Va8Kj0uM4ESM"
   },
   "source": [
    "### Tratamento dos dados dimensionais"
   ]
  },
  {
   "cell_type": "markdown",
   "metadata": {
    "colab_type": "text",
    "id": "i2e7-ujQVkeu"
   },
   "source": [
    "Para abordar os dados de capacidade, vou tentar procurar uma correlação entre as dimensões e volume. Em princípio a dimenção que n tem cabo (menor entre profundidade e largura) deve ter uma correlação com o volume do objeto."
   ]
  },
  {
   "cell_type": "code",
   "execution_count": 0,
   "metadata": {
    "colab": {
     "base_uri": "https://localhost:8080/",
     "height": 86
    },
    "colab_type": "code",
    "id": "RcnE1tnd22rv",
    "outputId": "882fe994-e12c-4b28-903c-c4dc5e9865ac"
   },
   "outputs": [
    {
     "name": "stdout",
     "output_type": "stream",
     "text": [
      "Proporção de valores nan por coluna do dataset: \n",
      "\n"
     ]
    },
    {
     "data": {
      "text/plain": [
       "CAPACIDADE_(L)    0.536464\n",
       "dtype: float64"
      ]
     },
     "execution_count": 53,
     "metadata": {
      "tags": []
     },
     "output_type": "execute_result"
    }
   ],
   "source": [
    "prop_missing()[0:1]"
   ]
  },
  {
   "cell_type": "code",
   "execution_count": 0,
   "metadata": {
    "colab": {},
    "colab_type": "code",
    "id": "yaUhQTwWhaiE"
   },
   "outputs": [],
   "source": [
    "lista_largura, lista_profundidade = list(dados.LARGURA), list(dados.PROFUNDIDADE)\n",
    "menor_dimensao = []\n",
    "for i in range(tamanho_dataset):\n",
    "  menor_dimensao.append(lista_largura[i] if (lista_largura[i] <= lista_profundidade[i]) else lista_profundidade[i])"
   ]
  },
  {
   "cell_type": "code",
   "execution_count": 0,
   "metadata": {
    "colab": {
     "base_uri": "https://localhost:8080/",
     "height": 225
    },
    "colab_type": "code",
    "id": "ixcznspHjtSW",
    "outputId": "88add275-5a6d-4743-d4bf-c6d2e5bb68df"
   },
   "outputs": [
    {
     "name": "stderr",
     "output_type": "stream",
     "text": [
      "/usr/local/lib/python3.6/dist-packages/ipykernel_launcher.py:2: SettingWithCopyWarning: \n",
      "A value is trying to be set on a copy of a slice from a DataFrame.\n",
      "Try using .loc[row_indexer,col_indexer] = value instead\n",
      "\n",
      "See the caveats in the documentation: http://pandas.pydata.org/pandas-docs/stable/user_guide/indexing.html#returning-a-view-versus-a-copy\n",
      "  \n",
      "/usr/local/lib/python3.6/dist-packages/ipykernel_launcher.py:3: SettingWithCopyWarning: \n",
      "A value is trying to be set on a copy of a slice from a DataFrame.\n",
      "Try using .loc[row_indexer,col_indexer] = value instead\n",
      "\n",
      "See the caveats in the documentation: http://pandas.pydata.org/pandas-docs/stable/user_guide/indexing.html#returning-a-view-versus-a-copy\n",
      "  This is separate from the ipykernel package so we can avoid doing imports until\n"
     ]
    }
   ],
   "source": [
    "df_dimensoes = dados[dimensoes]\n",
    "df_dimensoes['MENOR_DIM'] = menor_dimensao\n",
    "df_dimensoes['FORMATO'] = dados['FORMATO']"
   ]
  },
  {
   "cell_type": "code",
   "execution_count": 0,
   "metadata": {
    "colab": {
     "base_uri": "https://localhost:8080/",
     "height": 424
    },
    "colab_type": "code",
    "id": "pMtvQCSOkTv1",
    "outputId": "f0acae05-82ad-4132-9b64-46508ece87fa"
   },
   "outputs": [
    {
     "data": {
      "text/html": [
       "<div>\n",
       "<style scoped>\n",
       "    .dataframe tbody tr th:only-of-type {\n",
       "        vertical-align: middle;\n",
       "    }\n",
       "\n",
       "    .dataframe tbody tr th {\n",
       "        vertical-align: top;\n",
       "    }\n",
       "\n",
       "    .dataframe thead th {\n",
       "        text-align: right;\n",
       "    }\n",
       "</style>\n",
       "<table border=\"1\" class=\"dataframe\">\n",
       "  <thead>\n",
       "    <tr style=\"text-align: right;\">\n",
       "      <th></th>\n",
       "      <th>ALTURA</th>\n",
       "      <th>CAPACIDADE_(L)</th>\n",
       "      <th>LARGURA</th>\n",
       "      <th>PROFUNDIDADE</th>\n",
       "      <th>MENOR_DIM</th>\n",
       "      <th>FORMATO</th>\n",
       "    </tr>\n",
       "  </thead>\n",
       "  <tbody>\n",
       "    <tr>\n",
       "      <th>0</th>\n",
       "      <td>30.5</td>\n",
       "      <td>NaN</td>\n",
       "      <td>14.0</td>\n",
       "      <td>50.0</td>\n",
       "      <td>14.0</td>\n",
       "      <td>NaN</td>\n",
       "    </tr>\n",
       "    <tr>\n",
       "      <th>1</th>\n",
       "      <td>22.0</td>\n",
       "      <td>NaN</td>\n",
       "      <td>24.0</td>\n",
       "      <td>40.0</td>\n",
       "      <td>24.0</td>\n",
       "      <td>REDONDO</td>\n",
       "    </tr>\n",
       "    <tr>\n",
       "      <th>2</th>\n",
       "      <td>24.0</td>\n",
       "      <td>NaN</td>\n",
       "      <td>20.0</td>\n",
       "      <td>20.0</td>\n",
       "      <td>20.0</td>\n",
       "      <td>REDONDO</td>\n",
       "    </tr>\n",
       "    <tr>\n",
       "      <th>3</th>\n",
       "      <td>49.5</td>\n",
       "      <td>6.0</td>\n",
       "      <td>41.5</td>\n",
       "      <td>47.0</td>\n",
       "      <td>41.5</td>\n",
       "      <td>REDONDO</td>\n",
       "    </tr>\n",
       "    <tr>\n",
       "      <th>4</th>\n",
       "      <td>49.5</td>\n",
       "      <td>6.0</td>\n",
       "      <td>41.5</td>\n",
       "      <td>47.0</td>\n",
       "      <td>41.5</td>\n",
       "      <td>REDONDO</td>\n",
       "    </tr>\n",
       "    <tr>\n",
       "      <th>...</th>\n",
       "      <td>...</td>\n",
       "      <td>...</td>\n",
       "      <td>...</td>\n",
       "      <td>...</td>\n",
       "      <td>...</td>\n",
       "      <td>...</td>\n",
       "    </tr>\n",
       "    <tr>\n",
       "      <th>180270</th>\n",
       "      <td>30.5</td>\n",
       "      <td>NaN</td>\n",
       "      <td>14.0</td>\n",
       "      <td>50.0</td>\n",
       "      <td>14.0</td>\n",
       "      <td>NaN</td>\n",
       "    </tr>\n",
       "    <tr>\n",
       "      <th>180271</th>\n",
       "      <td>NaN</td>\n",
       "      <td>NaN</td>\n",
       "      <td>NaN</td>\n",
       "      <td>NaN</td>\n",
       "      <td>NaN</td>\n",
       "      <td>REDONDO</td>\n",
       "    </tr>\n",
       "    <tr>\n",
       "      <th>180272</th>\n",
       "      <td>16.0</td>\n",
       "      <td>NaN</td>\n",
       "      <td>18.5</td>\n",
       "      <td>18.5</td>\n",
       "      <td>18.5</td>\n",
       "      <td>REDONDO</td>\n",
       "    </tr>\n",
       "    <tr>\n",
       "      <th>180273</th>\n",
       "      <td>49.5</td>\n",
       "      <td>6.0</td>\n",
       "      <td>41.5</td>\n",
       "      <td>47.0</td>\n",
       "      <td>41.5</td>\n",
       "      <td>REDONDO</td>\n",
       "    </tr>\n",
       "    <tr>\n",
       "      <th>180274</th>\n",
       "      <td>30.5</td>\n",
       "      <td>NaN</td>\n",
       "      <td>14.0</td>\n",
       "      <td>50.0</td>\n",
       "      <td>14.0</td>\n",
       "      <td>REDONDO</td>\n",
       "    </tr>\n",
       "  </tbody>\n",
       "</table>\n",
       "<p>173382 rows × 6 columns</p>\n",
       "</div>"
      ],
      "text/plain": [
       "        ALTURA  CAPACIDADE_(L)  LARGURA  PROFUNDIDADE  MENOR_DIM  FORMATO\n",
       "0         30.5             NaN     14.0          50.0       14.0      NaN\n",
       "1         22.0             NaN     24.0          40.0       24.0  REDONDO\n",
       "2         24.0             NaN     20.0          20.0       20.0  REDONDO\n",
       "3         49.5             6.0     41.5          47.0       41.5  REDONDO\n",
       "4         49.5             6.0     41.5          47.0       41.5  REDONDO\n",
       "...        ...             ...      ...           ...        ...      ...\n",
       "180270    30.5             NaN     14.0          50.0       14.0      NaN\n",
       "180271     NaN             NaN      NaN           NaN        NaN  REDONDO\n",
       "180272    16.0             NaN     18.5          18.5       18.5  REDONDO\n",
       "180273    49.5             6.0     41.5          47.0       41.5  REDONDO\n",
       "180274    30.5             NaN     14.0          50.0       14.0  REDONDO\n",
       "\n",
       "[173382 rows x 6 columns]"
      ]
     },
     "execution_count": 56,
     "metadata": {
      "tags": []
     },
     "output_type": "execute_result"
    }
   ],
   "source": [
    "# valores onde a capacidade é difrente de zero\n",
    "df_capacidade = df_dimensoes[df_dimensoes['CAPACIDADE_(L)'] != 0]; df_capacidade"
   ]
  },
  {
   "cell_type": "code",
   "execution_count": 0,
   "metadata": {
    "colab": {
     "base_uri": "https://localhost:8080/",
     "height": 613
    },
    "colab_type": "code",
    "id": "sjuqc_eKkgIp",
    "outputId": "a323f4b0-aeb4-47ed-b9a8-3569b73fa310"
   },
   "outputs": [
    {
     "data": {
      "text/plain": [
       "<matplotlib.axes._subplots.AxesSubplot at 0x7fed25652fd0>"
      ]
     },
     "execution_count": 57,
     "metadata": {
      "tags": []
     },
     "output_type": "execute_result"
    },
    {
     "data": {
      "image/png": "[encoded data removed]",
      "text/plain": [
       "<Figure size 864x720 with 2 Axes>"
      ]
     },
     "metadata": {
      "tags": []
     },
     "output_type": "display_data"
    }
   ],
   "source": [
    "# mapa de calor para uma melhor visualização das correlações\n",
    "import matplotlib.pyplot as plt\n",
    "matriz_correlacao = df_capacidade.corr()\n",
    "plt.figure(figsize = (12, 10))\n",
    "sns.heatmap(matriz_correlacao, annot = True, fmt = \".3f\")"
   ]
  },
  {
   "cell_type": "markdown",
   "metadata": {
    "colab_type": "text",
    "id": "_1EoaEkclaWb"
   },
   "source": [
    "De acordo com a correlação, é menos preciso encontrar o volume com a menor das dimenções do que usando a largura."
   ]
  },
  {
   "cell_type": "code",
   "execution_count": 0,
   "metadata": {
    "colab": {
     "base_uri": "https://localhost:8080/",
     "height": 408
    },
    "colab_type": "code",
    "id": "4vd0QHAlmH26",
    "outputId": "f33c76d2-b2ab-4981-ed98-22b6fd4104b8"
   },
   "outputs": [
    {
     "data": {
      "text/plain": [
       "<seaborn.axisgrid.FacetGrid at 0x7fed23a474e0>"
      ]
     },
     "execution_count": 58,
     "metadata": {
      "tags": []
     },
     "output_type": "execute_result"
    },
    {
     "data": {
      "image/png": "[encoded data removed]",
      "text/plain": [
       "<Figure size 360x360 with 1 Axes>"
      ]
     },
     "metadata": {
      "tags": []
     },
     "output_type": "display_data"
    }
   ],
   "source": [
    "ax = sns.lmplot(x=\"LARGURA\", y=\"CAPACIDADE_(L)\", data=df_capacidade)\n",
    "ax.fig.suptitle('Reta de Regrassão - CAPACIDADE X LARGURA', fontsize=16, y=1.02)\n",
    "ax.set_xlabels(\"LARGURA\", fontsize=14)\n",
    "ax.set_ylabels(\"CAPACIDADE_(L)\", fontsize=14)\n",
    "ax"
   ]
  },
  {
   "cell_type": "markdown",
   "metadata": {
    "colab_type": "text",
    "id": "wiOVLyMLnUwt"
   },
   "source": [
    "É muito difícil fazer uma previsão adequada em cima da capacidade, apesar de haver uma correlação, ela não é muito forte. Fiz o mesmo teste relativo aos formatos, e não houve uma variancia significativa. Devido a grande quantedade de dados faltando, a melhor opção acaba sendo excluir estas linhas, pois a quantidade de valores faltantes é muito grande e sua previsão traria uma grande erro no modelo."
   ]
  },
  {
   "cell_type": "code",
   "execution_count": 0,
   "metadata": {
    "colab": {},
    "colab_type": "code",
    "id": "O0zdy3gTWiiM"
   },
   "outputs": [],
   "source": [
    "# dados = dados.drop(\"CAPACIDADE_(L)\", axis=1); dados"
   ]
  },
  {
   "cell_type": "code",
   "execution_count": 0,
   "metadata": {
    "colab": {
     "base_uri": "https://localhost:8080/",
     "height": 226
    },
    "colab_type": "code",
    "id": "5Z-gO8Y8sK6q",
    "outputId": "2afaf46a-ae6c-4fda-eff5-3f4db3e6f352"
   },
   "outputs": [
    {
     "data": {
      "text/html": [
       "<div>\n",
       "<style scoped>\n",
       "    .dataframe tbody tr th:only-of-type {\n",
       "        vertical-align: middle;\n",
       "    }\n",
       "\n",
       "    .dataframe tbody tr th {\n",
       "        vertical-align: top;\n",
       "    }\n",
       "\n",
       "    .dataframe thead th {\n",
       "        text-align: right;\n",
       "    }\n",
       "</style>\n",
       "<table border=\"1\" class=\"dataframe\">\n",
       "  <thead>\n",
       "    <tr style=\"text-align: right;\">\n",
       "      <th></th>\n",
       "      <th>COMPOSICAO</th>\n",
       "      <th>COR</th>\n",
       "      <th>FORMATO</th>\n",
       "      <th>MARCA</th>\n",
       "      <th>TIPO_PRODUTO</th>\n",
       "      <th>ALTURA</th>\n",
       "      <th>CAPACIDADE_(L)</th>\n",
       "      <th>LARGURA</th>\n",
       "      <th>PROFUNDIDADE</th>\n",
       "      <th>PESO</th>\n",
       "      <th>TEMPO_GARANTIA</th>\n",
       "      <th>ITEM_PRICE</th>\n",
       "      <th>PARA_LAVA_LOUCAS</th>\n",
       "      <th>PARA_MICRO_ONDAS</th>\n",
       "      <th>TEM_FERRO_FUNDIDO</th>\n",
       "      <th>TEM_GRELHA</th>\n",
       "      <th>TEM_TAMPA</th>\n",
       "      <th>TIPO_WOK</th>\n",
       "      <th>INTERESTED</th>\n",
       "    </tr>\n",
       "  </thead>\n",
       "  <tbody>\n",
       "    <tr>\n",
       "      <th>3</th>\n",
       "      <td>ALUMINIO</td>\n",
       "      <td>VERMELHO</td>\n",
       "      <td>REDONDO</td>\n",
       "      <td>TRAMONTINA</td>\n",
       "      <td>PIPOQUEIRA</td>\n",
       "      <td>49.5</td>\n",
       "      <td>6.0</td>\n",
       "      <td>41.5</td>\n",
       "      <td>47.0</td>\n",
       "      <td>120.0</td>\n",
       "      <td>NaN</td>\n",
       "      <td>103.29</td>\n",
       "      <td>1.0</td>\n",
       "      <td>0.0</td>\n",
       "      <td>0.0</td>\n",
       "      <td>0.0</td>\n",
       "      <td>1.0</td>\n",
       "      <td>0.0</td>\n",
       "      <td>1.0</td>\n",
       "    </tr>\n",
       "    <tr>\n",
       "      <th>4</th>\n",
       "      <td>ALUMINIO</td>\n",
       "      <td>VERMELHO</td>\n",
       "      <td>REDONDO</td>\n",
       "      <td>TRAMONTINA</td>\n",
       "      <td>PIPOQUEIRA</td>\n",
       "      <td>49.5</td>\n",
       "      <td>6.0</td>\n",
       "      <td>41.5</td>\n",
       "      <td>47.0</td>\n",
       "      <td>120.0</td>\n",
       "      <td>NaN</td>\n",
       "      <td>103.33</td>\n",
       "      <td>1.0</td>\n",
       "      <td>0.0</td>\n",
       "      <td>0.0</td>\n",
       "      <td>0.0</td>\n",
       "      <td>1.0</td>\n",
       "      <td>0.0</td>\n",
       "      <td>0.0</td>\n",
       "    </tr>\n",
       "    <tr>\n",
       "      <th>7</th>\n",
       "      <td>INOX</td>\n",
       "      <td>INOX</td>\n",
       "      <td>OUTROS</td>\n",
       "      <td>TRAMONTINA</td>\n",
       "      <td>CREMEIRA</td>\n",
       "      <td>NaN</td>\n",
       "      <td>0.1</td>\n",
       "      <td>NaN</td>\n",
       "      <td>NaN</td>\n",
       "      <td>NaN</td>\n",
       "      <td>NaN</td>\n",
       "      <td>64.84</td>\n",
       "      <td>1.0</td>\n",
       "      <td>0.0</td>\n",
       "      <td>0.0</td>\n",
       "      <td>0.0</td>\n",
       "      <td>0.0</td>\n",
       "      <td>0.0</td>\n",
       "      <td>0.0</td>\n",
       "    </tr>\n",
       "    <tr>\n",
       "      <th>9</th>\n",
       "      <td>ALUMINIO</td>\n",
       "      <td>CEREJA</td>\n",
       "      <td>REDONDO</td>\n",
       "      <td>TRAMONTINA</td>\n",
       "      <td>PANELA</td>\n",
       "      <td>42.7</td>\n",
       "      <td>4.5</td>\n",
       "      <td>32.7</td>\n",
       "      <td>18.1</td>\n",
       "      <td>160.0</td>\n",
       "      <td>12.0</td>\n",
       "      <td>89.90</td>\n",
       "      <td>1.0</td>\n",
       "      <td>0.0</td>\n",
       "      <td>0.0</td>\n",
       "      <td>0.0</td>\n",
       "      <td>0.0</td>\n",
       "      <td>1.0</td>\n",
       "      <td>1.0</td>\n",
       "    </tr>\n",
       "    <tr>\n",
       "      <th>11</th>\n",
       "      <td>ALUMINIO</td>\n",
       "      <td>PRETO</td>\n",
       "      <td>NaN</td>\n",
       "      <td>TRAMONTINA</td>\n",
       "      <td>PANELA</td>\n",
       "      <td>32.0</td>\n",
       "      <td>4.5</td>\n",
       "      <td>32.0</td>\n",
       "      <td>15.0</td>\n",
       "      <td>20.0</td>\n",
       "      <td>12.0</td>\n",
       "      <td>133.11</td>\n",
       "      <td>1.0</td>\n",
       "      <td>0.0</td>\n",
       "      <td>0.0</td>\n",
       "      <td>0.0</td>\n",
       "      <td>1.0</td>\n",
       "      <td>1.0</td>\n",
       "      <td>0.0</td>\n",
       "    </tr>\n",
       "  </tbody>\n",
       "</table>\n",
       "</div>"
      ],
      "text/plain": [
       "   COMPOSICAO       COR  FORMATO  ... TEM_TAMPA TIPO_WOK  INTERESTED\n",
       "3    ALUMINIO  VERMELHO  REDONDO  ...       1.0      0.0         1.0\n",
       "4    ALUMINIO  VERMELHO  REDONDO  ...       1.0      0.0         0.0\n",
       "7        INOX      INOX   OUTROS  ...       0.0      0.0         0.0\n",
       "9    ALUMINIO    CEREJA  REDONDO  ...       0.0      1.0         1.0\n",
       "11   ALUMINIO     PRETO      NaN  ...       1.0      1.0         0.0\n",
       "\n",
       "[5 rows x 19 columns]"
      ]
     },
     "execution_count": 60,
     "metadata": {
      "tags": []
     },
     "output_type": "execute_result"
    }
   ],
   "source": [
    "dados = dados[~dados['CAPACIDADE_(L)'].isna()]; dados.head()"
   ]
  },
  {
   "cell_type": "code",
   "execution_count": 0,
   "metadata": {
    "colab": {
     "base_uri": "https://localhost:8080/",
     "height": 34
    },
    "colab_type": "code",
    "id": "Bv1whLZ8tXZQ",
    "outputId": "b4093111-3cb8-4a73-ceb3-39e5c1a72672"
   },
   "outputs": [
    {
     "data": {
      "text/plain": [
       "83564"
      ]
     },
     "execution_count": 61,
     "metadata": {
      "tags": []
     },
     "output_type": "execute_result"
    }
   ],
   "source": [
    "# ainda é um valor bastante significativo, apesar de termos perdido mais da metade dos dados\n",
    "tamanho_dataset = dados.shape[0]\n",
    "tamanho_dataset"
   ]
  },
  {
   "cell_type": "code",
   "execution_count": 0,
   "metadata": {
    "colab": {
     "base_uri": "https://localhost:8080/",
     "height": 278
    },
    "colab_type": "code",
    "id": "u71K90DZt2le",
    "outputId": "5809e9e4-8433-4078-9215-fc4c330a57ad"
   },
   "outputs": [
    {
     "name": "stdout",
     "output_type": "stream",
     "text": [
      "Proporção de valores nan por coluna do dataset: \n",
      "\n"
     ]
    },
    {
     "data": {
      "text/plain": [
       "TEMPO_GARANTIA       0.366737\n",
       "PESO                 0.228352\n",
       "PARA_LAVA_LOUCAS     0.167046\n",
       "FORMATO              0.161230\n",
       "COMPOSICAO           0.089357\n",
       "PROFUNDIDADE         0.059308\n",
       "LARGURA              0.059308\n",
       "ALTURA               0.059308\n",
       "ITEM_PRICE           0.057405\n",
       "COR                  0.028816\n",
       "PARA_MICRO_ONDAS     0.000000\n",
       "TEM_FERRO_FUNDIDO    0.000000\n",
       "dtype: float64"
      ]
     },
     "execution_count": 62,
     "metadata": {
      "tags": []
     },
     "output_type": "execute_result"
    }
   ],
   "source": [
    "# Aqui tivemos um dos resultados mais relevantes desta filtragem\n",
    "# não afetou apenas a filtragem da capacidade, mas das outras variaveis também\n",
    "prop_missing()[:12]"
   ]
  },
  {
   "cell_type": "markdown",
   "metadata": {
    "colab_type": "text",
    "id": "NycygrsAKWmU"
   },
   "source": [
    "Já vou aproveitar para fazer um outro tratamento rápido relativo às dimensões, que também n posso estimar, e notei que todas tem o mesmo valor de dados nan: PROFUNDIADE, LARGURA E ALTURA."
   ]
  },
  {
   "cell_type": "code",
   "execution_count": 0,
   "metadata": {
    "colab": {},
    "colab_type": "code",
    "id": "S784HLcnJ3Pf"
   },
   "outputs": [],
   "source": [
    "dados = dados[~dados.PROFUNDIDADE.isna()]"
   ]
  },
  {
   "cell_type": "code",
   "execution_count": 0,
   "metadata": {
    "colab": {
     "base_uri": "https://localhost:8080/",
     "height": 399
    },
    "colab_type": "code",
    "id": "ryunB-R2LLrA",
    "outputId": "0378e679-1fce-403e-d56b-1702878403f2"
   },
   "outputs": [
    {
     "name": "stdout",
     "output_type": "stream",
     "text": [
      "Proporção de valores nan por coluna do dataset: \n",
      "\n"
     ]
    },
    {
     "data": {
      "text/plain": [
       "TEMPO_GARANTIA       0.341582\n",
       "PESO                 0.169702\n",
       "PARA_LAVA_LOUCAS     0.162151\n",
       "FORMATO              0.118580\n",
       "COMPOSICAO           0.089357\n",
       "ITEM_PRICE           0.050393\n",
       "COR                  0.019769\n",
       "PARA_MICRO_ONDAS     0.000000\n",
       "TEM_FERRO_FUNDIDO    0.000000\n",
       "TEM_GRELHA           0.000000\n",
       "TIPO_WOK             0.000000\n",
       "PROFUNDIDADE         0.000000\n",
       "LARGURA              0.000000\n",
       "CAPACIDADE_(L)       0.000000\n",
       "ALTURA               0.000000\n",
       "TIPO_PRODUTO         0.000000\n",
       "MARCA                0.000000\n",
       "TEM_TAMPA            0.000000\n",
       "INTERESTED           0.000000\n",
       "dtype: float64"
      ]
     },
     "execution_count": 64,
     "metadata": {
      "tags": []
     },
     "output_type": "execute_result"
    }
   ],
   "source": [
    "prop_missing()"
   ]
  },
  {
   "cell_type": "markdown",
   "metadata": {
    "colab_type": "text",
    "id": "mWdkVsKgwVEI"
   },
   "source": [
    "### Tratamento de \"TEMPO_GARANTIA\""
   ]
  },
  {
   "cell_type": "code",
   "execution_count": 0,
   "metadata": {
    "colab": {
     "base_uri": "https://localhost:8080/",
     "height": 86
    },
    "colab_type": "code",
    "id": "9K271ACsuE91",
    "outputId": "55377269-d00c-4d45-a537-be11c148cbd2"
   },
   "outputs": [
    {
     "name": "stdout",
     "output_type": "stream",
     "text": [
      "Proporção de valores nan por coluna do dataset: \n",
      "\n"
     ]
    },
    {
     "data": {
      "text/plain": [
       "TEMPO_GARANTIA    0.341582\n",
       "dtype: float64"
      ]
     },
     "execution_count": 65,
     "metadata": {
      "tags": []
     },
     "output_type": "execute_result"
    }
   ],
   "source": [
    "prop_missing()[0:1]"
   ]
  },
  {
   "cell_type": "code",
   "execution_count": 0,
   "metadata": {
    "colab": {
     "base_uri": "https://localhost:8080/",
     "height": 139
    },
    "colab_type": "code",
    "id": "uiUzqwdawTF7",
    "outputId": "93b437a4-2dc2-4fe0-ebf5-e239d5c40de5"
   },
   "outputs": [
    {
     "data": {
      "text/plain": [
       "12.0     31424\n",
       "3.0       8954\n",
       "6.0       7537\n",
       "1.0       1323\n",
       "300.0      573\n",
       "60.0       253\n",
       "Name: TEMPO_GARANTIA, dtype: int64"
      ]
     },
     "execution_count": 66,
     "metadata": {
      "tags": []
     },
     "output_type": "execute_result"
    }
   ],
   "source": [
    "dados.TEMPO_GARANTIA.value_counts()"
   ]
  },
  {
   "cell_type": "code",
   "execution_count": 0,
   "metadata": {
    "colab": {
     "base_uri": "https://localhost:8080/",
     "height": 416
    },
    "colab_type": "code",
    "id": "bAA-ehQAwqnw",
    "outputId": "5d9f4df8-e2d6-4251-8682-c331987e1bae"
   },
   "outputs": [
    {
     "data": {
      "text/plain": [
       "MARCA            TEMPO_GARANTIA\n",
       "ALUMINIO RAMOS   3.0                   7\n",
       "BIALETTI         12.0                 98\n",
       "BR HOME          3.0                  23\n",
       "BRINOX           3.0                   1\n",
       "CERAFLAME        3.0                 966\n",
       "DONA CHEFA       6.0                1327\n",
       "EURO HOME        6.0                3939\n",
       "FORMA            3.0                 155\n",
       "HAPPYCALL        12.0                206\n",
       "HERCULES         3.0                2793\n",
       "JOMAFE           12.0                168\n",
       "LA CUISINE       1.0                1323\n",
       "                 3.0                2947\n",
       "MIMO STYLE       3.0                 283\n",
       "OXFORD COOKWARE  60.0                253\n",
       "PANELUX          6.0                2271\n",
       "PRAVA            3.0                 101\n",
       "PRAVAS           3.0                  33\n",
       "ROCHEDO          3.0                1645\n",
       "TRAMONTINA       12.0              30952\n",
       "                 300.0               573\n",
       "dtype: int64"
      ]
     },
     "execution_count": 67,
     "metadata": {
      "tags": []
     },
     "output_type": "execute_result"
    }
   ],
   "source": [
    "# Em uma abordagem tentando relacionar por marca:\n",
    "dados[[\"MARCA\", \"TEMPO_GARANTIA\"]].groupby([\"MARCA\", \"TEMPO_GARANTIA\"]).size()"
   ]
  },
  {
   "cell_type": "code",
   "execution_count": 0,
   "metadata": {
    "colab": {},
    "colab_type": "code",
    "id": "Ppr-n4T9w8Qg"
   },
   "outputs": [],
   "source": [
    "garantia_diferente = [\"LA CUISINE\", \"TRAMONTINA\"]"
   ]
  },
  {
   "cell_type": "code",
   "execution_count": 0,
   "metadata": {
    "colab": {},
    "colab_type": "code",
    "id": "cxeU5_rxytob"
   },
   "outputs": [],
   "source": [
    "garantias = dados.query(f\"MARCA not in {garantia_diferente}\")[[\"MARCA\", \"TEMPO_GARANTIA\"]].groupby([\"MARCA\", \"TEMPO_GARANTIA\"]).size()"
   ]
  },
  {
   "cell_type": "code",
   "execution_count": 0,
   "metadata": {
    "colab": {
     "base_uri": "https://localhost:8080/",
     "height": 312
    },
    "colab_type": "code",
    "id": "pZubUrzWy8ok",
    "outputId": "65326e21-8841-41e4-9989-1d1c4b26a2e2"
   },
   "outputs": [
    {
     "data": {
      "text/plain": [
       "{'ALUMINIO RAMOS': 3.0,\n",
       " 'BIALETTI': 12.0,\n",
       " 'BR HOME': 3.0,\n",
       " 'BRINOX': 3.0,\n",
       " 'CERAFLAME': 3.0,\n",
       " 'DONA CHEFA': 6.0,\n",
       " 'EURO HOME': 6.0,\n",
       " 'FORMA': 3.0,\n",
       " 'HAPPYCALL': 12.0,\n",
       " 'HERCULES': 3.0,\n",
       " 'JOMAFE': 12.0,\n",
       " 'MIMO STYLE': 3.0,\n",
       " 'OXFORD COOKWARE': 60.0,\n",
       " 'PANELUX': 6.0,\n",
       " 'PRAVA': 3.0,\n",
       " 'PRAVAS': 3.0,\n",
       " 'ROCHEDO': 3.0}"
      ]
     },
     "execution_count": 70,
     "metadata": {
      "tags": []
     },
     "output_type": "execute_result"
    }
   ],
   "source": [
    "# lista de garantias por marcas, como vem em tulpas já estou convertendo para lista\n",
    "dictor = dict(garantias.index); dictor # dicionário para mapear"
   ]
  },
  {
   "cell_type": "code",
   "execution_count": 0,
   "metadata": {
    "colab": {
     "base_uri": "https://localhost:8080/",
     "height": 86
    },
    "colab_type": "code",
    "id": "SRpYxyYp086H",
    "outputId": "55dcb940-950f-44e6-80bc-590bc41ec4af"
   },
   "outputs": [
    {
     "name": "stderr",
     "output_type": "stream",
     "text": [
      "/usr/local/lib/python3.6/dist-packages/ipykernel_launcher.py:1: UserWarning: Boolean Series key will be reindexed to match DataFrame index.\n",
      "  \"\"\"Entry point for launching an IPython kernel.\n"
     ]
    },
    {
     "data": {
      "text/plain": [
       "3.0    2168\n",
       "Name: MARCA, dtype: int64"
      ]
     },
     "execution_count": 71,
     "metadata": {
      "tags": []
     },
     "output_type": "execute_result"
    }
   ],
   "source": [
    "indices = dados.query(f\"MARCA not in {garantia_diferente}\")[[\"MARCA\", \"TEMPO_GARANTIA\"]][dados.TEMPO_GARANTIA.isna()].index\n",
    "dados.loc[indices].MARCA.map(dictor).value_counts()"
   ]
  },
  {
   "cell_type": "code",
   "execution_count": 0,
   "metadata": {
    "colab": {
     "base_uri": "https://localhost:8080/",
     "height": 52
    },
    "colab_type": "code",
    "id": "oTXR6L_H6K_G",
    "outputId": "212bcd26-794d-4175-b37d-a0f69179c158"
   },
   "outputs": [
    {
     "data": {
      "text/plain": [
       "3.0    2168\n",
       "Name: TEMPO_GARANTIA, dtype: int64"
      ]
     },
     "execution_count": 72,
     "metadata": {
      "tags": []
     },
     "output_type": "execute_result"
    }
   ],
   "source": [
    "dados[\"TEMPO_GARANTIA\"].loc[indices] = dados.loc[indices].MARCA.map(dictor)\n",
    "dados[\"TEMPO_GARANTIA\"].loc[indices].value_counts()"
   ]
  },
  {
   "cell_type": "code",
   "execution_count": 0,
   "metadata": {
    "colab": {
     "base_uri": "https://localhost:8080/",
     "height": 86
    },
    "colab_type": "code",
    "id": "RmPYs9DK_r8Y",
    "outputId": "4c368356-a8a5-4750-dc7c-a0eeed670950"
   },
   "outputs": [
    {
     "name": "stdout",
     "output_type": "stream",
     "text": [
      "Proporção de valores nan por coluna do dataset: \n",
      "\n"
     ]
    },
    {
     "data": {
      "text/plain": [
       "TEMPO_GARANTIA    0.315638\n",
       "dtype: float64"
      ]
     },
     "execution_count": 73,
     "metadata": {
      "tags": []
     },
     "output_type": "execute_result"
    }
   ],
   "source": [
    "# um tratamento pequeno, de apenas 2,5%\n",
    "prop_missing()[0:1]"
   ]
  },
  {
   "cell_type": "code",
   "execution_count": 0,
   "metadata": {
    "colab": {},
    "colab_type": "code",
    "id": "mfGkszp-JfxI"
   },
   "outputs": [],
   "source": [
    "#prop_missing()"
   ]
  },
  {
   "cell_type": "markdown",
   "metadata": {
    "colab_type": "text",
    "id": "wncQ3GXbFrUO"
   },
   "source": [
    "Cabe agora dar uma analizada nas outras marcas, é possível que a garantia dependa de outro fator"
   ]
  },
  {
   "cell_type": "code",
   "execution_count": 0,
   "metadata": {
    "colab": {
     "base_uri": "https://localhost:8080/",
     "height": 226
    },
    "colab_type": "code",
    "id": "ZWRTSAdZGAZs",
    "outputId": "c7f6eab0-f3a0-4fb0-b807-9e1360eaabaf"
   },
   "outputs": [
    {
     "data": {
      "text/html": [
       "<div>\n",
       "<style scoped>\n",
       "    .dataframe tbody tr th:only-of-type {\n",
       "        vertical-align: middle;\n",
       "    }\n",
       "\n",
       "    .dataframe tbody tr th {\n",
       "        vertical-align: top;\n",
       "    }\n",
       "\n",
       "    .dataframe thead th {\n",
       "        text-align: right;\n",
       "    }\n",
       "</style>\n",
       "<table border=\"1\" class=\"dataframe\">\n",
       "  <thead>\n",
       "    <tr style=\"text-align: right;\">\n",
       "      <th></th>\n",
       "      <th>COMPOSICAO</th>\n",
       "      <th>COR</th>\n",
       "      <th>FORMATO</th>\n",
       "      <th>MARCA</th>\n",
       "      <th>TIPO_PRODUTO</th>\n",
       "      <th>ALTURA</th>\n",
       "      <th>CAPACIDADE_(L)</th>\n",
       "      <th>LARGURA</th>\n",
       "      <th>PROFUNDIDADE</th>\n",
       "      <th>PESO</th>\n",
       "      <th>TEMPO_GARANTIA</th>\n",
       "      <th>ITEM_PRICE</th>\n",
       "      <th>PARA_LAVA_LOUCAS</th>\n",
       "      <th>PARA_MICRO_ONDAS</th>\n",
       "      <th>TEM_FERRO_FUNDIDO</th>\n",
       "      <th>TEM_GRELHA</th>\n",
       "      <th>TEM_TAMPA</th>\n",
       "      <th>TIPO_WOK</th>\n",
       "      <th>INTERESTED</th>\n",
       "    </tr>\n",
       "  </thead>\n",
       "  <tbody>\n",
       "    <tr>\n",
       "      <th>3</th>\n",
       "      <td>ALUMINIO</td>\n",
       "      <td>VERMELHO</td>\n",
       "      <td>REDONDO</td>\n",
       "      <td>TRAMONTINA</td>\n",
       "      <td>PIPOQUEIRA</td>\n",
       "      <td>49.5</td>\n",
       "      <td>6.0</td>\n",
       "      <td>41.5</td>\n",
       "      <td>47.0</td>\n",
       "      <td>120.0</td>\n",
       "      <td>NaN</td>\n",
       "      <td>103.29</td>\n",
       "      <td>1.0</td>\n",
       "      <td>0.0</td>\n",
       "      <td>0.0</td>\n",
       "      <td>0.0</td>\n",
       "      <td>1.0</td>\n",
       "      <td>0.0</td>\n",
       "      <td>1.0</td>\n",
       "    </tr>\n",
       "    <tr>\n",
       "      <th>4</th>\n",
       "      <td>ALUMINIO</td>\n",
       "      <td>VERMELHO</td>\n",
       "      <td>REDONDO</td>\n",
       "      <td>TRAMONTINA</td>\n",
       "      <td>PIPOQUEIRA</td>\n",
       "      <td>49.5</td>\n",
       "      <td>6.0</td>\n",
       "      <td>41.5</td>\n",
       "      <td>47.0</td>\n",
       "      <td>120.0</td>\n",
       "      <td>NaN</td>\n",
       "      <td>103.33</td>\n",
       "      <td>1.0</td>\n",
       "      <td>0.0</td>\n",
       "      <td>0.0</td>\n",
       "      <td>0.0</td>\n",
       "      <td>1.0</td>\n",
       "      <td>0.0</td>\n",
       "      <td>0.0</td>\n",
       "    </tr>\n",
       "    <tr>\n",
       "      <th>9</th>\n",
       "      <td>ALUMINIO</td>\n",
       "      <td>CEREJA</td>\n",
       "      <td>REDONDO</td>\n",
       "      <td>TRAMONTINA</td>\n",
       "      <td>PANELA</td>\n",
       "      <td>42.7</td>\n",
       "      <td>4.5</td>\n",
       "      <td>32.7</td>\n",
       "      <td>18.1</td>\n",
       "      <td>160.0</td>\n",
       "      <td>12.0</td>\n",
       "      <td>89.90</td>\n",
       "      <td>1.0</td>\n",
       "      <td>0.0</td>\n",
       "      <td>0.0</td>\n",
       "      <td>0.0</td>\n",
       "      <td>0.0</td>\n",
       "      <td>1.0</td>\n",
       "      <td>1.0</td>\n",
       "    </tr>\n",
       "    <tr>\n",
       "      <th>11</th>\n",
       "      <td>ALUMINIO</td>\n",
       "      <td>PRETO</td>\n",
       "      <td>NaN</td>\n",
       "      <td>TRAMONTINA</td>\n",
       "      <td>PANELA</td>\n",
       "      <td>32.0</td>\n",
       "      <td>4.5</td>\n",
       "      <td>32.0</td>\n",
       "      <td>15.0</td>\n",
       "      <td>20.0</td>\n",
       "      <td>12.0</td>\n",
       "      <td>133.11</td>\n",
       "      <td>1.0</td>\n",
       "      <td>0.0</td>\n",
       "      <td>0.0</td>\n",
       "      <td>0.0</td>\n",
       "      <td>1.0</td>\n",
       "      <td>1.0</td>\n",
       "      <td>0.0</td>\n",
       "    </tr>\n",
       "    <tr>\n",
       "      <th>13</th>\n",
       "      <td>NaN</td>\n",
       "      <td>PRETO</td>\n",
       "      <td>REDONDO</td>\n",
       "      <td>FUMIL</td>\n",
       "      <td>CHAPA</td>\n",
       "      <td>26.0</td>\n",
       "      <td>0.0</td>\n",
       "      <td>29.0</td>\n",
       "      <td>45.0</td>\n",
       "      <td>NaN</td>\n",
       "      <td>NaN</td>\n",
       "      <td>21.99</td>\n",
       "      <td>NaN</td>\n",
       "      <td>0.0</td>\n",
       "      <td>1.0</td>\n",
       "      <td>0.0</td>\n",
       "      <td>0.0</td>\n",
       "      <td>0.0</td>\n",
       "      <td>0.0</td>\n",
       "    </tr>\n",
       "  </tbody>\n",
       "</table>\n",
       "</div>"
      ],
      "text/plain": [
       "   COMPOSICAO       COR  FORMATO  ... TEM_TAMPA TIPO_WOK  INTERESTED\n",
       "3    ALUMINIO  VERMELHO  REDONDO  ...       1.0      0.0         1.0\n",
       "4    ALUMINIO  VERMELHO  REDONDO  ...       1.0      0.0         0.0\n",
       "9    ALUMINIO    CEREJA  REDONDO  ...       0.0      1.0         1.0\n",
       "11   ALUMINIO     PRETO      NaN  ...       1.0      1.0         0.0\n",
       "13        NaN     PRETO  REDONDO  ...       0.0      0.0         0.0\n",
       "\n",
       "[5 rows x 19 columns]"
      ]
     },
     "execution_count": 75,
     "metadata": {
      "tags": []
     },
     "output_type": "execute_result"
    }
   ],
   "source": [
    "dados.head()"
   ]
  },
  {
   "cell_type": "code",
   "execution_count": 0,
   "metadata": {
    "colab": {},
    "colab_type": "code",
    "id": "JAP4q4gFD1i6"
   },
   "outputs": [],
   "source": [
    "analizar_depois_1 = dados.drop([\"TEM_FERRO_FUNDIDO\", \"TEM_GRELHA\",\"PARA_MICRO_ONDAS\", \"TEM_TAMPA\",\"TIPO_WOK\"],axis=1).query(\"MARCA == 'LA CUISINE'\").query(\"TIPO_PRODUTO == 'PANELA'\").set_index(\n",
    "    [\"MARCA\", \"TIPO_PRODUTO\", \"TEMPO_GARANTIA\",\"COMPOSICAO\"]).groupby(level = [\"MARCA\", \"TEMPO_GARANTIA\", \"TIPO_PRODUTO\",\"COMPOSICAO\"]).aggregate([np.mean, np.std])"
   ]
  },
  {
   "cell_type": "code",
   "execution_count": 0,
   "metadata": {
    "colab": {},
    "colab_type": "code",
    "id": "nprSPkvtTREL"
   },
   "outputs": [],
   "source": [
    "# tirei algumas dessas informações dos dataset que vou conluir depois de atualizar alguns valores obtidos lá\n",
    "dic_lacuisine_garantia = {'CACAROLA': 1.0, 'ESPAGUETEIRA': 3.0}"
   ]
  },
  {
   "cell_type": "code",
   "execution_count": 0,
   "metadata": {
    "colab": {
     "base_uri": "https://localhost:8080/",
     "height": 70
    },
    "colab_type": "code",
    "id": "t-ls0Ov8ZxQP",
    "outputId": "52698286-c667-4b31-9a98-77301be84f92"
   },
   "outputs": [
    {
     "data": {
      "text/html": [
       "<div>\n",
       "<style scoped>\n",
       "    .dataframe tbody tr th:only-of-type {\n",
       "        vertical-align: middle;\n",
       "    }\n",
       "\n",
       "    .dataframe tbody tr th {\n",
       "        vertical-align: top;\n",
       "    }\n",
       "\n",
       "    .dataframe thead th {\n",
       "        text-align: right;\n",
       "    }\n",
       "</style>\n",
       "<table border=\"1\" class=\"dataframe\">\n",
       "  <thead>\n",
       "    <tr style=\"text-align: right;\">\n",
       "      <th></th>\n",
       "      <th>COMPOSICAO</th>\n",
       "      <th>COR</th>\n",
       "      <th>FORMATO</th>\n",
       "      <th>MARCA</th>\n",
       "      <th>TIPO_PRODUTO</th>\n",
       "      <th>ALTURA</th>\n",
       "      <th>CAPACIDADE_(L)</th>\n",
       "      <th>LARGURA</th>\n",
       "      <th>PROFUNDIDADE</th>\n",
       "      <th>PESO</th>\n",
       "      <th>TEMPO_GARANTIA</th>\n",
       "      <th>ITEM_PRICE</th>\n",
       "      <th>PARA_LAVA_LOUCAS</th>\n",
       "      <th>PARA_MICRO_ONDAS</th>\n",
       "      <th>TEM_FERRO_FUNDIDO</th>\n",
       "      <th>TEM_GRELHA</th>\n",
       "      <th>TEM_TAMPA</th>\n",
       "      <th>TIPO_WOK</th>\n",
       "      <th>INTERESTED</th>\n",
       "    </tr>\n",
       "  </thead>\n",
       "  <tbody>\n",
       "  </tbody>\n",
       "</table>\n",
       "</div>"
      ],
      "text/plain": [
       "Empty DataFrame\n",
       "Columns: [COMPOSICAO, COR, FORMATO, MARCA, TIPO_PRODUTO, ALTURA, CAPACIDADE_(L), LARGURA, PROFUNDIDADE, PESO, TEMPO_GARANTIA, ITEM_PRICE, PARA_LAVA_LOUCAS, PARA_MICRO_ONDAS, TEM_FERRO_FUNDIDO, TEM_GRELHA, TEM_TAMPA, TIPO_WOK, INTERESTED]\n",
       "Index: []"
      ]
     },
     "execution_count": 78,
     "metadata": {
      "tags": []
     },
     "output_type": "execute_result"
    }
   ],
   "source": [
    "# Como nenhum dado 'LA CUISINE' is missing, posso esquecer essa primeira analize...\n",
    "dados[dados.TEMPO_GARANTIA.isna()].query(\"MARCA == 'LA CUISINE'\")"
   ]
  },
  {
   "cell_type": "code",
   "execution_count": 0,
   "metadata": {
    "colab": {},
    "colab_type": "code",
    "id": "1bVm7CulF7lb"
   },
   "outputs": [],
   "source": [
    "analizar_depois_2 = dados.drop([\"TEM_FERRO_FUNDIDO\", \"TEM_GRELHA\",\"PARA_MICRO_ONDAS\", \"TEM_TAMPA\"],axis=1).query(\"MARCA == 'TRAMONTINA'\").query(f\"TIPO_PRODUTO == 'CACAROLA'\")#.set_index(\n",
    "    #[\"MARCA\", \"TIPO_PRODUTO\", \"TEMPO_GARANTIA\"]).groupby(level = [\"MARCA\", \"TEMPO_GARANTIA\", \"TIPO_PRODUTO\"]).aggregate([np.mean, np.std])"
   ]
  },
  {
   "cell_type": "code",
   "execution_count": 0,
   "metadata": {
    "colab": {},
    "colab_type": "code",
    "id": "uNpBgBaxY0zU"
   },
   "outputs": [],
   "source": [
    "analizar_depois_3 = dados.drop([\"TEM_FERRO_FUNDIDO\", \"TEM_GRELHA\",\"PARA_MICRO_ONDAS\", \"TEM_TAMPA\"],axis=1).query(\"MARCA == 'TRAMONTINA'\").query(f\"TIPO_PRODUTO == 'CALDEIRAO'\")#.set_index(\n",
    "    #[\"MARCA\", \"TIPO_PRODUTO\", \"TEMPO_GARANTIA\"]).groupby(level = [\"MARCA\", \"TEMPO_GARANTIA\", \"TIPO_PRODUTO\"]).aggregate([np.mean, np.std])"
   ]
  },
  {
   "cell_type": "code",
   "execution_count": 0,
   "metadata": {
    "colab": {},
    "colab_type": "code",
    "id": "z6R7jt8YRtV6"
   },
   "outputs": [],
   "source": [
    "dic_tramontina_garantia = {'BULE': 12.0, 'COZI-VAPORE': 12.0,'ESPAGUETEIRA': 12.0,'PANELA': 12.0}\n",
    "list_tramontina_garantia = ['BULE', 'COZI-VAPORE','ESPAGUETEIRA','PANELA']"
   ]
  },
  {
   "cell_type": "code",
   "execution_count": 0,
   "metadata": {
    "colab": {},
    "colab_type": "code",
    "id": "sCZIFSSnUKzm"
   },
   "outputs": [],
   "source": [
    "indices = dados[dados.TEMPO_GARANTIA.isna()].query(\"MARCA == 'TRAMONTINA'\").query(f\"TIPO_PRODUTO in {list_tramontina_garantia}\").TIPO_PRODUTO.index"
   ]
  },
  {
   "cell_type": "code",
   "execution_count": 0,
   "metadata": {
    "colab": {},
    "colab_type": "code",
    "id": "y1mLIDyTceq8"
   },
   "outputs": [],
   "source": [
    "# dados['TEMPO_GARANTIA'].loc[indices]"
   ]
  },
  {
   "cell_type": "code",
   "execution_count": 0,
   "metadata": {
    "colab": {
     "base_uri": "https://localhost:8080/",
     "height": 104
    },
    "colab_type": "code",
    "id": "DH98L7HCa_U_",
    "outputId": "0e597b4f-b4bc-49c8-cc54-3c67ea923134"
   },
   "outputs": [
    {
     "name": "stderr",
     "output_type": "stream",
     "text": [
      "/usr/local/lib/python3.6/dist-packages/pandas/core/indexing.py:205: SettingWithCopyWarning: \n",
      "A value is trying to be set on a copy of a slice from a DataFrame\n",
      "\n",
      "See the caveats in the documentation: http://pandas.pydata.org/pandas-docs/stable/user_guide/indexing.html#returning-a-view-versus-a-copy\n",
      "  self._setitem_with_indexer(indexer, value)\n"
     ]
    }
   ],
   "source": [
    "dados['TEMPO_GARANTIA'].loc[indices] = dados[dados.TEMPO_GARANTIA.isna()].query(\"MARCA == 'TRAMONTINA'\").query(f\"TIPO_PRODUTO in {list_tramontina_garantia}\").TIPO_PRODUTO.map(dic_tramontina_garantia)"
   ]
  },
  {
   "cell_type": "code",
   "execution_count": 0,
   "metadata": {
    "colab": {
     "base_uri": "https://localhost:8080/",
     "height": 52
    },
    "colab_type": "code",
    "id": "fGr6k7bMdWh8",
    "outputId": "f3d49005-8c32-412f-fa4a-54395e04470b"
   },
   "outputs": [
    {
     "data": {
      "text/plain": [
       "12.0    285\n",
       "Name: TEMPO_GARANTIA, dtype: int64"
      ]
     },
     "execution_count": 85,
     "metadata": {
      "tags": []
     },
     "output_type": "execute_result"
    }
   ],
   "source": [
    "# pronto, alguns dados já foram preenchidos, vamos agora para o que deixei para analizar mais tarde\n",
    "dados['TEMPO_GARANTIA'].loc[indices].value_counts()"
   ]
  },
  {
   "cell_type": "code",
   "execution_count": 0,
   "metadata": {
    "colab": {
     "base_uri": "https://localhost:8080/",
     "height": 195
    },
    "colab_type": "code",
    "id": "1w1n9wlndmmK",
    "outputId": "16641634-6cdb-4c8d-dcdf-93ffc4e154e1"
   },
   "outputs": [
    {
     "data": {
      "text/html": [
       "<div>\n",
       "<style scoped>\n",
       "    .dataframe tbody tr th:only-of-type {\n",
       "        vertical-align: middle;\n",
       "    }\n",
       "\n",
       "    .dataframe tbody tr th {\n",
       "        vertical-align: top;\n",
       "    }\n",
       "\n",
       "    .dataframe thead tr th {\n",
       "        text-align: left;\n",
       "    }\n",
       "\n",
       "    .dataframe thead tr:last-of-type th {\n",
       "        text-align: right;\n",
       "    }\n",
       "</style>\n",
       "<table border=\"1\" class=\"dataframe\">\n",
       "  <thead>\n",
       "    <tr>\n",
       "      <th></th>\n",
       "      <th></th>\n",
       "      <th></th>\n",
       "      <th colspan=\"2\" halign=\"left\">ALTURA</th>\n",
       "      <th colspan=\"2\" halign=\"left\">CAPACIDADE_(L)</th>\n",
       "      <th colspan=\"2\" halign=\"left\">LARGURA</th>\n",
       "      <th colspan=\"2\" halign=\"left\">PROFUNDIDADE</th>\n",
       "      <th colspan=\"2\" halign=\"left\">PESO</th>\n",
       "      <th colspan=\"2\" halign=\"left\">ITEM_PRICE</th>\n",
       "      <th colspan=\"2\" halign=\"left\">PARA_LAVA_LOUCAS</th>\n",
       "      <th colspan=\"2\" halign=\"left\">TIPO_WOK</th>\n",
       "      <th colspan=\"2\" halign=\"left\">INTERESTED</th>\n",
       "    </tr>\n",
       "    <tr>\n",
       "      <th></th>\n",
       "      <th></th>\n",
       "      <th></th>\n",
       "      <th>mean</th>\n",
       "      <th>std</th>\n",
       "      <th>mean</th>\n",
       "      <th>std</th>\n",
       "      <th>mean</th>\n",
       "      <th>std</th>\n",
       "      <th>mean</th>\n",
       "      <th>std</th>\n",
       "      <th>mean</th>\n",
       "      <th>std</th>\n",
       "      <th>mean</th>\n",
       "      <th>std</th>\n",
       "      <th>mean</th>\n",
       "      <th>std</th>\n",
       "      <th>mean</th>\n",
       "      <th>std</th>\n",
       "      <th>mean</th>\n",
       "      <th>std</th>\n",
       "    </tr>\n",
       "    <tr>\n",
       "      <th>MARCA</th>\n",
       "      <th>TEMPO_GARANTIA</th>\n",
       "      <th>TIPO_PRODUTO</th>\n",
       "      <th></th>\n",
       "      <th></th>\n",
       "      <th></th>\n",
       "      <th></th>\n",
       "      <th></th>\n",
       "      <th></th>\n",
       "      <th></th>\n",
       "      <th></th>\n",
       "      <th></th>\n",
       "      <th></th>\n",
       "      <th></th>\n",
       "      <th></th>\n",
       "      <th></th>\n",
       "      <th></th>\n",
       "      <th></th>\n",
       "      <th></th>\n",
       "      <th></th>\n",
       "      <th></th>\n",
       "    </tr>\n",
       "  </thead>\n",
       "  <tbody>\n",
       "    <tr>\n",
       "      <th rowspan=\"2\" valign=\"top\">TRAMONTINA</th>\n",
       "      <th>12.0</th>\n",
       "      <th>CACAROLA</th>\n",
       "      <td>24.757778</td>\n",
       "      <td>5.693934</td>\n",
       "      <td>3.2525</td>\n",
       "      <td>1.479576</td>\n",
       "      <td>22.371111</td>\n",
       "      <td>3.207497</td>\n",
       "      <td>18.232083</td>\n",
       "      <td>9.914114</td>\n",
       "      <td>118.916667</td>\n",
       "      <td>80.462459</td>\n",
       "      <td>169.922007</td>\n",
       "      <td>30.975097</td>\n",
       "      <td>0.772222</td>\n",
       "      <td>0.41969</td>\n",
       "      <td>0.0</td>\n",
       "      <td>0.0</td>\n",
       "      <td>0.151389</td>\n",
       "      <td>0.358677</td>\n",
       "    </tr>\n",
       "    <tr>\n",
       "      <th>300.0</th>\n",
       "      <th>CACAROLA</th>\n",
       "      <td>11.000000</td>\n",
       "      <td>0.000000</td>\n",
       "      <td>2.5000</td>\n",
       "      <td>0.000000</td>\n",
       "      <td>23.000000</td>\n",
       "      <td>0.000000</td>\n",
       "      <td>39.000000</td>\n",
       "      <td>0.000000</td>\n",
       "      <td>170.000000</td>\n",
       "      <td>0.000000</td>\n",
       "      <td>166.781084</td>\n",
       "      <td>4.520785</td>\n",
       "      <td>0.000000</td>\n",
       "      <td>0.00000</td>\n",
       "      <td>0.0</td>\n",
       "      <td>0.0</td>\n",
       "      <td>0.147929</td>\n",
       "      <td>0.356085</td>\n",
       "    </tr>\n",
       "  </tbody>\n",
       "</table>\n",
       "</div>"
      ],
      "text/plain": [
       "                                           ALTURA  ... INTERESTED\n",
       "                                             mean  ...        std\n",
       "MARCA      TEMPO_GARANTIA TIPO_PRODUTO             ...           \n",
       "TRAMONTINA 12.0           CACAROLA      24.757778  ...   0.358677\n",
       "           300.0          CACAROLA      11.000000  ...   0.356085\n",
       "\n",
       "[2 rows x 18 columns]"
      ]
     },
     "execution_count": 86,
     "metadata": {
      "tags": []
     },
     "output_type": "execute_result"
    }
   ],
   "source": [
    "analizar_depois_2.set_index([\"MARCA\", \"TIPO_PRODUTO\", \"TEMPO_GARANTIA\"]).groupby(level = [\"MARCA\", \"TEMPO_GARANTIA\", \"TIPO_PRODUTO\"]).aggregate([np.mean, np.std])"
   ]
  },
  {
   "cell_type": "code",
   "execution_count": 0,
   "metadata": {
    "colab": {
     "base_uri": "https://localhost:8080/",
     "height": 301
    },
    "colab_type": "code",
    "id": "VOTgvHSgeBP6",
    "outputId": "ec697516-0c6a-4899-d271-d48ba5749ffd"
   },
   "outputs": [
    {
     "data": {
      "text/html": [
       "<div>\n",
       "<style scoped>\n",
       "    .dataframe tbody tr th:only-of-type {\n",
       "        vertical-align: middle;\n",
       "    }\n",
       "\n",
       "    .dataframe tbody tr th {\n",
       "        vertical-align: top;\n",
       "    }\n",
       "\n",
       "    .dataframe thead th {\n",
       "        text-align: right;\n",
       "    }\n",
       "</style>\n",
       "<table border=\"1\" class=\"dataframe\">\n",
       "  <thead>\n",
       "    <tr style=\"text-align: right;\">\n",
       "      <th></th>\n",
       "      <th>ALTURA</th>\n",
       "      <th>CAPACIDADE_(L)</th>\n",
       "      <th>LARGURA</th>\n",
       "      <th>PROFUNDIDADE</th>\n",
       "      <th>PESO</th>\n",
       "      <th>TEMPO_GARANTIA</th>\n",
       "      <th>ITEM_PRICE</th>\n",
       "      <th>PARA_LAVA_LOUCAS</th>\n",
       "      <th>TIPO_WOK</th>\n",
       "      <th>INTERESTED</th>\n",
       "    </tr>\n",
       "  </thead>\n",
       "  <tbody>\n",
       "    <tr>\n",
       "      <th>count</th>\n",
       "      <td>720.000000</td>\n",
       "      <td>720.000000</td>\n",
       "      <td>720.000000</td>\n",
       "      <td>720.000000</td>\n",
       "      <td>720.000000</td>\n",
       "      <td>720.0</td>\n",
       "      <td>598.000000</td>\n",
       "      <td>720.000000</td>\n",
       "      <td>720.0</td>\n",
       "      <td>720.000000</td>\n",
       "    </tr>\n",
       "    <tr>\n",
       "      <th>mean</th>\n",
       "      <td>24.757778</td>\n",
       "      <td>3.252500</td>\n",
       "      <td>22.371111</td>\n",
       "      <td>18.232083</td>\n",
       "      <td>118.916667</td>\n",
       "      <td>12.0</td>\n",
       "      <td>169.922007</td>\n",
       "      <td>0.772222</td>\n",
       "      <td>0.0</td>\n",
       "      <td>0.151389</td>\n",
       "    </tr>\n",
       "    <tr>\n",
       "      <th>std</th>\n",
       "      <td>5.693934</td>\n",
       "      <td>1.479576</td>\n",
       "      <td>3.207497</td>\n",
       "      <td>9.914114</td>\n",
       "      <td>80.462459</td>\n",
       "      <td>0.0</td>\n",
       "      <td>30.975097</td>\n",
       "      <td>0.419690</td>\n",
       "      <td>0.0</td>\n",
       "      <td>0.358677</td>\n",
       "    </tr>\n",
       "    <tr>\n",
       "      <th>min</th>\n",
       "      <td>16.300000</td>\n",
       "      <td>1.400000</td>\n",
       "      <td>18.000000</td>\n",
       "      <td>8.000000</td>\n",
       "      <td>10.000000</td>\n",
       "      <td>12.0</td>\n",
       "      <td>117.300000</td>\n",
       "      <td>0.000000</td>\n",
       "      <td>0.0</td>\n",
       "      <td>0.000000</td>\n",
       "    </tr>\n",
       "    <tr>\n",
       "      <th>25%</th>\n",
       "      <td>16.500000</td>\n",
       "      <td>1.800000</td>\n",
       "      <td>18.000000</td>\n",
       "      <td>11.000000</td>\n",
       "      <td>10.000000</td>\n",
       "      <td>12.0</td>\n",
       "      <td>147.450000</td>\n",
       "      <td>1.000000</td>\n",
       "      <td>0.0</td>\n",
       "      <td>0.000000</td>\n",
       "    </tr>\n",
       "    <tr>\n",
       "      <th>50%</th>\n",
       "      <td>26.000000</td>\n",
       "      <td>2.700000</td>\n",
       "      <td>22.300000</td>\n",
       "      <td>13.000000</td>\n",
       "      <td>140.000000</td>\n",
       "      <td>12.0</td>\n",
       "      <td>161.570000</td>\n",
       "      <td>1.000000</td>\n",
       "      <td>0.0</td>\n",
       "      <td>0.000000</td>\n",
       "    </tr>\n",
       "    <tr>\n",
       "      <th>75%</th>\n",
       "      <td>28.800000</td>\n",
       "      <td>3.600000</td>\n",
       "      <td>23.000000</td>\n",
       "      <td>29.300000</td>\n",
       "      <td>150.000000</td>\n",
       "      <td>12.0</td>\n",
       "      <td>196.160000</td>\n",
       "      <td>1.000000</td>\n",
       "      <td>0.0</td>\n",
       "      <td>0.000000</td>\n",
       "    </tr>\n",
       "    <tr>\n",
       "      <th>max</th>\n",
       "      <td>30.700000</td>\n",
       "      <td>6.000000</td>\n",
       "      <td>27.000000</td>\n",
       "      <td>34.300000</td>\n",
       "      <td>220.000000</td>\n",
       "      <td>12.0</td>\n",
       "      <td>302.930000</td>\n",
       "      <td>1.000000</td>\n",
       "      <td>0.0</td>\n",
       "      <td>1.000000</td>\n",
       "    </tr>\n",
       "  </tbody>\n",
       "</table>\n",
       "</div>"
      ],
      "text/plain": [
       "           ALTURA  CAPACIDADE_(L)  ...  TIPO_WOK  INTERESTED\n",
       "count  720.000000      720.000000  ...     720.0  720.000000\n",
       "mean    24.757778        3.252500  ...       0.0    0.151389\n",
       "std      5.693934        1.479576  ...       0.0    0.358677\n",
       "min     16.300000        1.400000  ...       0.0    0.000000\n",
       "25%     16.500000        1.800000  ...       0.0    0.000000\n",
       "50%     26.000000        2.700000  ...       0.0    0.000000\n",
       "75%     28.800000        3.600000  ...       0.0    0.000000\n",
       "max     30.700000        6.000000  ...       0.0    1.000000\n",
       "\n",
       "[8 rows x 10 columns]"
      ]
     },
     "execution_count": 87,
     "metadata": {
      "tags": []
     },
     "output_type": "execute_result"
    }
   ],
   "source": [
    "analizar_depois_2.query(\"TEMPO_GARANTIA == 12.0\").describe()"
   ]
  },
  {
   "cell_type": "code",
   "execution_count": 0,
   "metadata": {
    "colab": {
     "base_uri": "https://localhost:8080/",
     "height": 301
    },
    "colab_type": "code",
    "id": "_HoBrO7AeZ4u",
    "outputId": "29f1617f-ed77-43bf-aac2-61aaa118b68c"
   },
   "outputs": [
    {
     "data": {
      "text/html": [
       "<div>\n",
       "<style scoped>\n",
       "    .dataframe tbody tr th:only-of-type {\n",
       "        vertical-align: middle;\n",
       "    }\n",
       "\n",
       "    .dataframe tbody tr th {\n",
       "        vertical-align: top;\n",
       "    }\n",
       "\n",
       "    .dataframe thead th {\n",
       "        text-align: right;\n",
       "    }\n",
       "</style>\n",
       "<table border=\"1\" class=\"dataframe\">\n",
       "  <thead>\n",
       "    <tr style=\"text-align: right;\">\n",
       "      <th></th>\n",
       "      <th>ALTURA</th>\n",
       "      <th>CAPACIDADE_(L)</th>\n",
       "      <th>LARGURA</th>\n",
       "      <th>PROFUNDIDADE</th>\n",
       "      <th>PESO</th>\n",
       "      <th>TEMPO_GARANTIA</th>\n",
       "      <th>ITEM_PRICE</th>\n",
       "      <th>PARA_LAVA_LOUCAS</th>\n",
       "      <th>TIPO_WOK</th>\n",
       "      <th>INTERESTED</th>\n",
       "    </tr>\n",
       "  </thead>\n",
       "  <tbody>\n",
       "    <tr>\n",
       "      <th>count</th>\n",
       "      <td>169.0</td>\n",
       "      <td>169.0</td>\n",
       "      <td>169.0</td>\n",
       "      <td>169.0</td>\n",
       "      <td>169.0</td>\n",
       "      <td>169.0</td>\n",
       "      <td>166.000000</td>\n",
       "      <td>169.0</td>\n",
       "      <td>169.0</td>\n",
       "      <td>169.000000</td>\n",
       "    </tr>\n",
       "    <tr>\n",
       "      <th>mean</th>\n",
       "      <td>11.0</td>\n",
       "      <td>2.5</td>\n",
       "      <td>23.0</td>\n",
       "      <td>39.0</td>\n",
       "      <td>170.0</td>\n",
       "      <td>300.0</td>\n",
       "      <td>166.781084</td>\n",
       "      <td>0.0</td>\n",
       "      <td>0.0</td>\n",
       "      <td>0.147929</td>\n",
       "    </tr>\n",
       "    <tr>\n",
       "      <th>std</th>\n",
       "      <td>0.0</td>\n",
       "      <td>0.0</td>\n",
       "      <td>0.0</td>\n",
       "      <td>0.0</td>\n",
       "      <td>0.0</td>\n",
       "      <td>0.0</td>\n",
       "      <td>4.520785</td>\n",
       "      <td>0.0</td>\n",
       "      <td>0.0</td>\n",
       "      <td>0.356085</td>\n",
       "    </tr>\n",
       "    <tr>\n",
       "      <th>min</th>\n",
       "      <td>11.0</td>\n",
       "      <td>2.5</td>\n",
       "      <td>23.0</td>\n",
       "      <td>39.0</td>\n",
       "      <td>170.0</td>\n",
       "      <td>300.0</td>\n",
       "      <td>159.000000</td>\n",
       "      <td>0.0</td>\n",
       "      <td>0.0</td>\n",
       "      <td>0.000000</td>\n",
       "    </tr>\n",
       "    <tr>\n",
       "      <th>25%</th>\n",
       "      <td>11.0</td>\n",
       "      <td>2.5</td>\n",
       "      <td>23.0</td>\n",
       "      <td>39.0</td>\n",
       "      <td>170.0</td>\n",
       "      <td>300.0</td>\n",
       "      <td>164.850000</td>\n",
       "      <td>0.0</td>\n",
       "      <td>0.0</td>\n",
       "      <td>0.000000</td>\n",
       "    </tr>\n",
       "    <tr>\n",
       "      <th>50%</th>\n",
       "      <td>11.0</td>\n",
       "      <td>2.5</td>\n",
       "      <td>23.0</td>\n",
       "      <td>39.0</td>\n",
       "      <td>170.0</td>\n",
       "      <td>300.0</td>\n",
       "      <td>166.590000</td>\n",
       "      <td>0.0</td>\n",
       "      <td>0.0</td>\n",
       "      <td>0.000000</td>\n",
       "    </tr>\n",
       "    <tr>\n",
       "      <th>75%</th>\n",
       "      <td>11.0</td>\n",
       "      <td>2.5</td>\n",
       "      <td>23.0</td>\n",
       "      <td>39.0</td>\n",
       "      <td>170.0</td>\n",
       "      <td>300.0</td>\n",
       "      <td>168.500000</td>\n",
       "      <td>0.0</td>\n",
       "      <td>0.0</td>\n",
       "      <td>0.000000</td>\n",
       "    </tr>\n",
       "    <tr>\n",
       "      <th>max</th>\n",
       "      <td>11.0</td>\n",
       "      <td>2.5</td>\n",
       "      <td>23.0</td>\n",
       "      <td>39.0</td>\n",
       "      <td>170.0</td>\n",
       "      <td>300.0</td>\n",
       "      <td>180.320000</td>\n",
       "      <td>0.0</td>\n",
       "      <td>0.0</td>\n",
       "      <td>1.000000</td>\n",
       "    </tr>\n",
       "  </tbody>\n",
       "</table>\n",
       "</div>"
      ],
      "text/plain": [
       "       ALTURA  CAPACIDADE_(L)  LARGURA  ...  PARA_LAVA_LOUCAS  TIPO_WOK  INTERESTED\n",
       "count   169.0           169.0    169.0  ...             169.0     169.0  169.000000\n",
       "mean     11.0             2.5     23.0  ...               0.0       0.0    0.147929\n",
       "std       0.0             0.0      0.0  ...               0.0       0.0    0.356085\n",
       "min      11.0             2.5     23.0  ...               0.0       0.0    0.000000\n",
       "25%      11.0             2.5     23.0  ...               0.0       0.0    0.000000\n",
       "50%      11.0             2.5     23.0  ...               0.0       0.0    0.000000\n",
       "75%      11.0             2.5     23.0  ...               0.0       0.0    0.000000\n",
       "max      11.0             2.5     23.0  ...               0.0       0.0    1.000000\n",
       "\n",
       "[8 rows x 10 columns]"
      ]
     },
     "execution_count": 88,
     "metadata": {
      "tags": []
     },
     "output_type": "execute_result"
    }
   ],
   "source": [
    "analizar_depois_2.query(\"TEMPO_GARANTIA == 300.0\").describe()"
   ]
  },
  {
   "cell_type": "code",
   "execution_count": 0,
   "metadata": {
    "colab": {
     "base_uri": "https://localhost:8080/",
     "height": 70
    },
    "colab_type": "code",
    "id": "Xd0mh_jzecVI",
    "outputId": "aee8a122-c8ad-450a-a2ce-c3e4ab47e3c9"
   },
   "outputs": [
    {
     "data": {
      "text/html": [
       "<div>\n",
       "<style scoped>\n",
       "    .dataframe tbody tr th:only-of-type {\n",
       "        vertical-align: middle;\n",
       "    }\n",
       "\n",
       "    .dataframe tbody tr th {\n",
       "        vertical-align: top;\n",
       "    }\n",
       "\n",
       "    .dataframe thead th {\n",
       "        text-align: right;\n",
       "    }\n",
       "</style>\n",
       "<table border=\"1\" class=\"dataframe\">\n",
       "  <thead>\n",
       "    <tr style=\"text-align: right;\">\n",
       "      <th></th>\n",
       "      <th>COMPOSICAO</th>\n",
       "      <th>COR</th>\n",
       "      <th>FORMATO</th>\n",
       "      <th>MARCA</th>\n",
       "      <th>TIPO_PRODUTO</th>\n",
       "      <th>ALTURA</th>\n",
       "      <th>CAPACIDADE_(L)</th>\n",
       "      <th>LARGURA</th>\n",
       "      <th>PROFUNDIDADE</th>\n",
       "      <th>PESO</th>\n",
       "      <th>TEMPO_GARANTIA</th>\n",
       "      <th>ITEM_PRICE</th>\n",
       "      <th>PARA_LAVA_LOUCAS</th>\n",
       "      <th>PARA_MICRO_ONDAS</th>\n",
       "      <th>TEM_FERRO_FUNDIDO</th>\n",
       "      <th>TEM_GRELHA</th>\n",
       "      <th>TEM_TAMPA</th>\n",
       "      <th>TIPO_WOK</th>\n",
       "      <th>INTERESTED</th>\n",
       "    </tr>\n",
       "  </thead>\n",
       "  <tbody>\n",
       "  </tbody>\n",
       "</table>\n",
       "</div>"
      ],
      "text/plain": [
       "Empty DataFrame\n",
       "Columns: [COMPOSICAO, COR, FORMATO, MARCA, TIPO_PRODUTO, ALTURA, CAPACIDADE_(L), LARGURA, PROFUNDIDADE, PESO, TEMPO_GARANTIA, ITEM_PRICE, PARA_LAVA_LOUCAS, PARA_MICRO_ONDAS, TEM_FERRO_FUNDIDO, TEM_GRELHA, TEM_TAMPA, TIPO_WOK, INTERESTED]\n",
       "Index: []"
      ]
     },
     "execution_count": 89,
     "metadata": {
      "tags": []
     },
     "output_type": "execute_result"
    }
   ],
   "source": [
    "# aqui é fácil: se a altura é 11 temos garantia 300, o resto é 12\n",
    "# Não há necessidade de adicionar pois não temos dados missing nessa categoria\n",
    "# Aqui acabei abordando uma estratégia que me fez perder muito tempo, \n",
    "# deveria ter procurado diretamente pelos tipos de dados faltantes...\n",
    "dados[dados.TEMPO_GARANTIA.isna()].query(\"MARCA == 'TRAMONTINA'\").query(\"TIPO_PRODUTO == 'CACAROLA'\")"
   ]
  },
  {
   "cell_type": "code",
   "execution_count": 0,
   "metadata": {
    "colab": {
     "base_uri": "https://localhost:8080/",
     "height": 195
    },
    "colab_type": "code",
    "id": "9f-Nn88NgMOV",
    "outputId": "935a888f-8e71-4943-986e-b986f171cd1a"
   },
   "outputs": [
    {
     "data": {
      "text/html": [
       "<div>\n",
       "<style scoped>\n",
       "    .dataframe tbody tr th:only-of-type {\n",
       "        vertical-align: middle;\n",
       "    }\n",
       "\n",
       "    .dataframe tbody tr th {\n",
       "        vertical-align: top;\n",
       "    }\n",
       "\n",
       "    .dataframe thead tr th {\n",
       "        text-align: left;\n",
       "    }\n",
       "\n",
       "    .dataframe thead tr:last-of-type th {\n",
       "        text-align: right;\n",
       "    }\n",
       "</style>\n",
       "<table border=\"1\" class=\"dataframe\">\n",
       "  <thead>\n",
       "    <tr>\n",
       "      <th></th>\n",
       "      <th></th>\n",
       "      <th></th>\n",
       "      <th colspan=\"2\" halign=\"left\">ALTURA</th>\n",
       "      <th colspan=\"2\" halign=\"left\">CAPACIDADE_(L)</th>\n",
       "      <th colspan=\"2\" halign=\"left\">LARGURA</th>\n",
       "      <th colspan=\"2\" halign=\"left\">PROFUNDIDADE</th>\n",
       "      <th colspan=\"2\" halign=\"left\">PESO</th>\n",
       "      <th colspan=\"2\" halign=\"left\">ITEM_PRICE</th>\n",
       "      <th colspan=\"2\" halign=\"left\">PARA_LAVA_LOUCAS</th>\n",
       "      <th colspan=\"2\" halign=\"left\">TIPO_WOK</th>\n",
       "      <th colspan=\"2\" halign=\"left\">INTERESTED</th>\n",
       "    </tr>\n",
       "    <tr>\n",
       "      <th></th>\n",
       "      <th></th>\n",
       "      <th></th>\n",
       "      <th>mean</th>\n",
       "      <th>std</th>\n",
       "      <th>mean</th>\n",
       "      <th>std</th>\n",
       "      <th>mean</th>\n",
       "      <th>std</th>\n",
       "      <th>mean</th>\n",
       "      <th>std</th>\n",
       "      <th>mean</th>\n",
       "      <th>std</th>\n",
       "      <th>mean</th>\n",
       "      <th>std</th>\n",
       "      <th>mean</th>\n",
       "      <th>std</th>\n",
       "      <th>mean</th>\n",
       "      <th>std</th>\n",
       "      <th>mean</th>\n",
       "      <th>std</th>\n",
       "    </tr>\n",
       "    <tr>\n",
       "      <th>MARCA</th>\n",
       "      <th>TEMPO_GARANTIA</th>\n",
       "      <th>TIPO_PRODUTO</th>\n",
       "      <th></th>\n",
       "      <th></th>\n",
       "      <th></th>\n",
       "      <th></th>\n",
       "      <th></th>\n",
       "      <th></th>\n",
       "      <th></th>\n",
       "      <th></th>\n",
       "      <th></th>\n",
       "      <th></th>\n",
       "      <th></th>\n",
       "      <th></th>\n",
       "      <th></th>\n",
       "      <th></th>\n",
       "      <th></th>\n",
       "      <th></th>\n",
       "      <th></th>\n",
       "      <th></th>\n",
       "    </tr>\n",
       "  </thead>\n",
       "  <tbody>\n",
       "    <tr>\n",
       "      <th rowspan=\"2\" valign=\"top\">TRAMONTINA</th>\n",
       "      <th>12.0</th>\n",
       "      <th>CALDEIRAO</th>\n",
       "      <td>30.825322</td>\n",
       "      <td>2.927943</td>\n",
       "      <td>5.251931</td>\n",
       "      <td>2.19162</td>\n",
       "      <td>23.333047</td>\n",
       "      <td>3.417069</td>\n",
       "      <td>16.497425</td>\n",
       "      <td>2.160458</td>\n",
       "      <td>180.987124</td>\n",
       "      <td>51.698436</td>\n",
       "      <td>204.920140</td>\n",
       "      <td>44.466924</td>\n",
       "      <td>1.0</td>\n",
       "      <td>0.0</td>\n",
       "      <td>0.0</td>\n",
       "      <td>0.0</td>\n",
       "      <td>0.158798</td>\n",
       "      <td>0.366275</td>\n",
       "    </tr>\n",
       "    <tr>\n",
       "      <th>300.0</th>\n",
       "      <th>CALDEIRAO</th>\n",
       "      <td>31.000000</td>\n",
       "      <td>0.000000</td>\n",
       "      <td>11.000000</td>\n",
       "      <td>0.00000</td>\n",
       "      <td>31.000000</td>\n",
       "      <td>0.000000</td>\n",
       "      <td>21.000000</td>\n",
       "      <td>0.000000</td>\n",
       "      <td>360.000000</td>\n",
       "      <td>0.000000</td>\n",
       "      <td>320.109078</td>\n",
       "      <td>34.697358</td>\n",
       "      <td>0.0</td>\n",
       "      <td>0.0</td>\n",
       "      <td>0.0</td>\n",
       "      <td>0.0</td>\n",
       "      <td>0.061881</td>\n",
       "      <td>0.241238</td>\n",
       "    </tr>\n",
       "  </tbody>\n",
       "</table>\n",
       "</div>"
      ],
      "text/plain": [
       "                                           ALTURA  ... INTERESTED\n",
       "                                             mean  ...        std\n",
       "MARCA      TEMPO_GARANTIA TIPO_PRODUTO             ...           \n",
       "TRAMONTINA 12.0           CALDEIRAO     30.825322  ...   0.366275\n",
       "           300.0          CALDEIRAO     31.000000  ...   0.241238\n",
       "\n",
       "[2 rows x 18 columns]"
      ]
     },
     "execution_count": 90,
     "metadata": {
      "tags": []
     },
     "output_type": "execute_result"
    }
   ],
   "source": [
    "analizar_depois_3.set_index([\"MARCA\", \"TIPO_PRODUTO\", \"TEMPO_GARANTIA\"]).groupby(level = [\"MARCA\", \"TEMPO_GARANTIA\", \"TIPO_PRODUTO\"]).aggregate([np.mean, np.std])"
   ]
  },
  {
   "cell_type": "code",
   "execution_count": 0,
   "metadata": {
    "colab": {
     "base_uri": "https://localhost:8080/",
     "height": 226
    },
    "colab_type": "code",
    "id": "KuRcMH4vhtxS",
    "outputId": "6b4603ae-d185-4236-b612-c01d25b9f5f3"
   },
   "outputs": [
    {
     "data": {
      "text/html": [
       "<div>\n",
       "<style scoped>\n",
       "    .dataframe tbody tr th:only-of-type {\n",
       "        vertical-align: middle;\n",
       "    }\n",
       "\n",
       "    .dataframe tbody tr th {\n",
       "        vertical-align: top;\n",
       "    }\n",
       "\n",
       "    .dataframe thead th {\n",
       "        text-align: right;\n",
       "    }\n",
       "</style>\n",
       "<table border=\"1\" class=\"dataframe\">\n",
       "  <thead>\n",
       "    <tr style=\"text-align: right;\">\n",
       "      <th></th>\n",
       "      <th>COMPOSICAO</th>\n",
       "      <th>COR</th>\n",
       "      <th>FORMATO</th>\n",
       "      <th>MARCA</th>\n",
       "      <th>TIPO_PRODUTO</th>\n",
       "      <th>ALTURA</th>\n",
       "      <th>CAPACIDADE_(L)</th>\n",
       "      <th>LARGURA</th>\n",
       "      <th>PROFUNDIDADE</th>\n",
       "      <th>PESO</th>\n",
       "      <th>TEMPO_GARANTIA</th>\n",
       "      <th>ITEM_PRICE</th>\n",
       "      <th>PARA_LAVA_LOUCAS</th>\n",
       "      <th>PARA_MICRO_ONDAS</th>\n",
       "      <th>TEM_FERRO_FUNDIDO</th>\n",
       "      <th>TEM_GRELHA</th>\n",
       "      <th>TEM_TAMPA</th>\n",
       "      <th>TIPO_WOK</th>\n",
       "      <th>INTERESTED</th>\n",
       "    </tr>\n",
       "  </thead>\n",
       "  <tbody>\n",
       "    <tr>\n",
       "      <th>11908</th>\n",
       "      <td>ALUMINIO</td>\n",
       "      <td>BRANCO</td>\n",
       "      <td>REDONDO</td>\n",
       "      <td>TRAMONTINA</td>\n",
       "      <td>CALDEIRAO</td>\n",
       "      <td>33.0</td>\n",
       "      <td>4.2</td>\n",
       "      <td>21.7</td>\n",
       "      <td>23.0</td>\n",
       "      <td>10.0</td>\n",
       "      <td>NaN</td>\n",
       "      <td>NaN</td>\n",
       "      <td>1.0</td>\n",
       "      <td>0.0</td>\n",
       "      <td>0.0</td>\n",
       "      <td>0.0</td>\n",
       "      <td>1.0</td>\n",
       "      <td>0.0</td>\n",
       "      <td>0.0</td>\n",
       "    </tr>\n",
       "    <tr>\n",
       "      <th>16910</th>\n",
       "      <td>ALUMINIO</td>\n",
       "      <td>BRANCO</td>\n",
       "      <td>REDONDO</td>\n",
       "      <td>TRAMONTINA</td>\n",
       "      <td>CALDEIRAO</td>\n",
       "      <td>33.0</td>\n",
       "      <td>4.2</td>\n",
       "      <td>21.7</td>\n",
       "      <td>23.0</td>\n",
       "      <td>10.0</td>\n",
       "      <td>NaN</td>\n",
       "      <td>NaN</td>\n",
       "      <td>1.0</td>\n",
       "      <td>0.0</td>\n",
       "      <td>0.0</td>\n",
       "      <td>0.0</td>\n",
       "      <td>1.0</td>\n",
       "      <td>0.0</td>\n",
       "      <td>0.0</td>\n",
       "    </tr>\n",
       "    <tr>\n",
       "      <th>22787</th>\n",
       "      <td>ALUMINIO</td>\n",
       "      <td>BRANCO</td>\n",
       "      <td>REDONDO</td>\n",
       "      <td>TRAMONTINA</td>\n",
       "      <td>CALDEIRAO</td>\n",
       "      <td>33.0</td>\n",
       "      <td>4.2</td>\n",
       "      <td>21.7</td>\n",
       "      <td>23.0</td>\n",
       "      <td>10.0</td>\n",
       "      <td>NaN</td>\n",
       "      <td>NaN</td>\n",
       "      <td>1.0</td>\n",
       "      <td>0.0</td>\n",
       "      <td>0.0</td>\n",
       "      <td>0.0</td>\n",
       "      <td>1.0</td>\n",
       "      <td>0.0</td>\n",
       "      <td>0.0</td>\n",
       "    </tr>\n",
       "    <tr>\n",
       "      <th>24454</th>\n",
       "      <td>ALUMINIO</td>\n",
       "      <td>BRANCO</td>\n",
       "      <td>REDONDO</td>\n",
       "      <td>TRAMONTINA</td>\n",
       "      <td>CALDEIRAO</td>\n",
       "      <td>33.0</td>\n",
       "      <td>4.2</td>\n",
       "      <td>21.7</td>\n",
       "      <td>23.0</td>\n",
       "      <td>10.0</td>\n",
       "      <td>NaN</td>\n",
       "      <td>NaN</td>\n",
       "      <td>1.0</td>\n",
       "      <td>0.0</td>\n",
       "      <td>0.0</td>\n",
       "      <td>0.0</td>\n",
       "      <td>1.0</td>\n",
       "      <td>0.0</td>\n",
       "      <td>0.0</td>\n",
       "    </tr>\n",
       "    <tr>\n",
       "      <th>25357</th>\n",
       "      <td>ALUMINIO</td>\n",
       "      <td>BRANCO</td>\n",
       "      <td>REDONDO</td>\n",
       "      <td>TRAMONTINA</td>\n",
       "      <td>CALDEIRAO</td>\n",
       "      <td>33.0</td>\n",
       "      <td>4.2</td>\n",
       "      <td>21.7</td>\n",
       "      <td>23.0</td>\n",
       "      <td>10.0</td>\n",
       "      <td>NaN</td>\n",
       "      <td>NaN</td>\n",
       "      <td>1.0</td>\n",
       "      <td>0.0</td>\n",
       "      <td>0.0</td>\n",
       "      <td>0.0</td>\n",
       "      <td>1.0</td>\n",
       "      <td>0.0</td>\n",
       "      <td>0.0</td>\n",
       "    </tr>\n",
       "  </tbody>\n",
       "</table>\n",
       "</div>"
      ],
      "text/plain": [
       "      COMPOSICAO     COR  FORMATO  ... TEM_TAMPA TIPO_WOK  INTERESTED\n",
       "11908   ALUMINIO  BRANCO  REDONDO  ...       1.0      0.0         0.0\n",
       "16910   ALUMINIO  BRANCO  REDONDO  ...       1.0      0.0         0.0\n",
       "22787   ALUMINIO  BRANCO  REDONDO  ...       1.0      0.0         0.0\n",
       "24454   ALUMINIO  BRANCO  REDONDO  ...       1.0      0.0         0.0\n",
       "25357   ALUMINIO  BRANCO  REDONDO  ...       1.0      0.0         0.0\n",
       "\n",
       "[5 rows x 19 columns]"
      ]
     },
     "execution_count": 91,
     "metadata": {
      "tags": []
     },
     "output_type": "execute_result"
    }
   ],
   "source": [
    "# desta vez vou verificar primeira a presença no dataset:\n",
    "dados[dados.TEMPO_GARANTIA.isna()].query(\"MARCA == 'TRAMONTINA'\").query(\"TIPO_PRODUTO == 'CALDEIRAO'\").head()"
   ]
  },
  {
   "cell_type": "code",
   "execution_count": 0,
   "metadata": {
    "colab": {
     "base_uri": "https://localhost:8080/",
     "height": 301
    },
    "colab_type": "code",
    "id": "MI91Uq4BhK6r",
    "outputId": "541fc13b-3115-459d-d346-c36afd489fdb"
   },
   "outputs": [
    {
     "data": {
      "text/html": [
       "<div>\n",
       "<style scoped>\n",
       "    .dataframe tbody tr th:only-of-type {\n",
       "        vertical-align: middle;\n",
       "    }\n",
       "\n",
       "    .dataframe tbody tr th {\n",
       "        vertical-align: top;\n",
       "    }\n",
       "\n",
       "    .dataframe thead th {\n",
       "        text-align: right;\n",
       "    }\n",
       "</style>\n",
       "<table border=\"1\" class=\"dataframe\">\n",
       "  <thead>\n",
       "    <tr style=\"text-align: right;\">\n",
       "      <th></th>\n",
       "      <th>ALTURA</th>\n",
       "      <th>CAPACIDADE_(L)</th>\n",
       "      <th>LARGURA</th>\n",
       "      <th>PROFUNDIDADE</th>\n",
       "      <th>PESO</th>\n",
       "      <th>TEMPO_GARANTIA</th>\n",
       "      <th>ITEM_PRICE</th>\n",
       "      <th>PARA_LAVA_LOUCAS</th>\n",
       "      <th>TIPO_WOK</th>\n",
       "      <th>INTERESTED</th>\n",
       "    </tr>\n",
       "  </thead>\n",
       "  <tbody>\n",
       "    <tr>\n",
       "      <th>count</th>\n",
       "      <td>233.000000</td>\n",
       "      <td>233.000000</td>\n",
       "      <td>233.000000</td>\n",
       "      <td>233.000000</td>\n",
       "      <td>233.000000</td>\n",
       "      <td>233.0</td>\n",
       "      <td>215.000000</td>\n",
       "      <td>233.0</td>\n",
       "      <td>233.0</td>\n",
       "      <td>233.000000</td>\n",
       "    </tr>\n",
       "    <tr>\n",
       "      <th>mean</th>\n",
       "      <td>30.825322</td>\n",
       "      <td>5.251931</td>\n",
       "      <td>23.333047</td>\n",
       "      <td>16.497425</td>\n",
       "      <td>180.987124</td>\n",
       "      <td>12.0</td>\n",
       "      <td>204.920140</td>\n",
       "      <td>1.0</td>\n",
       "      <td>0.0</td>\n",
       "      <td>0.158798</td>\n",
       "    </tr>\n",
       "    <tr>\n",
       "      <th>std</th>\n",
       "      <td>2.927943</td>\n",
       "      <td>2.191620</td>\n",
       "      <td>3.417069</td>\n",
       "      <td>2.160458</td>\n",
       "      <td>51.698436</td>\n",
       "      <td>0.0</td>\n",
       "      <td>44.466924</td>\n",
       "      <td>0.0</td>\n",
       "      <td>0.0</td>\n",
       "      <td>0.366275</td>\n",
       "    </tr>\n",
       "    <tr>\n",
       "      <th>min</th>\n",
       "      <td>28.200000</td>\n",
       "      <td>2.100000</td>\n",
       "      <td>18.100000</td>\n",
       "      <td>13.000000</td>\n",
       "      <td>110.000000</td>\n",
       "      <td>12.0</td>\n",
       "      <td>129.900000</td>\n",
       "      <td>1.0</td>\n",
       "      <td>0.0</td>\n",
       "      <td>0.000000</td>\n",
       "    </tr>\n",
       "    <tr>\n",
       "      <th>25%</th>\n",
       "      <td>28.200000</td>\n",
       "      <td>4.500000</td>\n",
       "      <td>22.500000</td>\n",
       "      <td>16.200000</td>\n",
       "      <td>160.000000</td>\n",
       "      <td>12.0</td>\n",
       "      <td>150.900000</td>\n",
       "      <td>1.0</td>\n",
       "      <td>0.0</td>\n",
       "      <td>0.000000</td>\n",
       "    </tr>\n",
       "    <tr>\n",
       "      <th>50%</th>\n",
       "      <td>30.500000</td>\n",
       "      <td>4.500000</td>\n",
       "      <td>22.500000</td>\n",
       "      <td>16.200000</td>\n",
       "      <td>160.000000</td>\n",
       "      <td>12.0</td>\n",
       "      <td>196.990000</td>\n",
       "      <td>1.0</td>\n",
       "      <td>0.0</td>\n",
       "      <td>0.000000</td>\n",
       "    </tr>\n",
       "    <tr>\n",
       "      <th>75%</th>\n",
       "      <td>30.500000</td>\n",
       "      <td>7.700000</td>\n",
       "      <td>27.000000</td>\n",
       "      <td>18.700000</td>\n",
       "      <td>240.000000</td>\n",
       "      <td>12.0</td>\n",
       "      <td>256.000000</td>\n",
       "      <td>1.0</td>\n",
       "      <td>0.0</td>\n",
       "      <td>0.000000</td>\n",
       "    </tr>\n",
       "    <tr>\n",
       "      <th>max</th>\n",
       "      <td>36.000000</td>\n",
       "      <td>7.700000</td>\n",
       "      <td>27.000000</td>\n",
       "      <td>18.700000</td>\n",
       "      <td>240.000000</td>\n",
       "      <td>12.0</td>\n",
       "      <td>260.900000</td>\n",
       "      <td>1.0</td>\n",
       "      <td>0.0</td>\n",
       "      <td>1.000000</td>\n",
       "    </tr>\n",
       "  </tbody>\n",
       "</table>\n",
       "</div>"
      ],
      "text/plain": [
       "           ALTURA  CAPACIDADE_(L)  ...  TIPO_WOK  INTERESTED\n",
       "count  233.000000      233.000000  ...     233.0  233.000000\n",
       "mean    30.825322        5.251931  ...       0.0    0.158798\n",
       "std      2.927943        2.191620  ...       0.0    0.366275\n",
       "min     28.200000        2.100000  ...       0.0    0.000000\n",
       "25%     28.200000        4.500000  ...       0.0    0.000000\n",
       "50%     30.500000        4.500000  ...       0.0    0.000000\n",
       "75%     30.500000        7.700000  ...       0.0    0.000000\n",
       "max     36.000000        7.700000  ...       0.0    1.000000\n",
       "\n",
       "[8 rows x 10 columns]"
      ]
     },
     "execution_count": 92,
     "metadata": {
      "tags": []
     },
     "output_type": "execute_result"
    }
   ],
   "source": [
    "analizar_depois_3.query(\"TEMPO_GARANTIA == 12\").describe()"
   ]
  },
  {
   "cell_type": "code",
   "execution_count": 0,
   "metadata": {
    "colab": {
     "base_uri": "https://localhost:8080/",
     "height": 301
    },
    "colab_type": "code",
    "id": "k41NGm6Qhlea",
    "outputId": "f7e50355-c0fd-4744-b444-56f6da10cc06"
   },
   "outputs": [
    {
     "data": {
      "text/html": [
       "<div>\n",
       "<style scoped>\n",
       "    .dataframe tbody tr th:only-of-type {\n",
       "        vertical-align: middle;\n",
       "    }\n",
       "\n",
       "    .dataframe tbody tr th {\n",
       "        vertical-align: top;\n",
       "    }\n",
       "\n",
       "    .dataframe thead th {\n",
       "        text-align: right;\n",
       "    }\n",
       "</style>\n",
       "<table border=\"1\" class=\"dataframe\">\n",
       "  <thead>\n",
       "    <tr style=\"text-align: right;\">\n",
       "      <th></th>\n",
       "      <th>ALTURA</th>\n",
       "      <th>CAPACIDADE_(L)</th>\n",
       "      <th>LARGURA</th>\n",
       "      <th>PROFUNDIDADE</th>\n",
       "      <th>PESO</th>\n",
       "      <th>TEMPO_GARANTIA</th>\n",
       "      <th>ITEM_PRICE</th>\n",
       "      <th>PARA_LAVA_LOUCAS</th>\n",
       "      <th>TIPO_WOK</th>\n",
       "      <th>INTERESTED</th>\n",
       "    </tr>\n",
       "  </thead>\n",
       "  <tbody>\n",
       "    <tr>\n",
       "      <th>count</th>\n",
       "      <td>404.0</td>\n",
       "      <td>404.0</td>\n",
       "      <td>404.0</td>\n",
       "      <td>404.0</td>\n",
       "      <td>404.0</td>\n",
       "      <td>404.0</td>\n",
       "      <td>358.000000</td>\n",
       "      <td>404.0</td>\n",
       "      <td>404.0</td>\n",
       "      <td>404.000000</td>\n",
       "    </tr>\n",
       "    <tr>\n",
       "      <th>mean</th>\n",
       "      <td>31.0</td>\n",
       "      <td>11.0</td>\n",
       "      <td>31.0</td>\n",
       "      <td>21.0</td>\n",
       "      <td>360.0</td>\n",
       "      <td>300.0</td>\n",
       "      <td>320.109078</td>\n",
       "      <td>0.0</td>\n",
       "      <td>0.0</td>\n",
       "      <td>0.061881</td>\n",
       "    </tr>\n",
       "    <tr>\n",
       "      <th>std</th>\n",
       "      <td>0.0</td>\n",
       "      <td>0.0</td>\n",
       "      <td>0.0</td>\n",
       "      <td>0.0</td>\n",
       "      <td>0.0</td>\n",
       "      <td>0.0</td>\n",
       "      <td>34.697358</td>\n",
       "      <td>0.0</td>\n",
       "      <td>0.0</td>\n",
       "      <td>0.241238</td>\n",
       "    </tr>\n",
       "    <tr>\n",
       "      <th>min</th>\n",
       "      <td>31.0</td>\n",
       "      <td>11.0</td>\n",
       "      <td>31.0</td>\n",
       "      <td>21.0</td>\n",
       "      <td>360.0</td>\n",
       "      <td>300.0</td>\n",
       "      <td>289.560000</td>\n",
       "      <td>0.0</td>\n",
       "      <td>0.0</td>\n",
       "      <td>0.000000</td>\n",
       "    </tr>\n",
       "    <tr>\n",
       "      <th>25%</th>\n",
       "      <td>31.0</td>\n",
       "      <td>11.0</td>\n",
       "      <td>31.0</td>\n",
       "      <td>21.0</td>\n",
       "      <td>360.0</td>\n",
       "      <td>300.0</td>\n",
       "      <td>305.900000</td>\n",
       "      <td>0.0</td>\n",
       "      <td>0.0</td>\n",
       "      <td>0.000000</td>\n",
       "    </tr>\n",
       "    <tr>\n",
       "      <th>50%</th>\n",
       "      <td>31.0</td>\n",
       "      <td>11.0</td>\n",
       "      <td>31.0</td>\n",
       "      <td>21.0</td>\n",
       "      <td>360.0</td>\n",
       "      <td>300.0</td>\n",
       "      <td>305.900000</td>\n",
       "      <td>0.0</td>\n",
       "      <td>0.0</td>\n",
       "      <td>0.000000</td>\n",
       "    </tr>\n",
       "    <tr>\n",
       "      <th>75%</th>\n",
       "      <td>31.0</td>\n",
       "      <td>11.0</td>\n",
       "      <td>31.0</td>\n",
       "      <td>21.0</td>\n",
       "      <td>360.0</td>\n",
       "      <td>300.0</td>\n",
       "      <td>306.250000</td>\n",
       "      <td>0.0</td>\n",
       "      <td>0.0</td>\n",
       "      <td>0.000000</td>\n",
       "    </tr>\n",
       "    <tr>\n",
       "      <th>max</th>\n",
       "      <td>31.0</td>\n",
       "      <td>11.0</td>\n",
       "      <td>31.0</td>\n",
       "      <td>21.0</td>\n",
       "      <td>360.0</td>\n",
       "      <td>300.0</td>\n",
       "      <td>479.590000</td>\n",
       "      <td>0.0</td>\n",
       "      <td>0.0</td>\n",
       "      <td>1.000000</td>\n",
       "    </tr>\n",
       "  </tbody>\n",
       "</table>\n",
       "</div>"
      ],
      "text/plain": [
       "       ALTURA  CAPACIDADE_(L)  LARGURA  ...  PARA_LAVA_LOUCAS  TIPO_WOK  INTERESTED\n",
       "count   404.0           404.0    404.0  ...             404.0     404.0  404.000000\n",
       "mean     31.0            11.0     31.0  ...               0.0       0.0    0.061881\n",
       "std       0.0             0.0      0.0  ...               0.0       0.0    0.241238\n",
       "min      31.0            11.0     31.0  ...               0.0       0.0    0.000000\n",
       "25%      31.0            11.0     31.0  ...               0.0       0.0    0.000000\n",
       "50%      31.0            11.0     31.0  ...               0.0       0.0    0.000000\n",
       "75%      31.0            11.0     31.0  ...               0.0       0.0    0.000000\n",
       "max      31.0            11.0     31.0  ...               0.0       0.0    1.000000\n",
       "\n",
       "[8 rows x 10 columns]"
      ]
     },
     "execution_count": 93,
     "metadata": {
      "tags": []
     },
     "output_type": "execute_result"
    }
   ],
   "source": [
    "analizar_depois_3.query(\"TEMPO_GARANTIA == 300\").describe()"
   ]
  },
  {
   "cell_type": "code",
   "execution_count": 0,
   "metadata": {
    "colab": {},
    "colab_type": "code",
    "id": "ufOGUUsmhoJS"
   },
   "outputs": [],
   "source": [
    "# aqui observamos uma caracteristica na variável peso: a garantia é 300 quando o peso é 360\n",
    "indices = dados[dados.TEMPO_GARANTIA.isna()].query(\"MARCA == 'TRAMONTINA'\").query(\"TIPO_PRODUTO == 'CALDEIRAO'\").PESO.index#; indices"
   ]
  },
  {
   "cell_type": "code",
   "execution_count": 0,
   "metadata": {
    "colab": {
     "base_uri": "https://localhost:8080/",
     "height": 52
    },
    "colab_type": "code",
    "id": "4Gz4C6C2ixeI",
    "outputId": "625c5b62-4409-482f-ce07-30cd00295b45"
   },
   "outputs": [
    {
     "data": {
      "text/plain": [
       "10.0    37\n",
       "Name: PESO, dtype: int64"
      ]
     },
     "execution_count": 95,
     "metadata": {
      "tags": []
     },
     "output_type": "execute_result"
    }
   ],
   "source": [
    "dados.loc[indices].PESO.value_counts() # podemos ver que só existem caldeirões pequenos. Sem poção hoje..."
   ]
  },
  {
   "cell_type": "code",
   "execution_count": 0,
   "metadata": {
    "colab": {
     "base_uri": "https://localhost:8080/",
     "height": 104
    },
    "colab_type": "code",
    "id": "4dj7q429jGvn",
    "outputId": "38540bde-89fd-4e75-9f9d-5279243f8af4"
   },
   "outputs": [
    {
     "name": "stderr",
     "output_type": "stream",
     "text": [
      "/usr/local/lib/python3.6/dist-packages/pandas/core/indexing.py:205: SettingWithCopyWarning: \n",
      "A value is trying to be set on a copy of a slice from a DataFrame\n",
      "\n",
      "See the caveats in the documentation: http://pandas.pydata.org/pandas-docs/stable/user_guide/indexing.html#returning-a-view-versus-a-copy\n",
      "  self._setitem_with_indexer(indexer, value)\n"
     ]
    }
   ],
   "source": [
    "dados[\"TEMPO_GARANTIA\"].loc[indices] = dados.loc[indices].PESO.map(lambda x: 12.0)"
   ]
  },
  {
   "cell_type": "code",
   "execution_count": 0,
   "metadata": {
    "colab": {
     "base_uri": "https://localhost:8080/",
     "height": 52
    },
    "colab_type": "code",
    "id": "-H1K_H3ujuhO",
    "outputId": "8702e93a-360f-411b-8eef-a43d21b13926"
   },
   "outputs": [
    {
     "data": {
      "text/plain": [
       "12.0    37\n",
       "Name: TEMPO_GARANTIA, dtype: int64"
      ]
     },
     "execution_count": 97,
     "metadata": {
      "tags": []
     },
     "output_type": "execute_result"
    }
   ],
   "source": [
    "dados[\"TEMPO_GARANTIA\"].loc[indices].value_counts()"
   ]
  },
  {
   "cell_type": "code",
   "execution_count": 0,
   "metadata": {
    "colab": {
     "base_uri": "https://localhost:8080/",
     "height": 86
    },
    "colab_type": "code",
    "id": "s0KyW1PBkKee",
    "outputId": "12901190-ab30-41b4-df29-07727bf149d4"
   },
   "outputs": [
    {
     "name": "stdout",
     "output_type": "stream",
     "text": [
      "Proporção de valores nan por coluna do dataset: \n",
      "\n"
     ]
    },
    {
     "data": {
      "text/plain": [
       "TEMPO_GARANTIA    0.311785\n",
       "dtype: float64"
      ]
     },
     "execution_count": 98,
     "metadata": {
      "tags": []
     },
     "output_type": "execute_result"
    }
   ],
   "source": [
    "prop_missing()[0:1] # já conseguimos diminuir em 3%"
   ]
  },
  {
   "cell_type": "code",
   "execution_count": 0,
   "metadata": {
    "colab": {
     "base_uri": "https://localhost:8080/",
     "height": 243
    },
    "colab_type": "code",
    "id": "qTWk23i9kgAe",
    "outputId": "fc008625-e811-49ee-bdcd-ace60512a64c"
   },
   "outputs": [
    {
     "name": "stdout",
     "output_type": "stream",
     "text": [
      "Proporção de valores nan por coluna do dataset: \n",
      "\n"
     ]
    },
    {
     "data": {
      "text/plain": [
       "TEMPO_GARANTIA       0.311785\n",
       "PESO                 0.169702\n",
       "PARA_LAVA_LOUCAS     0.162151\n",
       "FORMATO              0.118580\n",
       "COMPOSICAO           0.089357\n",
       "ITEM_PRICE           0.050393\n",
       "COR                  0.019769\n",
       "PARA_MICRO_ONDAS     0.000000\n",
       "TEM_FERRO_FUNDIDO    0.000000\n",
       "TEM_GRELHA           0.000000\n",
       "dtype: float64"
      ]
     },
     "execution_count": 99,
     "metadata": {
      "tags": []
     },
     "output_type": "execute_result"
    }
   ],
   "source": [
    "prop_missing()[0:10]"
   ]
  },
  {
   "cell_type": "code",
   "execution_count": 0,
   "metadata": {
    "colab": {
     "base_uri": "https://localhost:8080/",
     "height": 121
    },
    "colab_type": "code",
    "id": "ooeu2chjktCX",
    "outputId": "54bcf33b-95e1-4cfc-e1e7-aeb4bc04b28f"
   },
   "outputs": [
    {
     "data": {
      "text/plain": [
       "TRAMONTINA        18789\n",
       "PANELA MINEIRA     5293\n",
       "FUMIL              1038\n",
       "MTA                 869\n",
       "ZANELLA              65\n",
       "Name: MARCA, dtype: int64"
      ]
     },
     "execution_count": 100,
     "metadata": {
      "tags": []
     },
     "output_type": "execute_result"
    }
   ],
   "source": [
    "# dessa vez vou tentar variar a minha abordagem, pesquisando a relevância dos missings\n",
    "dados[dados.TEMPO_GARANTIA.isna()].MARCA.value_counts()"
   ]
  },
  {
   "cell_type": "code",
   "execution_count": 0,
   "metadata": {
    "colab": {
     "base_uri": "https://localhost:8080/",
     "height": 86
    },
    "colab_type": "code",
    "id": "mpd5pHRCrEIS",
    "outputId": "6c713af9-8d04-42e8-8021-3a991ead7368"
   },
   "outputs": [
    {
     "data": {
      "text/plain": [
       "PIPOQUEIRA    17684\n",
       "CHALEIRA       1078\n",
       "FRIGIDEIRA       27\n",
       "Name: TIPO_PRODUTO, dtype: int64"
      ]
     },
     "execution_count": 101,
     "metadata": {
      "tags": []
     },
     "output_type": "execute_result"
    }
   ],
   "source": [
    "# a maioria desses dados está em pipoqueira tramontina\n",
    "dados[dados.TEMPO_GARANTIA.isna()].query(\"MARCA == 'TRAMONTINA'\").TIPO_PRODUTO.value_counts()"
   ]
  },
  {
   "cell_type": "code",
   "execution_count": 0,
   "metadata": {
    "colab": {
     "base_uri": "https://localhost:8080/",
     "height": 52
    },
    "colab_type": "code",
    "id": "g6uvN3isrz3b",
    "outputId": "2d6f70d6-d4cf-420e-e214-1082ab5499bd"
   },
   "outputs": [
    {
     "data": {
      "text/plain": [
       "PIPOQUEIRA    17684\n",
       "Name: TIPO_PRODUTO, dtype: int64"
      ]
     },
     "execution_count": 102,
     "metadata": {
      "tags": []
     },
     "output_type": "execute_result"
    }
   ],
   "source": [
    "# Aqui vemos que todos esses dados missing são todas as pipoqueiras tramontina. Nenhuma está com garantia preenchida.\n",
    "dados.query(\"MARCA == 'TRAMONTINA'\").query(\"TIPO_PRODUTO == 'PIPOQUEIRA'\").TIPO_PRODUTO.value_counts()"
   ]
  },
  {
   "cell_type": "code",
   "execution_count": 0,
   "metadata": {
    "colab": {
     "base_uri": "https://localhost:8080/",
     "height": 69
    },
    "colab_type": "code",
    "id": "RFPyR6VCscEh",
    "outputId": "d7b939fc-32de-4944-f577-2d70260d66c8"
   },
   "outputs": [
    {
     "data": {
      "text/plain": [
       "12.0     31274\n",
       "300.0      573\n",
       "Name: TEMPO_GARANTIA, dtype: int64"
      ]
     },
     "execution_count": 103,
     "metadata": {
      "tags": []
     },
     "output_type": "execute_result"
    }
   ],
   "source": [
    "dados.query(\"MARCA == 'TRAMONTINA'\").TEMPO_GARANTIA.value_counts() # recapitulando"
   ]
  },
  {
   "cell_type": "code",
   "execution_count": 0,
   "metadata": {
    "colab": {
     "base_uri": "https://localhost:8080/",
     "height": 69
    },
    "colab_type": "code",
    "id": "K6AHavnAtV8D",
    "outputId": "669f4aee-f14f-496c-f5c0-87e70ec203fa"
   },
   "outputs": [
    {
     "data": {
      "text/plain": [
       "CALDEIRAO    404\n",
       "CACAROLA     169\n",
       "Name: TIPO_PRODUTO, dtype: int64"
      ]
     },
     "execution_count": 104,
     "metadata": {
      "tags": []
     },
     "output_type": "execute_result"
    }
   ],
   "source": [
    "dados.query(\"MARCA == 'TRAMONTINA'\").query(\"TEMPO_GARANTIA == 300\").TIPO_PRODUTO.value_counts()"
   ]
  },
  {
   "cell_type": "markdown",
   "metadata": {
    "colab_type": "text",
    "id": "w7KrYk0rt91p"
   },
   "source": [
    "Baseado na ideia de que poucos produtos possuem garantia estendida, e na quantidade de pipoqueiras oferatas pela empresa, imagino que o ideal seria considerar esta garantia como 12. Além de que produtos elétricos (se for o caso) tendem a estragar mais cedo, e estender esta garantia pode não ser economicamente viável para a empresa. Então viabilizando o lucro sempre acaba sendo mais interessante fazer uma garantia menor."
   ]
  },
  {
   "cell_type": "code",
   "execution_count": 0,
   "metadata": {
    "colab": {
     "base_uri": "https://localhost:8080/",
     "height": 52
    },
    "colab_type": "code",
    "id": "-cT8uBUvubnN",
    "outputId": "72743be5-b298-410d-8043-054a505ec98f"
   },
   "outputs": [
    {
     "data": {
      "text/plain": [
       "TRAMONTINA    17684\n",
       "Name: MARCA, dtype: int64"
      ]
     },
     "execution_count": 105,
     "metadata": {
      "tags": []
     },
     "output_type": "execute_result"
    }
   ],
   "source": [
    "# todas as pipoqueiras presentes são da tramontina\n",
    "dados.query(\"TIPO_PRODUTO == 'PIPOQUEIRA'\").MARCA.value_counts()"
   ]
  },
  {
   "cell_type": "code",
   "execution_count": 0,
   "metadata": {
    "colab": {
     "base_uri": "https://localhost:8080/",
     "height": 104
    },
    "colab_type": "code",
    "id": "_9UPwrNMvhYG",
    "outputId": "48c57138-cfa2-4e2a-ed90-5c515d055ef8"
   },
   "outputs": [
    {
     "name": "stderr",
     "output_type": "stream",
     "text": [
      "/usr/local/lib/python3.6/dist-packages/pandas/core/indexing.py:205: SettingWithCopyWarning: \n",
      "A value is trying to be set on a copy of a slice from a DataFrame\n",
      "\n",
      "See the caveats in the documentation: http://pandas.pydata.org/pandas-docs/stable/user_guide/indexing.html#returning-a-view-versus-a-copy\n",
      "  self._setitem_with_indexer(indexer, value)\n"
     ]
    }
   ],
   "source": [
    "indices = dados[dados.TEMPO_GARANTIA.isna()].query(\"MARCA == 'TRAMONTINA'\").query(\"TIPO_PRODUTO == 'PIPOQUEIRA'\").index\n",
    "dados[\"TEMPO_GARANTIA\"].loc[indices] = dados[\"TEMPO_GARANTIA\"].loc[indices].map(lambda x: 12.0)"
   ]
  },
  {
   "cell_type": "code",
   "execution_count": 0,
   "metadata": {
    "colab": {
     "base_uri": "https://localhost:8080/",
     "height": 52
    },
    "colab_type": "code",
    "id": "h8J3xOaDzk6v",
    "outputId": "88a979a7-3272-4c13-e0bf-e0c9bd0fa4a6"
   },
   "outputs": [
    {
     "data": {
      "text/plain": [
       "12.0    17684\n",
       "Name: TEMPO_GARANTIA, dtype: int64"
      ]
     },
     "execution_count": 107,
     "metadata": {
      "tags": []
     },
     "output_type": "execute_result"
    }
   ],
   "source": [
    "dados[\"TEMPO_GARANTIA\"].loc[indices].value_counts()"
   ]
  },
  {
   "cell_type": "code",
   "execution_count": 0,
   "metadata": {
    "colab": {
     "base_uri": "https://localhost:8080/",
     "height": 86
    },
    "colab_type": "code",
    "id": "USW_5Ilu0ijC",
    "outputId": "c18b6ede-a041-4090-9863-864d0fe7874d"
   },
   "outputs": [
    {
     "name": "stdout",
     "output_type": "stream",
     "text": [
      "Proporção de valores nan por coluna do dataset: \n",
      "\n"
     ]
    },
    {
     "data": {
      "text/plain": [
       "TEMPO_GARANTIA    0.100163\n",
       "dtype: float64"
      ]
     },
     "execution_count": 108,
     "metadata": {
      "tags": []
     },
     "output_type": "execute_result"
    }
   ],
   "source": [
    "prop_missing()[3:4] # foi possivel reduzir 20% dos missing"
   ]
  },
  {
   "cell_type": "markdown",
   "metadata": {
    "colab_type": "text",
    "id": "XVhiTpIO1un9"
   },
   "source": [
    "### Tratando PESO"
   ]
  },
  {
   "cell_type": "code",
   "execution_count": 0,
   "metadata": {
    "colab": {
     "base_uri": "https://localhost:8080/",
     "height": 225
    },
    "colab_type": "code",
    "id": "s5674lhN0wap",
    "outputId": "8b1884fb-a0d5-432e-8992-990b1159c4dc"
   },
   "outputs": [
    {
     "name": "stdout",
     "output_type": "stream",
     "text": [
      "Proporção de valores nan por coluna do dataset: \n",
      "\n"
     ]
    },
    {
     "data": {
      "text/plain": [
       "PESO                 0.169702\n",
       "PARA_LAVA_LOUCAS     0.162151\n",
       "FORMATO              0.118580\n",
       "TEMPO_GARANTIA       0.100163\n",
       "COMPOSICAO           0.089357\n",
       "ITEM_PRICE           0.050393\n",
       "COR                  0.019769\n",
       "PARA_MICRO_ONDAS     0.000000\n",
       "TEM_FERRO_FUNDIDO    0.000000\n",
       "dtype: float64"
      ]
     },
     "execution_count": 109,
     "metadata": {
      "tags": []
     },
     "output_type": "execute_result"
    }
   ],
   "source": [
    "prop_missing()[0:9]"
   ]
  },
  {
   "cell_type": "code",
   "execution_count": 0,
   "metadata": {
    "colab": {
     "base_uri": "https://localhost:8080/",
     "height": 156
    },
    "colab_type": "code",
    "id": "iwiKlK0O61Z9",
    "outputId": "b3a8152e-662f-4515-8e91-1d623eb2af3b"
   },
   "outputs": [
    {
     "data": {
      "text/plain": [
       "PANELA MINEIRA    5293\n",
       "LA CUISINE        2942\n",
       "BRINOX            2136\n",
       "DONA CHEFA        1327\n",
       "HERCULES          1239\n",
       "FUMIL             1038\n",
       "HAPPYCALL          206\n",
       "Name: MARCA, dtype: int64"
      ]
     },
     "execution_count": 110,
     "metadata": {
      "tags": []
     },
     "output_type": "execute_result"
    }
   ],
   "source": [
    "dados[dados.PESO.isna()].MARCA.value_counts()"
   ]
  },
  {
   "cell_type": "code",
   "execution_count": 0,
   "metadata": {
    "colab": {
     "base_uri": "https://localhost:8080/",
     "height": 312
    },
    "colab_type": "code",
    "id": "ijMPzqhz16vz",
    "outputId": "4ddcfd24-8a59-490f-def5-b16e211cf604"
   },
   "outputs": [
    {
     "data": {
      "text/plain": [
       "CHAPA           5028\n",
       "PANELA          2303\n",
       "ESPAGUETEIRA    1394\n",
       "GRILL           1124\n",
       "CACAROLA        1046\n",
       "CHALEIRA         770\n",
       "BIFETEIRA        745\n",
       "FOGAREIRO        421\n",
       "OMELETEIRA       318\n",
       "SANDUICHEIRA     242\n",
       "FRIGIDEIRA       203\n",
       "TAMPA            185\n",
       "FERVEDOR         164\n",
       "PRENSADOR        102\n",
       "WOK               97\n",
       "CALDEIRAO         39\n",
       "Name: TIPO_PRODUTO, dtype: int64"
      ]
     },
     "execution_count": 111,
     "metadata": {
      "tags": []
     },
     "output_type": "execute_result"
    }
   ],
   "source": [
    "dados[dados.PESO.isna()].TIPO_PRODUTO.value_counts()"
   ]
  },
  {
   "cell_type": "code",
   "execution_count": 0,
   "metadata": {
    "colab": {
     "base_uri": "https://localhost:8080/",
     "height": 52
    },
    "colab_type": "code",
    "id": "cQXAzbSnBDFz",
    "outputId": "14b5350d-8b8a-4058-e13a-37cf6cb3c4d9"
   },
   "outputs": [
    {
     "data": {
      "text/plain": [
       "CHAPA    5028\n",
       "Name: TIPO_PRODUTO, dtype: int64"
      ]
     },
     "execution_count": 112,
     "metadata": {
      "tags": []
     },
     "output_type": "execute_result"
    }
   ],
   "source": [
    "# todas as chapas não possuem preço preenchido\n",
    "dados.query(\"TIPO_PRODUTO == 'CHAPA'\").TIPO_PRODUTO.value_counts()"
   ]
  },
  {
   "cell_type": "code",
   "execution_count": 0,
   "metadata": {
    "colab": {
     "base_uri": "https://localhost:8080/",
     "height": 34
    },
    "colab_type": "code",
    "id": "-5LTGOrXAGtR",
    "outputId": "18f4e3ef-b0d3-4645-ed76-2054275ddee1"
   },
   "outputs": [
    {
     "data": {
      "text/plain": [
       "Series([], Name: COMPOSICAO, dtype: int64)"
      ]
     },
     "execution_count": 113,
     "metadata": {
      "tags": []
     },
     "output_type": "execute_result"
    }
   ],
   "source": [
    "# Nenhuma Chapa possui Composição preenchida\n",
    "dados.query(\"TIPO_PRODUTO == 'CHAPA'\").COMPOSICAO.value_counts()"
   ]
  },
  {
   "cell_type": "code",
   "execution_count": 0,
   "metadata": {
    "colab": {
     "base_uri": "https://localhost:8080/",
     "height": 364
    },
    "colab_type": "code",
    "id": "nemu00ivBz49",
    "outputId": "8869aed9-e6ce-40dc-d63c-1658aa1be2de"
   },
   "outputs": [
    {
     "data": {
      "text/plain": [
       "COMPOSICAO           5028\n",
       "COR                     0\n",
       "FORMATO              2945\n",
       "MARCA                   0\n",
       "TIPO_PRODUTO            0\n",
       "ALTURA                  0\n",
       "CAPACIDADE_(L)          0\n",
       "LARGURA                 0\n",
       "PROFUNDIDADE            0\n",
       "PESO                 5028\n",
       "TEMPO_GARANTIA       4821\n",
       "ITEM_PRICE            659\n",
       "PARA_LAVA_LOUCAS     5028\n",
       "PARA_MICRO_ONDAS        0\n",
       "TEM_FERRO_FUNDIDO       0\n",
       "TEM_GRELHA              0\n",
       "TEM_TAMPA               0\n",
       "TIPO_WOK                0\n",
       "INTERESTED              0\n",
       "dtype: int64"
      ]
     },
     "execution_count": 114,
     "metadata": {
      "tags": []
     },
     "output_type": "execute_result"
    }
   ],
   "source": [
    "# verificando os valores missing dessa categoria\n",
    "dados.query(\"TIPO_PRODUTO == 'CHAPA'\").isna().sum()"
   ]
  },
  {
   "cell_type": "markdown",
   "metadata": {
    "colab_type": "text",
    "id": "9lW-Vx1sCOgj"
   },
   "source": [
    "Muitos dos dados dessa categoria estão faltando, dados dificeis de preencher. A melhor solução para uma melhor precisão de um modelo aqui é remover este tipo de produto. Lembrando que para evitar mais problemas na previsão é sempre importante que os dados estejam prenchidos."
   ]
  },
  {
   "cell_type": "code",
   "execution_count": 0,
   "metadata": {
    "colab": {},
    "colab_type": "code",
    "id": "bO8uFewiCNpB"
   },
   "outputs": [],
   "source": [
    "dados = dados.query(\"TIPO_PRODUTO != 'CHAPA'\")"
   ]
  },
  {
   "cell_type": "code",
   "execution_count": 0,
   "metadata": {
    "colab": {
     "base_uri": "https://localhost:8080/",
     "height": 243
    },
    "colab_type": "code",
    "id": "y5lCRGt7A7_W",
    "outputId": "1896b4aa-f0f3-4bb8-ee11-c3b2d13249ba"
   },
   "outputs": [
    {
     "name": "stdout",
     "output_type": "stream",
     "text": [
      "Proporção de valores nan por coluna do dataset: \n",
      "\n"
     ]
    },
    {
     "data": {
      "text/plain": [
       "PESO                 0.109533\n",
       "PARA_LAVA_LOUCAS     0.101982\n",
       "FORMATO              0.083337\n",
       "ITEM_PRICE           0.042506\n",
       "TEMPO_GARANTIA       0.042470\n",
       "COMPOSICAO           0.029187\n",
       "COR                  0.019769\n",
       "PARA_MICRO_ONDAS     0.000000\n",
       "TEM_FERRO_FUNDIDO    0.000000\n",
       "TEM_GRELHA           0.000000\n",
       "dtype: float64"
      ]
     },
     "execution_count": 116,
     "metadata": {
      "tags": []
     },
     "output_type": "execute_result"
    }
   ],
   "source": [
    "# já diminuiram consideravelmente os valores.\n",
    "prop_missing()[0:10]"
   ]
  },
  {
   "cell_type": "code",
   "execution_count": 0,
   "metadata": {
    "colab": {},
    "colab_type": "code",
    "id": "4i-jMuB5EjdQ"
   },
   "outputs": [],
   "source": [
    "# como o peso é uma variável imprevisivel (ainda mais com ausência de dados) a melhor situação é limpar esses dados.\n",
    "# mesmo numa busca por marca ou semelhança esses dados ficariam imprecisos devido a variedade\n",
    "dados = dados[~dados.PESO.isna()]"
   ]
  },
  {
   "cell_type": "code",
   "execution_count": 0,
   "metadata": {
    "colab": {
     "base_uri": "https://localhost:8080/",
     "height": 208
    },
    "colab_type": "code",
    "id": "K_eb3wOwDuE7",
    "outputId": "7a60177a-2de6-4ac1-e1dd-22f25d85d569"
   },
   "outputs": [
    {
     "name": "stdout",
     "output_type": "stream",
     "text": [
      "Proporção de valores nan por coluna do dataset: \n",
      "\n"
     ]
    },
    {
     "data": {
      "text/plain": [
       "FORMATO             0.078670\n",
       "ITEM_PRICE          0.025107\n",
       "TEMPO_GARANTIA      0.024400\n",
       "COR                 0.019769\n",
       "COMPOSICAO          0.006761\n",
       "PARA_LAVA_LOUCAS    0.000383\n",
       "LARGURA             0.000000\n",
       "MARCA               0.000000\n",
       "dtype: float64"
      ]
     },
     "execution_count": 118,
     "metadata": {
      "tags": []
     },
     "output_type": "execute_result"
    }
   ],
   "source": [
    "# Isso nos gerou uma limpeza bastante consideravel nos dados\n",
    "prop_missing()[0:8]"
   ]
  },
  {
   "cell_type": "markdown",
   "metadata": {
    "colab_type": "text",
    "id": "ClFCZzOFKAo3"
   },
   "source": [
    "### Tratando FORMATO"
   ]
  },
  {
   "cell_type": "code",
   "execution_count": 0,
   "metadata": {
    "colab": {
     "base_uri": "https://localhost:8080/",
     "height": 164
    },
    "colab_type": "code",
    "id": "ckQpmo02Ks8_",
    "outputId": "34e7e924-dda9-4fb5-b57f-4e35423de076"
   },
   "outputs": [
    {
     "data": {
      "text/html": [
       "<div>\n",
       "<style scoped>\n",
       "    .dataframe tbody tr th:only-of-type {\n",
       "        vertical-align: middle;\n",
       "    }\n",
       "\n",
       "    .dataframe tbody tr th {\n",
       "        vertical-align: top;\n",
       "    }\n",
       "\n",
       "    .dataframe thead th {\n",
       "        text-align: right;\n",
       "    }\n",
       "</style>\n",
       "<table border=\"1\" class=\"dataframe\">\n",
       "  <thead>\n",
       "    <tr style=\"text-align: right;\">\n",
       "      <th></th>\n",
       "      <th>COMPOSICAO</th>\n",
       "      <th>COR</th>\n",
       "      <th>FORMATO</th>\n",
       "      <th>MARCA</th>\n",
       "      <th>TIPO_PRODUTO</th>\n",
       "      <th>ALTURA</th>\n",
       "      <th>CAPACIDADE_(L)</th>\n",
       "      <th>LARGURA</th>\n",
       "      <th>PROFUNDIDADE</th>\n",
       "      <th>PESO</th>\n",
       "      <th>TEMPO_GARANTIA</th>\n",
       "      <th>ITEM_PRICE</th>\n",
       "      <th>PARA_LAVA_LOUCAS</th>\n",
       "      <th>PARA_MICRO_ONDAS</th>\n",
       "      <th>TEM_FERRO_FUNDIDO</th>\n",
       "      <th>TEM_GRELHA</th>\n",
       "      <th>TEM_TAMPA</th>\n",
       "      <th>TIPO_WOK</th>\n",
       "      <th>INTERESTED</th>\n",
       "    </tr>\n",
       "  </thead>\n",
       "  <tbody>\n",
       "    <tr>\n",
       "      <th>72967</th>\n",
       "      <td>ALUMINIO</td>\n",
       "      <td>PRETO</td>\n",
       "      <td>NaN</td>\n",
       "      <td>TRAMONTINA</td>\n",
       "      <td>PANELA</td>\n",
       "      <td>32.0</td>\n",
       "      <td>4.5</td>\n",
       "      <td>32.0</td>\n",
       "      <td>15.0</td>\n",
       "      <td>20.0</td>\n",
       "      <td>12.0</td>\n",
       "      <td>NaN</td>\n",
       "      <td>1.0</td>\n",
       "      <td>0.0</td>\n",
       "      <td>0.0</td>\n",
       "      <td>0.0</td>\n",
       "      <td>1.0</td>\n",
       "      <td>1.0</td>\n",
       "      <td>0.0</td>\n",
       "    </tr>\n",
       "    <tr>\n",
       "      <th>89372</th>\n",
       "      <td>INOX</td>\n",
       "      <td>INOX</td>\n",
       "      <td>NaN</td>\n",
       "      <td>TRAMONTINA</td>\n",
       "      <td>PANELA</td>\n",
       "      <td>35.7</td>\n",
       "      <td>2.1</td>\n",
       "      <td>18.1</td>\n",
       "      <td>11.5</td>\n",
       "      <td>10.0</td>\n",
       "      <td>12.0</td>\n",
       "      <td>NaN</td>\n",
       "      <td>1.0</td>\n",
       "      <td>0.0</td>\n",
       "      <td>0.0</td>\n",
       "      <td>0.0</td>\n",
       "      <td>1.0</td>\n",
       "      <td>0.0</td>\n",
       "      <td>0.0</td>\n",
       "    </tr>\n",
       "    <tr>\n",
       "      <th>139704</th>\n",
       "      <td>INOX</td>\n",
       "      <td>INOX</td>\n",
       "      <td>NaN</td>\n",
       "      <td>TRAMONTINA</td>\n",
       "      <td>CACAROLA</td>\n",
       "      <td>16.5</td>\n",
       "      <td>2.7</td>\n",
       "      <td>22.3</td>\n",
       "      <td>34.3</td>\n",
       "      <td>140.0</td>\n",
       "      <td>12.0</td>\n",
       "      <td>145.8</td>\n",
       "      <td>0.0</td>\n",
       "      <td>0.0</td>\n",
       "      <td>0.0</td>\n",
       "      <td>0.0</td>\n",
       "      <td>0.0</td>\n",
       "      <td>0.0</td>\n",
       "      <td>0.0</td>\n",
       "    </tr>\n",
       "  </tbody>\n",
       "</table>\n",
       "</div>"
      ],
      "text/plain": [
       "       COMPOSICAO    COR FORMATO  ... TEM_TAMPA TIPO_WOK  INTERESTED\n",
       "72967    ALUMINIO  PRETO     NaN  ...       1.0      1.0         0.0\n",
       "89372        INOX   INOX     NaN  ...       1.0      0.0         0.0\n",
       "139704       INOX   INOX     NaN  ...       0.0      0.0         0.0\n",
       "\n",
       "[3 rows x 19 columns]"
      ]
     },
     "execution_count": 119,
     "metadata": {
      "tags": []
     },
     "output_type": "execute_result"
    }
   ],
   "source": [
    "dados[dados.FORMATO.isna()].sample(3)"
   ]
  },
  {
   "cell_type": "code",
   "execution_count": 0,
   "metadata": {
    "colab": {
     "base_uri": "https://localhost:8080/",
     "height": 395
    },
    "colab_type": "code",
    "id": "1IbCw7LAF2uP",
    "outputId": "38246100-5b2c-468e-b12e-b31c51ed85f8"
   },
   "outputs": [
    {
     "data": {
      "text/html": [
       "<div>\n",
       "<style scoped>\n",
       "    .dataframe tbody tr th:only-of-type {\n",
       "        vertical-align: middle;\n",
       "    }\n",
       "\n",
       "    .dataframe tbody tr th {\n",
       "        vertical-align: top;\n",
       "    }\n",
       "\n",
       "    .dataframe thead tr th {\n",
       "        text-align: left;\n",
       "    }\n",
       "\n",
       "    .dataframe thead tr:last-of-type th {\n",
       "        text-align: right;\n",
       "    }\n",
       "</style>\n",
       "<table border=\"1\" class=\"dataframe\">\n",
       "  <thead>\n",
       "    <tr>\n",
       "      <th></th>\n",
       "      <th></th>\n",
       "      <th colspan=\"2\" halign=\"left\">ALTURA</th>\n",
       "      <th colspan=\"2\" halign=\"left\">CAPACIDADE_(L)</th>\n",
       "      <th colspan=\"2\" halign=\"left\">LARGURA</th>\n",
       "      <th colspan=\"2\" halign=\"left\">PROFUNDIDADE</th>\n",
       "      <th colspan=\"2\" halign=\"left\">PESO</th>\n",
       "      <th colspan=\"2\" halign=\"left\">TEMPO_GARANTIA</th>\n",
       "      <th colspan=\"2\" halign=\"left\">ITEM_PRICE</th>\n",
       "      <th colspan=\"2\" halign=\"left\">TEM_TAMPA</th>\n",
       "      <th colspan=\"2\" halign=\"left\">INTERESTED</th>\n",
       "    </tr>\n",
       "    <tr>\n",
       "      <th></th>\n",
       "      <th></th>\n",
       "      <th>mean</th>\n",
       "      <th>std</th>\n",
       "      <th>mean</th>\n",
       "      <th>std</th>\n",
       "      <th>mean</th>\n",
       "      <th>std</th>\n",
       "      <th>mean</th>\n",
       "      <th>std</th>\n",
       "      <th>mean</th>\n",
       "      <th>std</th>\n",
       "      <th>mean</th>\n",
       "      <th>std</th>\n",
       "      <th>mean</th>\n",
       "      <th>std</th>\n",
       "      <th>mean</th>\n",
       "      <th>std</th>\n",
       "      <th>mean</th>\n",
       "      <th>std</th>\n",
       "    </tr>\n",
       "    <tr>\n",
       "      <th>TIPO_PRODUTO</th>\n",
       "      <th>MARCA</th>\n",
       "      <th></th>\n",
       "      <th></th>\n",
       "      <th></th>\n",
       "      <th></th>\n",
       "      <th></th>\n",
       "      <th></th>\n",
       "      <th></th>\n",
       "      <th></th>\n",
       "      <th></th>\n",
       "      <th></th>\n",
       "      <th></th>\n",
       "      <th></th>\n",
       "      <th></th>\n",
       "      <th></th>\n",
       "      <th></th>\n",
       "      <th></th>\n",
       "      <th></th>\n",
       "      <th></th>\n",
       "    </tr>\n",
       "  </thead>\n",
       "  <tbody>\n",
       "    <tr>\n",
       "      <th rowspan=\"3\" valign=\"top\">CACAROLA</th>\n",
       "      <th>HERCULES</th>\n",
       "      <td>31.72</td>\n",
       "      <td>7.73</td>\n",
       "      <td>4.28</td>\n",
       "      <td>1.26</td>\n",
       "      <td>20.77</td>\n",
       "      <td>8.11</td>\n",
       "      <td>17.38</td>\n",
       "      <td>7.12</td>\n",
       "      <td>232.62</td>\n",
       "      <td>39.87</td>\n",
       "      <td>3.00</td>\n",
       "      <td>0.00</td>\n",
       "      <td>267.07</td>\n",
       "      <td>42.89</td>\n",
       "      <td>0.00</td>\n",
       "      <td>0.00</td>\n",
       "      <td>0.06</td>\n",
       "      <td>0.23</td>\n",
       "    </tr>\n",
       "    <tr>\n",
       "      <th>PRAVAS</th>\n",
       "      <td>23.00</td>\n",
       "      <td>0.00</td>\n",
       "      <td>10.00</td>\n",
       "      <td>0.00</td>\n",
       "      <td>34.00</td>\n",
       "      <td>0.00</td>\n",
       "      <td>46.00</td>\n",
       "      <td>0.00</td>\n",
       "      <td>1850.00</td>\n",
       "      <td>0.00</td>\n",
       "      <td>3.00</td>\n",
       "      <td>0.00</td>\n",
       "      <td>86.00</td>\n",
       "      <td>NaN</td>\n",
       "      <td>1.00</td>\n",
       "      <td>0.00</td>\n",
       "      <td>0.33</td>\n",
       "      <td>0.58</td>\n",
       "    </tr>\n",
       "    <tr>\n",
       "      <th>TRAMONTINA</th>\n",
       "      <td>22.14</td>\n",
       "      <td>7.44</td>\n",
       "      <td>3.11</td>\n",
       "      <td>1.36</td>\n",
       "      <td>22.49</td>\n",
       "      <td>2.90</td>\n",
       "      <td>22.18</td>\n",
       "      <td>12.09</td>\n",
       "      <td>128.63</td>\n",
       "      <td>75.13</td>\n",
       "      <td>66.75</td>\n",
       "      <td>113.07</td>\n",
       "      <td>169.24</td>\n",
       "      <td>27.51</td>\n",
       "      <td>0.63</td>\n",
       "      <td>0.48</td>\n",
       "      <td>0.15</td>\n",
       "      <td>0.36</td>\n",
       "    </tr>\n",
       "    <tr>\n",
       "      <th rowspan=\"2\" valign=\"top\">FRIGIDEIRA</th>\n",
       "      <th>PRAVAS</th>\n",
       "      <td>26.00</td>\n",
       "      <td>0.00</td>\n",
       "      <td>2.20</td>\n",
       "      <td>0.00</td>\n",
       "      <td>28.00</td>\n",
       "      <td>0.00</td>\n",
       "      <td>45.00</td>\n",
       "      <td>0.00</td>\n",
       "      <td>120.00</td>\n",
       "      <td>0.00</td>\n",
       "      <td>3.00</td>\n",
       "      <td>0.00</td>\n",
       "      <td>54.99</td>\n",
       "      <td>0.00</td>\n",
       "      <td>1.00</td>\n",
       "      <td>0.00</td>\n",
       "      <td>0.00</td>\n",
       "      <td>0.00</td>\n",
       "    </tr>\n",
       "    <tr>\n",
       "      <th>TRAMONTINA</th>\n",
       "      <td>12.20</td>\n",
       "      <td>0.00</td>\n",
       "      <td>1.60</td>\n",
       "      <td>0.00</td>\n",
       "      <td>40.30</td>\n",
       "      <td>0.00</td>\n",
       "      <td>21.30</td>\n",
       "      <td>0.00</td>\n",
       "      <td>130.00</td>\n",
       "      <td>0.00</td>\n",
       "      <td>NaN</td>\n",
       "      <td>NaN</td>\n",
       "      <td>188.90</td>\n",
       "      <td>0.00</td>\n",
       "      <td>0.00</td>\n",
       "      <td>0.00</td>\n",
       "      <td>0.11</td>\n",
       "      <td>0.32</td>\n",
       "    </tr>\n",
       "    <tr>\n",
       "      <th>GRILL</th>\n",
       "      <th>BRINOX</th>\n",
       "      <td>12.00</td>\n",
       "      <td>1.59</td>\n",
       "      <td>0.00</td>\n",
       "      <td>0.00</td>\n",
       "      <td>24.52</td>\n",
       "      <td>0.16</td>\n",
       "      <td>39.62</td>\n",
       "      <td>0.49</td>\n",
       "      <td>476.12</td>\n",
       "      <td>45.98</td>\n",
       "      <td>3.00</td>\n",
       "      <td>0.00</td>\n",
       "      <td>61.42</td>\n",
       "      <td>9.97</td>\n",
       "      <td>0.00</td>\n",
       "      <td>0.00</td>\n",
       "      <td>0.03</td>\n",
       "      <td>0.18</td>\n",
       "    </tr>\n",
       "    <tr>\n",
       "      <th rowspan=\"2\" valign=\"top\">PANELA</th>\n",
       "      <th>PRAVAS</th>\n",
       "      <td>18.00</td>\n",
       "      <td>0.30</td>\n",
       "      <td>1.71</td>\n",
       "      <td>0.20</td>\n",
       "      <td>20.91</td>\n",
       "      <td>0.42</td>\n",
       "      <td>8.70</td>\n",
       "      <td>8.95</td>\n",
       "      <td>810.43</td>\n",
       "      <td>175.10</td>\n",
       "      <td>3.00</td>\n",
       "      <td>0.00</td>\n",
       "      <td>34.99</td>\n",
       "      <td>0.00</td>\n",
       "      <td>1.00</td>\n",
       "      <td>0.00</td>\n",
       "      <td>0.09</td>\n",
       "      <td>0.29</td>\n",
       "    </tr>\n",
       "    <tr>\n",
       "      <th>TRAMONTINA</th>\n",
       "      <td>29.22</td>\n",
       "      <td>7.53</td>\n",
       "      <td>4.35</td>\n",
       "      <td>0.58</td>\n",
       "      <td>31.60</td>\n",
       "      <td>3.13</td>\n",
       "      <td>17.88</td>\n",
       "      <td>7.36</td>\n",
       "      <td>82.03</td>\n",
       "      <td>252.80</td>\n",
       "      <td>12.00</td>\n",
       "      <td>0.00</td>\n",
       "      <td>114.69</td>\n",
       "      <td>36.56</td>\n",
       "      <td>1.00</td>\n",
       "      <td>0.00</td>\n",
       "      <td>0.06</td>\n",
       "      <td>0.24</td>\n",
       "    </tr>\n",
       "    <tr>\n",
       "      <th>WOK</th>\n",
       "      <th>BRINOX</th>\n",
       "      <td>10.00</td>\n",
       "      <td>NaN</td>\n",
       "      <td>3.90</td>\n",
       "      <td>NaN</td>\n",
       "      <td>33.00</td>\n",
       "      <td>NaN</td>\n",
       "      <td>38.50</td>\n",
       "      <td>NaN</td>\n",
       "      <td>20.00</td>\n",
       "      <td>NaN</td>\n",
       "      <td>3.00</td>\n",
       "      <td>NaN</td>\n",
       "      <td>NaN</td>\n",
       "      <td>NaN</td>\n",
       "      <td>0.00</td>\n",
       "      <td>NaN</td>\n",
       "      <td>0.00</td>\n",
       "      <td>NaN</td>\n",
       "    </tr>\n",
       "  </tbody>\n",
       "</table>\n",
       "</div>"
      ],
      "text/plain": [
       "                        ALTURA       CAPACIDADE_(L)  ... TEM_TAMPA INTERESTED      \n",
       "                          mean   std           mean  ...       std       mean   std\n",
       "TIPO_PRODUTO MARCA                                   ...                           \n",
       "CACAROLA     HERCULES    31.72  7.73           4.28  ...      0.00       0.06  0.23\n",
       "             PRAVAS      23.00  0.00          10.00  ...      0.00       0.33  0.58\n",
       "             TRAMONTINA  22.14  7.44           3.11  ...      0.48       0.15  0.36\n",
       "FRIGIDEIRA   PRAVAS      26.00  0.00           2.20  ...      0.00       0.00  0.00\n",
       "             TRAMONTINA  12.20  0.00           1.60  ...      0.00       0.11  0.32\n",
       "GRILL        BRINOX      12.00  1.59           0.00  ...      0.00       0.03  0.18\n",
       "PANELA       PRAVAS      18.00  0.30           1.71  ...      0.00       0.09  0.29\n",
       "             TRAMONTINA  29.22  7.53           4.35  ...      0.00       0.06  0.24\n",
       "WOK          BRINOX      10.00   NaN           3.90  ...       NaN       0.00   NaN\n",
       "\n",
       "[9 rows x 18 columns]"
      ]
     },
     "execution_count": 120,
     "metadata": {
      "tags": []
     },
     "output_type": "execute_result"
    }
   ],
   "source": [
    "dados[dados.FORMATO.isna()].drop([\"TIPO_WOK\",\"TEM_FERRO_FUNDIDO\",\"TEM_GRELHA\",\"PARA_MICRO_ONDAS\",\"PARA_LAVA_LOUCAS\"], axis=1).set_index(\n",
    "    [\"MARCA\", \"TIPO_PRODUTO\"]).groupby(level = [\"TIPO_PRODUTO\",\"MARCA\"]).aggregate([np.mean, np.std]).round(2)"
   ]
  },
  {
   "cell_type": "code",
   "execution_count": 0,
   "metadata": {
    "colab": {
     "base_uri": "https://localhost:8080/",
     "height": 52
    },
    "colab_type": "code",
    "id": "1ZQrdADaM5dc",
    "outputId": "08625395-f894-42b5-cb6a-9ae9171827f5"
   },
   "outputs": [
    {
     "data": {
      "text/plain": [
       "REDONDO    1461\n",
       "Name: FORMATO, dtype: int64"
      ]
     },
     "execution_count": 121,
     "metadata": {
      "tags": []
     },
     "output_type": "execute_result"
    }
   ],
   "source": [
    "# Aqui já vemos que toda cacarola é redonda...\n",
    "dados.query(\"TIPO_PRODUTO == 'CACAROLA'\").FORMATO.value_counts()"
   ]
  },
  {
   "cell_type": "code",
   "execution_count": 0,
   "metadata": {
    "colab": {
     "base_uri": "https://localhost:8080/",
     "height": 52
    },
    "colab_type": "code",
    "id": "L87m9HjSNVbi",
    "outputId": "da37f15c-a105-4d63-9440-f25b33787738"
   },
   "outputs": [
    {
     "data": {
      "text/plain": [
       "REDONDO    2120\n",
       "Name: FORMATO, dtype: int64"
      ]
     },
     "execution_count": 122,
     "metadata": {
      "tags": []
     },
     "output_type": "execute_result"
    }
   ],
   "source": [
    "# toda frigideira é redonda também\n",
    "dados.query(\"TIPO_PRODUTO == 'FRIGIDEIRA'\").FORMATO.value_counts()"
   ]
  },
  {
   "cell_type": "code",
   "execution_count": 0,
   "metadata": {
    "colab": {
     "base_uri": "https://localhost:8080/",
     "height": 34
    },
    "colab_type": "code",
    "id": "216ivmhANu97",
    "outputId": "14cb5e74-b10f-4f1a-dd87-a223d8892180"
   },
   "outputs": [
    {
     "data": {
      "text/plain": [
       "Series([], Name: FORMATO, dtype: int64)"
      ]
     },
     "execution_count": 123,
     "metadata": {
      "tags": []
     },
     "output_type": "execute_result"
    }
   ],
   "source": [
    "# nenhum grill preenchido, vamos colocar como outros\n",
    "dados.query(\"TIPO_PRODUTO == 'GRILL'\").FORMATO.value_counts()"
   ]
  },
  {
   "cell_type": "code",
   "execution_count": 0,
   "metadata": {
    "colab": {
     "base_uri": "https://localhost:8080/",
     "height": 52
    },
    "colab_type": "code",
    "id": "q7BW-U04OD2k",
    "outputId": "f5df79c8-c65b-4c4c-fef4-c4998ab42053"
   },
   "outputs": [
    {
     "data": {
      "text/plain": [
       "REDONDO    25512\n",
       "Name: FORMATO, dtype: int64"
      ]
     },
     "execution_count": 124,
     "metadata": {
      "tags": []
     },
     "output_type": "execute_result"
    }
   ],
   "source": [
    "# panela também é redonda\n",
    "dados.query(\"TIPO_PRODUTO == 'PANELA'\").FORMATO.value_counts()"
   ]
  },
  {
   "cell_type": "code",
   "execution_count": 0,
   "metadata": {
    "colab": {
     "base_uri": "https://localhost:8080/",
     "height": 52
    },
    "colab_type": "code",
    "id": "xBhxMzaVOS3t",
    "outputId": "feed3350-c234-4510-e33d-95c5a2c9ab52"
   },
   "outputs": [
    {
     "data": {
      "text/plain": [
       "REDONDO    565\n",
       "Name: FORMATO, dtype: int64"
      ]
     },
     "execution_count": 125,
     "metadata": {
      "tags": []
     },
     "output_type": "execute_result"
    }
   ],
   "source": [
    "# Wok é redondo também\n",
    "dados.query(\"TIPO_PRODUTO == 'WOK'\").FORMATO.value_counts()"
   ]
  },
  {
   "cell_type": "code",
   "execution_count": 0,
   "metadata": {
    "colab": {},
    "colab_type": "code",
    "id": "AgLCYs8dObGG"
   },
   "outputs": [],
   "source": [
    "dict_formato = {'CACAROLA':'REDONDO', 'FRIGIDEIRA':'REDONDO', 'GRILL':'OUTROS', 'PANELA':'REDONDO', 'WOK':'REDONDO'}"
   ]
  },
  {
   "cell_type": "code",
   "execution_count": 0,
   "metadata": {
    "colab": {},
    "colab_type": "code",
    "id": "nraCY6zYPOmt"
   },
   "outputs": [],
   "source": [
    "indices = dados[dados.FORMATO.isna()].index"
   ]
  },
  {
   "cell_type": "code",
   "execution_count": 0,
   "metadata": {
    "colab": {},
    "colab_type": "code",
    "id": "pjq0njVRP15O"
   },
   "outputs": [],
   "source": [
    "dados[\"FORMATO\"].loc[indices] = dados[dados.FORMATO.isna()].TIPO_PRODUTO.map(dict_formato)"
   ]
  },
  {
   "cell_type": "code",
   "execution_count": 0,
   "metadata": {
    "colab": {
     "base_uri": "https://localhost:8080/",
     "height": 52
    },
    "colab_type": "code",
    "id": "roizTnSaQMnA",
    "outputId": "5e2a141c-794a-4fec-e262-73227d961bbe"
   },
   "outputs": [
    {
     "data": {
      "text/plain": [
       "False    6574\n",
       "Name: FORMATO, dtype: int64"
      ]
     },
     "execution_count": 129,
     "metadata": {
      "tags": []
     },
     "output_type": "execute_result"
    }
   ],
   "source": [
    "dados[\"FORMATO\"].loc[indices].isna().value_counts()"
   ]
  },
  {
   "cell_type": "code",
   "execution_count": 0,
   "metadata": {
    "colab": {
     "base_uri": "https://localhost:8080/",
     "height": 208
    },
    "colab_type": "code",
    "id": "naJAApkOQzxq",
    "outputId": "dffba576-2e10-42ae-8de8-294a53d28c82"
   },
   "outputs": [
    {
     "name": "stdout",
     "output_type": "stream",
     "text": [
      "Proporção de valores nan por coluna do dataset: \n",
      "\n"
     ]
    },
    {
     "data": {
      "text/plain": [
       "ITEM_PRICE          0.025107\n",
       "TEMPO_GARANTIA      0.024400\n",
       "COR                 0.019769\n",
       "COMPOSICAO          0.006761\n",
       "PARA_LAVA_LOUCAS    0.000383\n",
       "LARGURA             0.000000\n",
       "FORMATO             0.000000\n",
       "MARCA               0.000000\n",
       "dtype: float64"
      ]
     },
     "execution_count": 130,
     "metadata": {
      "tags": []
     },
     "output_type": "execute_result"
    }
   ],
   "source": [
    "# categoria de dados limpa\n",
    "prop_missing()[0:8]"
   ]
  },
  {
   "cell_type": "markdown",
   "metadata": {
    "colab_type": "text",
    "id": "gCQnai3jRUSk"
   },
   "source": [
    "### Tratando ITEM_PRICE"
   ]
  },
  {
   "cell_type": "code",
   "execution_count": 0,
   "metadata": {
    "colab": {
     "base_uri": "https://localhost:8080/",
     "height": 295
    },
    "colab_type": "code",
    "id": "p-aHAm39RIci",
    "outputId": "90c8553f-de17-4eda-9c0f-1fd48b7d131f"
   },
   "outputs": [
    {
     "data": {
      "text/plain": [
       "CACAROLA        687\n",
       "PANELA          394\n",
       "ESPAGUETEIRA    263\n",
       "CHALEIRA        192\n",
       "FRIGIDEIRA      143\n",
       "BULE            115\n",
       "CALDEIRAO       101\n",
       "PAELLERA         56\n",
       "COZI-VAPORE      41\n",
       "LEITEIRA         39\n",
       "GRILL            24\n",
       "CUSCUZEIRO       19\n",
       "WOK              14\n",
       "CANECO            5\n",
       "PIPOQUEIRA        5\n",
       "Name: TIPO_PRODUTO, dtype: int64"
      ]
     },
     "execution_count": 131,
     "metadata": {
      "tags": []
     },
     "output_type": "execute_result"
    }
   ],
   "source": [
    "dados[dados.ITEM_PRICE.isna()].TIPO_PRODUTO.value_counts()"
   ]
  },
  {
   "cell_type": "code",
   "execution_count": 0,
   "metadata": {
    "colab": {
     "base_uri": "https://localhost:8080/",
     "height": 347
    },
    "colab_type": "code",
    "id": "Vue1HJBTTSQ8",
    "outputId": "cefee57b-b29b-423c-bd59-0808b3a99ec6"
   },
   "outputs": [
    {
     "data": {
      "text/plain": [
       "TRAMONTINA         606\n",
       "HERCULES           451\n",
       "CERAFLAME          185\n",
       "LA CUISINE         115\n",
       "FORMA              103\n",
       "PRAVA              101\n",
       "PANELUX             73\n",
       "MTA                 69\n",
       "ZANELLA             65\n",
       "EURO HOME           64\n",
       "MIMO STYLE          59\n",
       "JOMAFE              54\n",
       "OXFORD COOKWARE     47\n",
       "BRINOX              25\n",
       "BIALETTI            23\n",
       "BR HOME             22\n",
       "ROCHEDO             19\n",
       "PRAVAS              17\n",
       "Name: MARCA, dtype: int64"
      ]
     },
     "execution_count": 132,
     "metadata": {
      "tags": []
     },
     "output_type": "execute_result"
    }
   ],
   "source": [
    "dados[dados.ITEM_PRICE.isna()].MARCA.value_counts()"
   ]
  },
  {
   "cell_type": "code",
   "execution_count": 0,
   "metadata": {
    "colab": {
     "base_uri": "https://localhost:8080/",
     "height": 1000
    },
    "colab_type": "code",
    "id": "Z8C7PNwBTkA_",
    "outputId": "115bdb9e-f626-4f80-c686-70005340b973"
   },
   "outputs": [
    {
     "data": {
      "text/html": [
       "<div>\n",
       "<style scoped>\n",
       "    .dataframe tbody tr th:only-of-type {\n",
       "        vertical-align: middle;\n",
       "    }\n",
       "\n",
       "    .dataframe tbody tr th {\n",
       "        vertical-align: top;\n",
       "    }\n",
       "\n",
       "    .dataframe thead tr th {\n",
       "        text-align: left;\n",
       "    }\n",
       "\n",
       "    .dataframe thead tr:last-of-type th {\n",
       "        text-align: right;\n",
       "    }\n",
       "</style>\n",
       "<table border=\"1\" class=\"dataframe\">\n",
       "  <thead>\n",
       "    <tr>\n",
       "      <th></th>\n",
       "      <th></th>\n",
       "      <th colspan=\"2\" halign=\"left\">ALTURA</th>\n",
       "      <th colspan=\"2\" halign=\"left\">CAPACIDADE_(L)</th>\n",
       "      <th colspan=\"2\" halign=\"left\">LARGURA</th>\n",
       "      <th colspan=\"2\" halign=\"left\">PROFUNDIDADE</th>\n",
       "      <th colspan=\"2\" halign=\"left\">PESO</th>\n",
       "      <th colspan=\"2\" halign=\"left\">TEMPO_GARANTIA</th>\n",
       "      <th colspan=\"2\" halign=\"left\">ITEM_PRICE</th>\n",
       "      <th colspan=\"2\" halign=\"left\">TEM_TAMPA</th>\n",
       "      <th colspan=\"2\" halign=\"left\">INTERESTED</th>\n",
       "    </tr>\n",
       "    <tr>\n",
       "      <th></th>\n",
       "      <th></th>\n",
       "      <th>mean</th>\n",
       "      <th>std</th>\n",
       "      <th>mean</th>\n",
       "      <th>std</th>\n",
       "      <th>mean</th>\n",
       "      <th>std</th>\n",
       "      <th>mean</th>\n",
       "      <th>std</th>\n",
       "      <th>mean</th>\n",
       "      <th>std</th>\n",
       "      <th>mean</th>\n",
       "      <th>std</th>\n",
       "      <th>mean</th>\n",
       "      <th>std</th>\n",
       "      <th>mean</th>\n",
       "      <th>std</th>\n",
       "      <th>mean</th>\n",
       "      <th>std</th>\n",
       "    </tr>\n",
       "    <tr>\n",
       "      <th>TIPO_PRODUTO</th>\n",
       "      <th>MARCA</th>\n",
       "      <th></th>\n",
       "      <th></th>\n",
       "      <th></th>\n",
       "      <th></th>\n",
       "      <th></th>\n",
       "      <th></th>\n",
       "      <th></th>\n",
       "      <th></th>\n",
       "      <th></th>\n",
       "      <th></th>\n",
       "      <th></th>\n",
       "      <th></th>\n",
       "      <th></th>\n",
       "      <th></th>\n",
       "      <th></th>\n",
       "      <th></th>\n",
       "      <th></th>\n",
       "      <th></th>\n",
       "    </tr>\n",
       "  </thead>\n",
       "  <tbody>\n",
       "    <tr>\n",
       "      <th rowspan=\"2\" valign=\"top\">BULE</th>\n",
       "      <th>PRAVA</th>\n",
       "      <td>30.00</td>\n",
       "      <td>0.00</td>\n",
       "      <td>1.80</td>\n",
       "      <td>0.00</td>\n",
       "      <td>28.00</td>\n",
       "      <td>0.00</td>\n",
       "      <td>30.00</td>\n",
       "      <td>0.00</td>\n",
       "      <td>600.00</td>\n",
       "      <td>0.00</td>\n",
       "      <td>3.00</td>\n",
       "      <td>0.00</td>\n",
       "      <td>NaN</td>\n",
       "      <td>NaN</td>\n",
       "      <td>0.00</td>\n",
       "      <td>0.00</td>\n",
       "      <td>0.0</td>\n",
       "      <td>0.0</td>\n",
       "    </tr>\n",
       "    <tr>\n",
       "      <th>TRAMONTINA</th>\n",
       "      <td>11.70</td>\n",
       "      <td>0.00</td>\n",
       "      <td>0.78</td>\n",
       "      <td>0.00</td>\n",
       "      <td>10.00</td>\n",
       "      <td>0.00</td>\n",
       "      <td>14.30</td>\n",
       "      <td>0.00</td>\n",
       "      <td>230.00</td>\n",
       "      <td>0.00</td>\n",
       "      <td>12.00</td>\n",
       "      <td>0.00</td>\n",
       "      <td>NaN</td>\n",
       "      <td>NaN</td>\n",
       "      <td>0.00</td>\n",
       "      <td>0.00</td>\n",
       "      <td>0.0</td>\n",
       "      <td>0.0</td>\n",
       "    </tr>\n",
       "    <tr>\n",
       "      <th rowspan=\"7\" valign=\"top\">CACAROLA</th>\n",
       "      <th>CERAFLAME</th>\n",
       "      <td>25.73</td>\n",
       "      <td>6.49</td>\n",
       "      <td>3.17</td>\n",
       "      <td>0.80</td>\n",
       "      <td>28.30</td>\n",
       "      <td>4.67</td>\n",
       "      <td>24.98</td>\n",
       "      <td>1.61</td>\n",
       "      <td>155.56</td>\n",
       "      <td>25.00</td>\n",
       "      <td>3.00</td>\n",
       "      <td>0.00</td>\n",
       "      <td>NaN</td>\n",
       "      <td>NaN</td>\n",
       "      <td>1.00</td>\n",
       "      <td>0.00</td>\n",
       "      <td>0.0</td>\n",
       "      <td>0.0</td>\n",
       "    </tr>\n",
       "    <tr>\n",
       "      <th>HERCULES</th>\n",
       "      <td>30.31</td>\n",
       "      <td>6.42</td>\n",
       "      <td>4.91</td>\n",
       "      <td>1.55</td>\n",
       "      <td>17.40</td>\n",
       "      <td>7.43</td>\n",
       "      <td>22.69</td>\n",
       "      <td>7.24</td>\n",
       "      <td>894.19</td>\n",
       "      <td>3121.54</td>\n",
       "      <td>3.00</td>\n",
       "      <td>0.00</td>\n",
       "      <td>NaN</td>\n",
       "      <td>NaN</td>\n",
       "      <td>0.00</td>\n",
       "      <td>0.00</td>\n",
       "      <td>0.0</td>\n",
       "      <td>0.0</td>\n",
       "    </tr>\n",
       "    <tr>\n",
       "      <th>JOMAFE</th>\n",
       "      <td>18.83</td>\n",
       "      <td>7.99</td>\n",
       "      <td>2.86</td>\n",
       "      <td>1.64</td>\n",
       "      <td>25.67</td>\n",
       "      <td>3.39</td>\n",
       "      <td>14.83</td>\n",
       "      <td>3.87</td>\n",
       "      <td>523.33</td>\n",
       "      <td>329.84</td>\n",
       "      <td>12.00</td>\n",
       "      <td>0.00</td>\n",
       "      <td>NaN</td>\n",
       "      <td>NaN</td>\n",
       "      <td>0.92</td>\n",
       "      <td>0.29</td>\n",
       "      <td>0.0</td>\n",
       "      <td>0.0</td>\n",
       "    </tr>\n",
       "    <tr>\n",
       "      <th>LA CUISINE</th>\n",
       "      <td>35.42</td>\n",
       "      <td>0.68</td>\n",
       "      <td>3.02</td>\n",
       "      <td>0.36</td>\n",
       "      <td>34.28</td>\n",
       "      <td>0.45</td>\n",
       "      <td>45.61</td>\n",
       "      <td>1.82</td>\n",
       "      <td>112.78</td>\n",
       "      <td>4.54</td>\n",
       "      <td>1.00</td>\n",
       "      <td>0.00</td>\n",
       "      <td>NaN</td>\n",
       "      <td>NaN</td>\n",
       "      <td>0.00</td>\n",
       "      <td>0.00</td>\n",
       "      <td>0.0</td>\n",
       "      <td>0.0</td>\n",
       "    </tr>\n",
       "    <tr>\n",
       "      <th>PRAVA</th>\n",
       "      <td>24.00</td>\n",
       "      <td>2.11</td>\n",
       "      <td>2.04</td>\n",
       "      <td>1.38</td>\n",
       "      <td>39.00</td>\n",
       "      <td>1.05</td>\n",
       "      <td>33.00</td>\n",
       "      <td>4.83</td>\n",
       "      <td>574.00</td>\n",
       "      <td>307.04</td>\n",
       "      <td>3.00</td>\n",
       "      <td>0.00</td>\n",
       "      <td>NaN</td>\n",
       "      <td>NaN</td>\n",
       "      <td>1.00</td>\n",
       "      <td>0.00</td>\n",
       "      <td>0.0</td>\n",
       "      <td>0.0</td>\n",
       "    </tr>\n",
       "    <tr>\n",
       "      <th>PRAVAS</th>\n",
       "      <td>23.00</td>\n",
       "      <td>0.00</td>\n",
       "      <td>10.00</td>\n",
       "      <td>0.00</td>\n",
       "      <td>34.00</td>\n",
       "      <td>0.00</td>\n",
       "      <td>46.00</td>\n",
       "      <td>0.00</td>\n",
       "      <td>1850.00</td>\n",
       "      <td>0.00</td>\n",
       "      <td>3.00</td>\n",
       "      <td>0.00</td>\n",
       "      <td>NaN</td>\n",
       "      <td>NaN</td>\n",
       "      <td>1.00</td>\n",
       "      <td>0.00</td>\n",
       "      <td>0.0</td>\n",
       "      <td>0.0</td>\n",
       "    </tr>\n",
       "    <tr>\n",
       "      <th>TRAMONTINA</th>\n",
       "      <td>21.85</td>\n",
       "      <td>5.76</td>\n",
       "      <td>2.63</td>\n",
       "      <td>1.00</td>\n",
       "      <td>20.87</td>\n",
       "      <td>2.53</td>\n",
       "      <td>20.27</td>\n",
       "      <td>9.85</td>\n",
       "      <td>55.44</td>\n",
       "      <td>73.57</td>\n",
       "      <td>18.91</td>\n",
       "      <td>44.26</td>\n",
       "      <td>NaN</td>\n",
       "      <td>NaN</td>\n",
       "      <td>0.92</td>\n",
       "      <td>0.27</td>\n",
       "      <td>0.0</td>\n",
       "      <td>0.0</td>\n",
       "    </tr>\n",
       "    <tr>\n",
       "      <th>CALDEIRAO</th>\n",
       "      <th>TRAMONTINA</th>\n",
       "      <td>31.62</td>\n",
       "      <td>1.45</td>\n",
       "      <td>7.62</td>\n",
       "      <td>3.28</td>\n",
       "      <td>26.44</td>\n",
       "      <td>4.50</td>\n",
       "      <td>21.06</td>\n",
       "      <td>2.16</td>\n",
       "      <td>203.07</td>\n",
       "      <td>159.82</td>\n",
       "      <td>143.17</td>\n",
       "      <td>144.14</td>\n",
       "      <td>NaN</td>\n",
       "      <td>NaN</td>\n",
       "      <td>0.54</td>\n",
       "      <td>0.50</td>\n",
       "      <td>0.0</td>\n",
       "      <td>0.0</td>\n",
       "    </tr>\n",
       "    <tr>\n",
       "      <th>CANECO</th>\n",
       "      <th>PRAVA</th>\n",
       "      <td>20.00</td>\n",
       "      <td>0.00</td>\n",
       "      <td>2.60</td>\n",
       "      <td>0.00</td>\n",
       "      <td>30.00</td>\n",
       "      <td>0.00</td>\n",
       "      <td>20.00</td>\n",
       "      <td>0.00</td>\n",
       "      <td>620.00</td>\n",
       "      <td>0.00</td>\n",
       "      <td>3.00</td>\n",
       "      <td>0.00</td>\n",
       "      <td>NaN</td>\n",
       "      <td>NaN</td>\n",
       "      <td>1.00</td>\n",
       "      <td>0.00</td>\n",
       "      <td>0.0</td>\n",
       "      <td>0.0</td>\n",
       "    </tr>\n",
       "    <tr>\n",
       "      <th rowspan=\"4\" valign=\"top\">CHALEIRA</th>\n",
       "      <th>BR HOME</th>\n",
       "      <td>15.50</td>\n",
       "      <td>0.00</td>\n",
       "      <td>2.30</td>\n",
       "      <td>0.00</td>\n",
       "      <td>18.50</td>\n",
       "      <td>0.00</td>\n",
       "      <td>18.50</td>\n",
       "      <td>0.00</td>\n",
       "      <td>550.00</td>\n",
       "      <td>0.00</td>\n",
       "      <td>3.00</td>\n",
       "      <td>0.00</td>\n",
       "      <td>NaN</td>\n",
       "      <td>NaN</td>\n",
       "      <td>0.00</td>\n",
       "      <td>0.00</td>\n",
       "      <td>0.0</td>\n",
       "      <td>0.0</td>\n",
       "    </tr>\n",
       "    <tr>\n",
       "      <th>EURO HOME</th>\n",
       "      <td>50.81</td>\n",
       "      <td>9.07</td>\n",
       "      <td>2.90</td>\n",
       "      <td>0.10</td>\n",
       "      <td>23.50</td>\n",
       "      <td>0.00</td>\n",
       "      <td>61.61</td>\n",
       "      <td>5.90</td>\n",
       "      <td>431.46</td>\n",
       "      <td>265.47</td>\n",
       "      <td>6.00</td>\n",
       "      <td>0.00</td>\n",
       "      <td>NaN</td>\n",
       "      <td>NaN</td>\n",
       "      <td>0.00</td>\n",
       "      <td>0.00</td>\n",
       "      <td>0.0</td>\n",
       "      <td>0.0</td>\n",
       "    </tr>\n",
       "    <tr>\n",
       "      <th>MIMO STYLE</th>\n",
       "      <td>25.00</td>\n",
       "      <td>0.00</td>\n",
       "      <td>2.00</td>\n",
       "      <td>0.00</td>\n",
       "      <td>28.00</td>\n",
       "      <td>0.00</td>\n",
       "      <td>28.00</td>\n",
       "      <td>0.00</td>\n",
       "      <td>110.00</td>\n",
       "      <td>0.00</td>\n",
       "      <td>3.00</td>\n",
       "      <td>0.00</td>\n",
       "      <td>NaN</td>\n",
       "      <td>NaN</td>\n",
       "      <td>0.00</td>\n",
       "      <td>0.00</td>\n",
       "      <td>0.0</td>\n",
       "      <td>0.0</td>\n",
       "    </tr>\n",
       "    <tr>\n",
       "      <th>ZANELLA</th>\n",
       "      <td>15.68</td>\n",
       "      <td>0.74</td>\n",
       "      <td>1.08</td>\n",
       "      <td>0.18</td>\n",
       "      <td>16.84</td>\n",
       "      <td>0.37</td>\n",
       "      <td>16.68</td>\n",
       "      <td>0.74</td>\n",
       "      <td>450.00</td>\n",
       "      <td>0.00</td>\n",
       "      <td>NaN</td>\n",
       "      <td>NaN</td>\n",
       "      <td>NaN</td>\n",
       "      <td>NaN</td>\n",
       "      <td>0.00</td>\n",
       "      <td>0.00</td>\n",
       "      <td>0.0</td>\n",
       "      <td>0.0</td>\n",
       "    </tr>\n",
       "    <tr>\n",
       "      <th>COZI-VAPORE</th>\n",
       "      <th>TRAMONTINA</th>\n",
       "      <td>26.25</td>\n",
       "      <td>1.70</td>\n",
       "      <td>2.04</td>\n",
       "      <td>0.61</td>\n",
       "      <td>19.17</td>\n",
       "      <td>1.91</td>\n",
       "      <td>10.15</td>\n",
       "      <td>0.26</td>\n",
       "      <td>490.49</td>\n",
       "      <td>54.35</td>\n",
       "      <td>12.00</td>\n",
       "      <td>0.00</td>\n",
       "      <td>NaN</td>\n",
       "      <td>NaN</td>\n",
       "      <td>0.00</td>\n",
       "      <td>0.00</td>\n",
       "      <td>0.0</td>\n",
       "      <td>0.0</td>\n",
       "    </tr>\n",
       "    <tr>\n",
       "      <th>CUSCUZEIRO</th>\n",
       "      <th>PRAVA</th>\n",
       "      <td>30.00</td>\n",
       "      <td>0.00</td>\n",
       "      <td>2.67</td>\n",
       "      <td>0.19</td>\n",
       "      <td>40.00</td>\n",
       "      <td>0.00</td>\n",
       "      <td>40.00</td>\n",
       "      <td>0.00</td>\n",
       "      <td>78.42</td>\n",
       "      <td>47.76</td>\n",
       "      <td>3.00</td>\n",
       "      <td>0.00</td>\n",
       "      <td>NaN</td>\n",
       "      <td>NaN</td>\n",
       "      <td>0.00</td>\n",
       "      <td>0.00</td>\n",
       "      <td>0.0</td>\n",
       "      <td>0.0</td>\n",
       "    </tr>\n",
       "    <tr>\n",
       "      <th rowspan=\"5\" valign=\"top\">ESPAGUETEIRA</th>\n",
       "      <th>FORMA</th>\n",
       "      <td>22.50</td>\n",
       "      <td>0.00</td>\n",
       "      <td>5.00</td>\n",
       "      <td>0.00</td>\n",
       "      <td>28.50</td>\n",
       "      <td>0.00</td>\n",
       "      <td>28.50</td>\n",
       "      <td>0.00</td>\n",
       "      <td>190.00</td>\n",
       "      <td>0.00</td>\n",
       "      <td>3.00</td>\n",
       "      <td>0.00</td>\n",
       "      <td>NaN</td>\n",
       "      <td>NaN</td>\n",
       "      <td>0.00</td>\n",
       "      <td>0.00</td>\n",
       "      <td>0.0</td>\n",
       "      <td>0.0</td>\n",
       "    </tr>\n",
       "    <tr>\n",
       "      <th>HERCULES</th>\n",
       "      <td>39.00</td>\n",
       "      <td>0.00</td>\n",
       "      <td>10.00</td>\n",
       "      <td>0.00</td>\n",
       "      <td>17.70</td>\n",
       "      <td>0.00</td>\n",
       "      <td>39.00</td>\n",
       "      <td>0.00</td>\n",
       "      <td>320.00</td>\n",
       "      <td>0.00</td>\n",
       "      <td>3.00</td>\n",
       "      <td>0.00</td>\n",
       "      <td>NaN</td>\n",
       "      <td>NaN</td>\n",
       "      <td>0.00</td>\n",
       "      <td>0.00</td>\n",
       "      <td>0.0</td>\n",
       "      <td>0.0</td>\n",
       "    </tr>\n",
       "    <tr>\n",
       "      <th>PANELUX</th>\n",
       "      <td>18.50</td>\n",
       "      <td>0.00</td>\n",
       "      <td>4.00</td>\n",
       "      <td>0.00</td>\n",
       "      <td>21.50</td>\n",
       "      <td>0.00</td>\n",
       "      <td>26.00</td>\n",
       "      <td>0.00</td>\n",
       "      <td>0.62</td>\n",
       "      <td>0.00</td>\n",
       "      <td>6.00</td>\n",
       "      <td>0.00</td>\n",
       "      <td>NaN</td>\n",
       "      <td>NaN</td>\n",
       "      <td>1.00</td>\n",
       "      <td>0.00</td>\n",
       "      <td>0.0</td>\n",
       "      <td>0.0</td>\n",
       "    </tr>\n",
       "    <tr>\n",
       "      <th>TRAMONTINA</th>\n",
       "      <td>35.74</td>\n",
       "      <td>2.22</td>\n",
       "      <td>6.97</td>\n",
       "      <td>0.23</td>\n",
       "      <td>25.52</td>\n",
       "      <td>0.18</td>\n",
       "      <td>19.04</td>\n",
       "      <td>1.18</td>\n",
       "      <td>493.29</td>\n",
       "      <td>57.35</td>\n",
       "      <td>12.00</td>\n",
       "      <td>0.00</td>\n",
       "      <td>NaN</td>\n",
       "      <td>NaN</td>\n",
       "      <td>0.00</td>\n",
       "      <td>0.00</td>\n",
       "      <td>0.0</td>\n",
       "      <td>0.0</td>\n",
       "    </tr>\n",
       "    <tr>\n",
       "      <th>ZANELLA</th>\n",
       "      <td>21.00</td>\n",
       "      <td>0.00</td>\n",
       "      <td>3.30</td>\n",
       "      <td>0.00</td>\n",
       "      <td>22.00</td>\n",
       "      <td>0.00</td>\n",
       "      <td>32.00</td>\n",
       "      <td>0.00</td>\n",
       "      <td>130.00</td>\n",
       "      <td>0.00</td>\n",
       "      <td>NaN</td>\n",
       "      <td>NaN</td>\n",
       "      <td>NaN</td>\n",
       "      <td>NaN</td>\n",
       "      <td>1.00</td>\n",
       "      <td>0.00</td>\n",
       "      <td>0.0</td>\n",
       "      <td>0.0</td>\n",
       "    </tr>\n",
       "    <tr>\n",
       "      <th rowspan=\"5\" valign=\"top\">FRIGIDEIRA</th>\n",
       "      <th>CERAFLAME</th>\n",
       "      <td>10.99</td>\n",
       "      <td>2.24</td>\n",
       "      <td>1.92</td>\n",
       "      <td>0.19</td>\n",
       "      <td>28.30</td>\n",
       "      <td>0.67</td>\n",
       "      <td>28.33</td>\n",
       "      <td>0.75</td>\n",
       "      <td>34.76</td>\n",
       "      <td>55.96</td>\n",
       "      <td>3.00</td>\n",
       "      <td>0.00</td>\n",
       "      <td>NaN</td>\n",
       "      <td>NaN</td>\n",
       "      <td>1.00</td>\n",
       "      <td>0.00</td>\n",
       "      <td>0.0</td>\n",
       "      <td>0.0</td>\n",
       "    </tr>\n",
       "    <tr>\n",
       "      <th>PRAVA</th>\n",
       "      <td>16.25</td>\n",
       "      <td>2.31</td>\n",
       "      <td>2.12</td>\n",
       "      <td>0.42</td>\n",
       "      <td>43.75</td>\n",
       "      <td>5.18</td>\n",
       "      <td>44.38</td>\n",
       "      <td>9.80</td>\n",
       "      <td>715.00</td>\n",
       "      <td>384.04</td>\n",
       "      <td>3.00</td>\n",
       "      <td>0.00</td>\n",
       "      <td>NaN</td>\n",
       "      <td>NaN</td>\n",
       "      <td>0.88</td>\n",
       "      <td>0.35</td>\n",
       "      <td>0.0</td>\n",
       "      <td>0.0</td>\n",
       "    </tr>\n",
       "    <tr>\n",
       "      <th>PRAVAS</th>\n",
       "      <td>26.00</td>\n",
       "      <td>0.00</td>\n",
       "      <td>2.20</td>\n",
       "      <td>0.00</td>\n",
       "      <td>28.00</td>\n",
       "      <td>0.00</td>\n",
       "      <td>45.00</td>\n",
       "      <td>0.00</td>\n",
       "      <td>120.00</td>\n",
       "      <td>0.00</td>\n",
       "      <td>3.00</td>\n",
       "      <td>0.00</td>\n",
       "      <td>NaN</td>\n",
       "      <td>NaN</td>\n",
       "      <td>1.00</td>\n",
       "      <td>0.00</td>\n",
       "      <td>0.0</td>\n",
       "      <td>0.0</td>\n",
       "    </tr>\n",
       "    <tr>\n",
       "      <th>ROCHEDO</th>\n",
       "      <td>15.00</td>\n",
       "      <td>0.00</td>\n",
       "      <td>1.10</td>\n",
       "      <td>0.00</td>\n",
       "      <td>42.00</td>\n",
       "      <td>0.00</td>\n",
       "      <td>36.50</td>\n",
       "      <td>0.00</td>\n",
       "      <td>328.00</td>\n",
       "      <td>0.00</td>\n",
       "      <td>3.00</td>\n",
       "      <td>0.00</td>\n",
       "      <td>NaN</td>\n",
       "      <td>NaN</td>\n",
       "      <td>0.00</td>\n",
       "      <td>0.00</td>\n",
       "      <td>0.0</td>\n",
       "      <td>0.0</td>\n",
       "    </tr>\n",
       "    <tr>\n",
       "      <th>TRAMONTINA</th>\n",
       "      <td>12.20</td>\n",
       "      <td>0.00</td>\n",
       "      <td>1.60</td>\n",
       "      <td>0.00</td>\n",
       "      <td>40.30</td>\n",
       "      <td>0.00</td>\n",
       "      <td>21.30</td>\n",
       "      <td>0.00</td>\n",
       "      <td>130.00</td>\n",
       "      <td>0.00</td>\n",
       "      <td>NaN</td>\n",
       "      <td>NaN</td>\n",
       "      <td>NaN</td>\n",
       "      <td>NaN</td>\n",
       "      <td>0.00</td>\n",
       "      <td>0.00</td>\n",
       "      <td>0.0</td>\n",
       "      <td>0.0</td>\n",
       "    </tr>\n",
       "    <tr>\n",
       "      <th>GRILL</th>\n",
       "      <th>BRINOX</th>\n",
       "      <td>12.42</td>\n",
       "      <td>1.44</td>\n",
       "      <td>0.00</td>\n",
       "      <td>0.00</td>\n",
       "      <td>24.52</td>\n",
       "      <td>0.18</td>\n",
       "      <td>39.75</td>\n",
       "      <td>0.44</td>\n",
       "      <td>481.58</td>\n",
       "      <td>45.67</td>\n",
       "      <td>3.00</td>\n",
       "      <td>0.00</td>\n",
       "      <td>NaN</td>\n",
       "      <td>NaN</td>\n",
       "      <td>0.00</td>\n",
       "      <td>0.00</td>\n",
       "      <td>0.0</td>\n",
       "      <td>0.0</td>\n",
       "    </tr>\n",
       "    <tr>\n",
       "      <th rowspan=\"2\" valign=\"top\">LEITEIRA</th>\n",
       "      <th>BIALETTI</th>\n",
       "      <td>11.00</td>\n",
       "      <td>0.00</td>\n",
       "      <td>0.50</td>\n",
       "      <td>0.00</td>\n",
       "      <td>9.00</td>\n",
       "      <td>0.00</td>\n",
       "      <td>12.50</td>\n",
       "      <td>0.00</td>\n",
       "      <td>250.00</td>\n",
       "      <td>0.00</td>\n",
       "      <td>12.00</td>\n",
       "      <td>0.00</td>\n",
       "      <td>NaN</td>\n",
       "      <td>NaN</td>\n",
       "      <td>0.00</td>\n",
       "      <td>0.00</td>\n",
       "      <td>0.0</td>\n",
       "      <td>0.0</td>\n",
       "    </tr>\n",
       "    <tr>\n",
       "      <th>EURO HOME</th>\n",
       "      <td>30.50</td>\n",
       "      <td>0.00</td>\n",
       "      <td>0.75</td>\n",
       "      <td>0.00</td>\n",
       "      <td>26.00</td>\n",
       "      <td>0.00</td>\n",
       "      <td>18.00</td>\n",
       "      <td>0.00</td>\n",
       "      <td>190.00</td>\n",
       "      <td>0.00</td>\n",
       "      <td>6.00</td>\n",
       "      <td>0.00</td>\n",
       "      <td>NaN</td>\n",
       "      <td>NaN</td>\n",
       "      <td>0.00</td>\n",
       "      <td>0.00</td>\n",
       "      <td>0.0</td>\n",
       "      <td>0.0</td>\n",
       "    </tr>\n",
       "    <tr>\n",
       "      <th>PAELLERA</th>\n",
       "      <th>MTA</th>\n",
       "      <td>13.00</td>\n",
       "      <td>0.00</td>\n",
       "      <td>4.20</td>\n",
       "      <td>0.00</td>\n",
       "      <td>37.50</td>\n",
       "      <td>0.00</td>\n",
       "      <td>56.00</td>\n",
       "      <td>8.58</td>\n",
       "      <td>1915.00</td>\n",
       "      <td>15.14</td>\n",
       "      <td>NaN</td>\n",
       "      <td>NaN</td>\n",
       "      <td>NaN</td>\n",
       "      <td>NaN</td>\n",
       "      <td>1.00</td>\n",
       "      <td>0.00</td>\n",
       "      <td>0.0</td>\n",
       "      <td>0.0</td>\n",
       "    </tr>\n",
       "    <tr>\n",
       "      <th rowspan=\"6\" valign=\"top\">PANELA</th>\n",
       "      <th>CERAFLAME</th>\n",
       "      <td>19.00</td>\n",
       "      <td>0.00</td>\n",
       "      <td>1.60</td>\n",
       "      <td>0.00</td>\n",
       "      <td>23.50</td>\n",
       "      <td>0.00</td>\n",
       "      <td>23.50</td>\n",
       "      <td>0.00</td>\n",
       "      <td>150.00</td>\n",
       "      <td>0.00</td>\n",
       "      <td>3.00</td>\n",
       "      <td>0.00</td>\n",
       "      <td>NaN</td>\n",
       "      <td>NaN</td>\n",
       "      <td>1.00</td>\n",
       "      <td>0.00</td>\n",
       "      <td>0.0</td>\n",
       "      <td>0.0</td>\n",
       "    </tr>\n",
       "    <tr>\n",
       "      <th>JOMAFE</th>\n",
       "      <td>22.93</td>\n",
       "      <td>5.41</td>\n",
       "      <td>4.95</td>\n",
       "      <td>1.98</td>\n",
       "      <td>20.82</td>\n",
       "      <td>1.31</td>\n",
       "      <td>20.93</td>\n",
       "      <td>3.55</td>\n",
       "      <td>968.57</td>\n",
       "      <td>468.74</td>\n",
       "      <td>12.00</td>\n",
       "      <td>0.00</td>\n",
       "      <td>NaN</td>\n",
       "      <td>NaN</td>\n",
       "      <td>1.00</td>\n",
       "      <td>0.00</td>\n",
       "      <td>0.0</td>\n",
       "      <td>0.0</td>\n",
       "    </tr>\n",
       "    <tr>\n",
       "      <th>LA CUISINE</th>\n",
       "      <td>10.85</td>\n",
       "      <td>2.98</td>\n",
       "      <td>1.74</td>\n",
       "      <td>0.18</td>\n",
       "      <td>19.67</td>\n",
       "      <td>2.13</td>\n",
       "      <td>31.41</td>\n",
       "      <td>12.56</td>\n",
       "      <td>455.70</td>\n",
       "      <td>517.97</td>\n",
       "      <td>1.13</td>\n",
       "      <td>0.49</td>\n",
       "      <td>NaN</td>\n",
       "      <td>NaN</td>\n",
       "      <td>0.00</td>\n",
       "      <td>0.00</td>\n",
       "      <td>0.0</td>\n",
       "      <td>0.0</td>\n",
       "    </tr>\n",
       "    <tr>\n",
       "      <th>OXFORD COOKWARE</th>\n",
       "      <td>25.00</td>\n",
       "      <td>0.00</td>\n",
       "      <td>3.30</td>\n",
       "      <td>0.00</td>\n",
       "      <td>13.00</td>\n",
       "      <td>0.00</td>\n",
       "      <td>29.70</td>\n",
       "      <td>0.00</td>\n",
       "      <td>210.00</td>\n",
       "      <td>0.00</td>\n",
       "      <td>60.00</td>\n",
       "      <td>0.00</td>\n",
       "      <td>NaN</td>\n",
       "      <td>NaN</td>\n",
       "      <td>0.00</td>\n",
       "      <td>0.00</td>\n",
       "      <td>0.0</td>\n",
       "      <td>0.0</td>\n",
       "    </tr>\n",
       "    <tr>\n",
       "      <th>PRAVAS</th>\n",
       "      <td>18.00</td>\n",
       "      <td>0.41</td>\n",
       "      <td>1.72</td>\n",
       "      <td>0.27</td>\n",
       "      <td>20.85</td>\n",
       "      <td>0.55</td>\n",
       "      <td>10.77</td>\n",
       "      <td>11.67</td>\n",
       "      <td>780.00</td>\n",
       "      <td>232.16</td>\n",
       "      <td>3.00</td>\n",
       "      <td>0.00</td>\n",
       "      <td>NaN</td>\n",
       "      <td>NaN</td>\n",
       "      <td>1.00</td>\n",
       "      <td>0.00</td>\n",
       "      <td>0.0</td>\n",
       "      <td>0.0</td>\n",
       "    </tr>\n",
       "    <tr>\n",
       "      <th>TRAMONTINA</th>\n",
       "      <td>33.11</td>\n",
       "      <td>9.02</td>\n",
       "      <td>3.73</td>\n",
       "      <td>1.12</td>\n",
       "      <td>28.60</td>\n",
       "      <td>6.00</td>\n",
       "      <td>16.81</td>\n",
       "      <td>7.31</td>\n",
       "      <td>279.90</td>\n",
       "      <td>528.26</td>\n",
       "      <td>12.00</td>\n",
       "      <td>0.00</td>\n",
       "      <td>NaN</td>\n",
       "      <td>NaN</td>\n",
       "      <td>0.83</td>\n",
       "      <td>0.38</td>\n",
       "      <td>0.0</td>\n",
       "      <td>0.0</td>\n",
       "    </tr>\n",
       "    <tr>\n",
       "      <th>PIPOQUEIRA</th>\n",
       "      <th>TRAMONTINA</th>\n",
       "      <td>49.50</td>\n",
       "      <td>0.00</td>\n",
       "      <td>6.00</td>\n",
       "      <td>0.00</td>\n",
       "      <td>41.50</td>\n",
       "      <td>0.00</td>\n",
       "      <td>47.00</td>\n",
       "      <td>0.00</td>\n",
       "      <td>120.00</td>\n",
       "      <td>0.00</td>\n",
       "      <td>12.00</td>\n",
       "      <td>0.00</td>\n",
       "      <td>NaN</td>\n",
       "      <td>NaN</td>\n",
       "      <td>1.00</td>\n",
       "      <td>0.00</td>\n",
       "      <td>0.0</td>\n",
       "      <td>0.0</td>\n",
       "    </tr>\n",
       "    <tr>\n",
       "      <th rowspan=\"2\" valign=\"top\">WOK</th>\n",
       "      <th>BRINOX</th>\n",
       "      <td>10.00</td>\n",
       "      <td>NaN</td>\n",
       "      <td>3.90</td>\n",
       "      <td>NaN</td>\n",
       "      <td>33.00</td>\n",
       "      <td>NaN</td>\n",
       "      <td>38.50</td>\n",
       "      <td>NaN</td>\n",
       "      <td>20.00</td>\n",
       "      <td>NaN</td>\n",
       "      <td>3.00</td>\n",
       "      <td>NaN</td>\n",
       "      <td>NaN</td>\n",
       "      <td>NaN</td>\n",
       "      <td>0.00</td>\n",
       "      <td>NaN</td>\n",
       "      <td>0.0</td>\n",
       "      <td>NaN</td>\n",
       "    </tr>\n",
       "    <tr>\n",
       "      <th>MTA</th>\n",
       "      <td>12.00</td>\n",
       "      <td>0.00</td>\n",
       "      <td>4.00</td>\n",
       "      <td>0.00</td>\n",
       "      <td>30.00</td>\n",
       "      <td>0.00</td>\n",
       "      <td>36.00</td>\n",
       "      <td>0.00</td>\n",
       "      <td>450.00</td>\n",
       "      <td>0.00</td>\n",
       "      <td>NaN</td>\n",
       "      <td>NaN</td>\n",
       "      <td>NaN</td>\n",
       "      <td>NaN</td>\n",
       "      <td>1.00</td>\n",
       "      <td>0.00</td>\n",
       "      <td>0.0</td>\n",
       "      <td>0.0</td>\n",
       "    </tr>\n",
       "  </tbody>\n",
       "</table>\n",
       "</div>"
      ],
      "text/plain": [
       "                             ALTURA       CAPACIDADE_(L)  ... TEM_TAMPA INTERESTED     \n",
       "                               mean   std           mean  ...       std       mean  std\n",
       "TIPO_PRODUTO MARCA                                        ...                          \n",
       "BULE         PRAVA            30.00  0.00           1.80  ...      0.00        0.0  0.0\n",
       "             TRAMONTINA       11.70  0.00           0.78  ...      0.00        0.0  0.0\n",
       "CACAROLA     CERAFLAME        25.73  6.49           3.17  ...      0.00        0.0  0.0\n",
       "             HERCULES         30.31  6.42           4.91  ...      0.00        0.0  0.0\n",
       "             JOMAFE           18.83  7.99           2.86  ...      0.29        0.0  0.0\n",
       "             LA CUISINE       35.42  0.68           3.02  ...      0.00        0.0  0.0\n",
       "             PRAVA            24.00  2.11           2.04  ...      0.00        0.0  0.0\n",
       "             PRAVAS           23.00  0.00          10.00  ...      0.00        0.0  0.0\n",
       "             TRAMONTINA       21.85  5.76           2.63  ...      0.27        0.0  0.0\n",
       "CALDEIRAO    TRAMONTINA       31.62  1.45           7.62  ...      0.50        0.0  0.0\n",
       "CANECO       PRAVA            20.00  0.00           2.60  ...      0.00        0.0  0.0\n",
       "CHALEIRA     BR HOME          15.50  0.00           2.30  ...      0.00        0.0  0.0\n",
       "             EURO HOME        50.81  9.07           2.90  ...      0.00        0.0  0.0\n",
       "             MIMO STYLE       25.00  0.00           2.00  ...      0.00        0.0  0.0\n",
       "             ZANELLA          15.68  0.74           1.08  ...      0.00        0.0  0.0\n",
       "COZI-VAPORE  TRAMONTINA       26.25  1.70           2.04  ...      0.00        0.0  0.0\n",
       "CUSCUZEIRO   PRAVA            30.00  0.00           2.67  ...      0.00        0.0  0.0\n",
       "ESPAGUETEIRA FORMA            22.50  0.00           5.00  ...      0.00        0.0  0.0\n",
       "             HERCULES         39.00  0.00          10.00  ...      0.00        0.0  0.0\n",
       "             PANELUX          18.50  0.00           4.00  ...      0.00        0.0  0.0\n",
       "             TRAMONTINA       35.74  2.22           6.97  ...      0.00        0.0  0.0\n",
       "             ZANELLA          21.00  0.00           3.30  ...      0.00        0.0  0.0\n",
       "FRIGIDEIRA   CERAFLAME        10.99  2.24           1.92  ...      0.00        0.0  0.0\n",
       "             PRAVA            16.25  2.31           2.12  ...      0.35        0.0  0.0\n",
       "             PRAVAS           26.00  0.00           2.20  ...      0.00        0.0  0.0\n",
       "             ROCHEDO          15.00  0.00           1.10  ...      0.00        0.0  0.0\n",
       "             TRAMONTINA       12.20  0.00           1.60  ...      0.00        0.0  0.0\n",
       "GRILL        BRINOX           12.42  1.44           0.00  ...      0.00        0.0  0.0\n",
       "LEITEIRA     BIALETTI         11.00  0.00           0.50  ...      0.00        0.0  0.0\n",
       "             EURO HOME        30.50  0.00           0.75  ...      0.00        0.0  0.0\n",
       "PAELLERA     MTA              13.00  0.00           4.20  ...      0.00        0.0  0.0\n",
       "PANELA       CERAFLAME        19.00  0.00           1.60  ...      0.00        0.0  0.0\n",
       "             JOMAFE           22.93  5.41           4.95  ...      0.00        0.0  0.0\n",
       "             LA CUISINE       10.85  2.98           1.74  ...      0.00        0.0  0.0\n",
       "             OXFORD COOKWARE  25.00  0.00           3.30  ...      0.00        0.0  0.0\n",
       "             PRAVAS           18.00  0.41           1.72  ...      0.00        0.0  0.0\n",
       "             TRAMONTINA       33.11  9.02           3.73  ...      0.38        0.0  0.0\n",
       "PIPOQUEIRA   TRAMONTINA       49.50  0.00           6.00  ...      0.00        0.0  0.0\n",
       "WOK          BRINOX           10.00   NaN           3.90  ...       NaN        0.0  NaN\n",
       "             MTA              12.00  0.00           4.00  ...      0.00        0.0  0.0\n",
       "\n",
       "[40 rows x 18 columns]"
      ]
     },
     "execution_count": 133,
     "metadata": {
      "tags": []
     },
     "output_type": "execute_result"
    }
   ],
   "source": [
    "dados[dados.ITEM_PRICE.isna()].drop([\"TIPO_WOK\",\"TEM_FERRO_FUNDIDO\",\"TEM_GRELHA\",\"PARA_MICRO_ONDAS\",\"PARA_LAVA_LOUCAS\"], axis=1).set_index(\n",
    "    [\"MARCA\", \"TIPO_PRODUTO\"]).groupby(level = [\"TIPO_PRODUTO\",\"MARCA\"]).aggregate([np.mean, np.std]).round(2)"
   ]
  },
  {
   "cell_type": "code",
   "execution_count": 0,
   "metadata": {
    "colab": {},
    "colab_type": "code",
    "id": "BlHTaN9kUR1x"
   },
   "outputs": [],
   "source": [
    "# é possivel tentar tratar alguns desses dados por aproximação, mas de forma conferir individualmente.\n",
    "# devido ao baixo percentual atual de nan e a falta de tempo, vou optar por descartá-los\n",
    "# além do que essa é uma informação excencial que n deveria faltar no dataset.\n",
    "dados = dados[~dados.ITEM_PRICE.isna()]"
   ]
  },
  {
   "cell_type": "code",
   "execution_count": 0,
   "metadata": {
    "colab": {
     "base_uri": "https://localhost:8080/",
     "height": 208
    },
    "colab_type": "code",
    "id": "vG8w9MNOYLsT",
    "outputId": "5ac2521d-3d5f-409b-bd68-a2b21f3474af"
   },
   "outputs": [
    {
     "name": "stdout",
     "output_type": "stream",
     "text": [
      "Proporção de valores nan por coluna do dataset: \n",
      "\n"
     ]
    },
    {
     "data": {
      "text/plain": [
       "TEMPO_GARANTIA      0.022665\n",
       "COR                 0.019542\n",
       "COMPOSICAO          0.006606\n",
       "PARA_LAVA_LOUCAS    0.000096\n",
       "LARGURA             0.000000\n",
       "FORMATO             0.000000\n",
       "MARCA               0.000000\n",
       "TIPO_PRODUTO        0.000000\n",
       "dtype: float64"
      ]
     },
     "execution_count": 135,
     "metadata": {
      "tags": []
     },
     "output_type": "execute_result"
    }
   ],
   "source": [
    "prop_missing()[0:8]"
   ]
  },
  {
   "cell_type": "markdown",
   "metadata": {
    "colab_type": "text",
    "id": "e8ktmv7eYf5J"
   },
   "source": [
    "### TEMPO_GARANTIA"
   ]
  },
  {
   "cell_type": "code",
   "execution_count": 0,
   "metadata": {
    "colab": {
     "base_uri": "https://localhost:8080/",
     "height": 69
    },
    "colab_type": "code",
    "id": "MSwc-5emYfZg",
    "outputId": "f11e5def-49b1-404d-dbfc-6c5f296939d3"
   },
   "outputs": [
    {
     "data": {
      "text/plain": [
       "TRAMONTINA    1094\n",
       "MTA            800\n",
       "Name: MARCA, dtype: int64"
      ]
     },
     "execution_count": 136,
     "metadata": {
      "tags": []
     },
     "output_type": "execute_result"
    }
   ],
   "source": [
    "dados[dados.TEMPO_GARANTIA.isna()].MARCA.value_counts()"
   ]
  },
  {
   "cell_type": "code",
   "execution_count": 0,
   "metadata": {
    "colab": {
     "base_uri": "https://localhost:8080/",
     "height": 69
    },
    "colab_type": "code",
    "id": "8umgOHgJZCtO",
    "outputId": "86dfb150-3a1a-48d0-9ba5-a28aef2b308e"
   },
   "outputs": [
    {
     "data": {
      "text/plain": [
       "CHALEIRA      1078\n",
       "FRIGIDEIRA      16\n",
       "Name: TIPO_PRODUTO, dtype: int64"
      ]
     },
     "execution_count": 137,
     "metadata": {
      "tags": []
     },
     "output_type": "execute_result"
    }
   ],
   "source": [
    "dados[dados.TEMPO_GARANTIA.isna()].query(\"MARCA == 'TRAMONTINA'\").TIPO_PRODUTO.value_counts()"
   ]
  },
  {
   "cell_type": "code",
   "execution_count": 0,
   "metadata": {
    "colab": {
     "base_uri": "https://localhost:8080/",
     "height": 52
    },
    "colab_type": "code",
    "id": "02JRCRDIYTpM",
    "outputId": "81edff16-9da1-4165-9429-bb824a639022"
   },
   "outputs": [
    {
     "data": {
      "text/plain": [
       "CHALEIRA    1078\n",
       "Name: TIPO_PRODUTO, dtype: int64"
      ]
     },
     "execution_count": 138,
     "metadata": {
      "tags": []
     },
     "output_type": "execute_result"
    }
   ],
   "source": [
    "# todas chaleiras tramontina n possuem marcação de garantia\n",
    "dados.query(\"MARCA == 'TRAMONTINA'\").query(\"TIPO_PRODUTO == 'CHALEIRA'\").TIPO_PRODUTO.value_counts()"
   ]
  },
  {
   "cell_type": "code",
   "execution_count": 0,
   "metadata": {
    "colab": {
     "base_uri": "https://localhost:8080/",
     "height": 52
    },
    "colab_type": "code",
    "id": "pIUYViv9ZA3V",
    "outputId": "77a940f2-50f9-4b32-c50c-106e24bf85e9"
   },
   "outputs": [
    {
     "data": {
      "text/plain": [
       "FRIGIDEIRA    16\n",
       "Name: TIPO_PRODUTO, dtype: int64"
      ]
     },
     "execution_count": 139,
     "metadata": {
      "tags": []
     },
     "output_type": "execute_result"
    }
   ],
   "source": [
    "# assim como toda frigideira tramontina\n",
    "dados.query(\"MARCA == 'TRAMONTINA'\").query(\"TIPO_PRODUTO == 'FRIGIDEIRA'\").TIPO_PRODUTO.value_counts()"
   ]
  },
  {
   "cell_type": "code",
   "execution_count": 0,
   "metadata": {
    "colab": {
     "base_uri": "https://localhost:8080/",
     "height": 238
    },
    "colab_type": "code",
    "id": "5KxFcFbzduvi",
    "outputId": "26478e21-f62d-4efc-9663-a597f245c0e0"
   },
   "outputs": [
    {
     "data": {
      "text/html": [
       "<div>\n",
       "<style scoped>\n",
       "    .dataframe tbody tr th:only-of-type {\n",
       "        vertical-align: middle;\n",
       "    }\n",
       "\n",
       "    .dataframe tbody tr th {\n",
       "        vertical-align: top;\n",
       "    }\n",
       "\n",
       "    .dataframe thead tr th {\n",
       "        text-align: left;\n",
       "    }\n",
       "\n",
       "    .dataframe thead tr:last-of-type th {\n",
       "        text-align: right;\n",
       "    }\n",
       "</style>\n",
       "<table border=\"1\" class=\"dataframe\">\n",
       "  <thead>\n",
       "    <tr>\n",
       "      <th></th>\n",
       "      <th></th>\n",
       "      <th colspan=\"2\" halign=\"left\">ALTURA</th>\n",
       "      <th colspan=\"2\" halign=\"left\">CAPACIDADE_(L)</th>\n",
       "      <th colspan=\"2\" halign=\"left\">LARGURA</th>\n",
       "      <th colspan=\"2\" halign=\"left\">PROFUNDIDADE</th>\n",
       "      <th colspan=\"2\" halign=\"left\">PESO</th>\n",
       "      <th colspan=\"2\" halign=\"left\">TEMPO_GARANTIA</th>\n",
       "      <th colspan=\"2\" halign=\"left\">ITEM_PRICE</th>\n",
       "      <th colspan=\"2\" halign=\"left\">TEM_TAMPA</th>\n",
       "      <th colspan=\"2\" halign=\"left\">INTERESTED</th>\n",
       "    </tr>\n",
       "    <tr>\n",
       "      <th></th>\n",
       "      <th></th>\n",
       "      <th>mean</th>\n",
       "      <th>std</th>\n",
       "      <th>mean</th>\n",
       "      <th>std</th>\n",
       "      <th>mean</th>\n",
       "      <th>std</th>\n",
       "      <th>mean</th>\n",
       "      <th>std</th>\n",
       "      <th>mean</th>\n",
       "      <th>std</th>\n",
       "      <th>mean</th>\n",
       "      <th>std</th>\n",
       "      <th>mean</th>\n",
       "      <th>std</th>\n",
       "      <th>mean</th>\n",
       "      <th>std</th>\n",
       "      <th>mean</th>\n",
       "      <th>std</th>\n",
       "    </tr>\n",
       "    <tr>\n",
       "      <th>MARCA</th>\n",
       "      <th>TIPO_PRODUTO</th>\n",
       "      <th></th>\n",
       "      <th></th>\n",
       "      <th></th>\n",
       "      <th></th>\n",
       "      <th></th>\n",
       "      <th></th>\n",
       "      <th></th>\n",
       "      <th></th>\n",
       "      <th></th>\n",
       "      <th></th>\n",
       "      <th></th>\n",
       "      <th></th>\n",
       "      <th></th>\n",
       "      <th></th>\n",
       "      <th></th>\n",
       "      <th></th>\n",
       "      <th></th>\n",
       "      <th></th>\n",
       "    </tr>\n",
       "  </thead>\n",
       "  <tbody>\n",
       "    <tr>\n",
       "      <th rowspan=\"2\" valign=\"top\">MTA</th>\n",
       "      <th>PAELLERA</th>\n",
       "      <td>13.0</td>\n",
       "      <td>0.0</td>\n",
       "      <td>4.2</td>\n",
       "      <td>0.0</td>\n",
       "      <td>37.5</td>\n",
       "      <td>0.0</td>\n",
       "      <td>49.15</td>\n",
       "      <td>5.04</td>\n",
       "      <td>1927.1</td>\n",
       "      <td>8.89</td>\n",
       "      <td>NaN</td>\n",
       "      <td>NaN</td>\n",
       "      <td>108.97</td>\n",
       "      <td>7.78</td>\n",
       "      <td>1.0</td>\n",
       "      <td>0.0</td>\n",
       "      <td>0.10</td>\n",
       "      <td>0.31</td>\n",
       "    </tr>\n",
       "    <tr>\n",
       "      <th>WOK</th>\n",
       "      <td>12.0</td>\n",
       "      <td>0.0</td>\n",
       "      <td>4.0</td>\n",
       "      <td>0.0</td>\n",
       "      <td>30.0</td>\n",
       "      <td>0.0</td>\n",
       "      <td>36.00</td>\n",
       "      <td>0.00</td>\n",
       "      <td>450.0</td>\n",
       "      <td>0.00</td>\n",
       "      <td>NaN</td>\n",
       "      <td>NaN</td>\n",
       "      <td>85.21</td>\n",
       "      <td>4.78</td>\n",
       "      <td>1.0</td>\n",
       "      <td>0.0</td>\n",
       "      <td>0.08</td>\n",
       "      <td>0.27</td>\n",
       "    </tr>\n",
       "    <tr>\n",
       "      <th rowspan=\"2\" valign=\"top\">TRAMONTINA</th>\n",
       "      <th>CHALEIRA</th>\n",
       "      <td>22.0</td>\n",
       "      <td>0.0</td>\n",
       "      <td>2.0</td>\n",
       "      <td>0.0</td>\n",
       "      <td>18.0</td>\n",
       "      <td>0.0</td>\n",
       "      <td>22.00</td>\n",
       "      <td>0.00</td>\n",
       "      <td>1150.0</td>\n",
       "      <td>0.00</td>\n",
       "      <td>NaN</td>\n",
       "      <td>NaN</td>\n",
       "      <td>189.19</td>\n",
       "      <td>28.69</td>\n",
       "      <td>0.0</td>\n",
       "      <td>0.0</td>\n",
       "      <td>0.08</td>\n",
       "      <td>0.27</td>\n",
       "    </tr>\n",
       "    <tr>\n",
       "      <th>FRIGIDEIRA</th>\n",
       "      <td>12.2</td>\n",
       "      <td>0.0</td>\n",
       "      <td>1.6</td>\n",
       "      <td>0.0</td>\n",
       "      <td>40.3</td>\n",
       "      <td>0.0</td>\n",
       "      <td>21.30</td>\n",
       "      <td>0.00</td>\n",
       "      <td>130.0</td>\n",
       "      <td>0.00</td>\n",
       "      <td>NaN</td>\n",
       "      <td>NaN</td>\n",
       "      <td>188.90</td>\n",
       "      <td>0.00</td>\n",
       "      <td>0.0</td>\n",
       "      <td>0.0</td>\n",
       "      <td>0.19</td>\n",
       "      <td>0.40</td>\n",
       "    </tr>\n",
       "  </tbody>\n",
       "</table>\n",
       "</div>"
      ],
      "text/plain": [
       "                        ALTURA      CAPACIDADE_(L)  ... TEM_TAMPA INTERESTED      \n",
       "                          mean  std           mean  ...       std       mean   std\n",
       "MARCA      TIPO_PRODUTO                             ...                           \n",
       "MTA        PAELLERA       13.0  0.0            4.2  ...       0.0       0.10  0.31\n",
       "           WOK            12.0  0.0            4.0  ...       0.0       0.08  0.27\n",
       "TRAMONTINA CHALEIRA       22.0  0.0            2.0  ...       0.0       0.08  0.27\n",
       "           FRIGIDEIRA     12.2  0.0            1.6  ...       0.0       0.19  0.40\n",
       "\n",
       "[4 rows x 18 columns]"
      ]
     },
     "execution_count": 140,
     "metadata": {
      "tags": []
     },
     "output_type": "execute_result"
    }
   ],
   "source": [
    "dados[dados.TEMPO_GARANTIA.isna()].drop([\"TIPO_WOK\",\"TEM_FERRO_FUNDIDO\",\"TEM_GRELHA\",\"PARA_MICRO_ONDAS\",\"PARA_LAVA_LOUCAS\"], axis=1).set_index(\n",
    "    [\"MARCA\", \"TIPO_PRODUTO\"]).groupby(level = [\"MARCA\",\"TIPO_PRODUTO\"]).aggregate([np.mean, np.std]).round(2)"
   ]
  },
  {
   "cell_type": "code",
   "execution_count": 0,
   "metadata": {
    "colab": {
     "base_uri": "https://localhost:8080/",
     "height": 238
    },
    "colab_type": "code",
    "id": "0rzDB4BVePqO",
    "outputId": "53806fca-d5e8-4fbc-d658-4ddc4db16edd"
   },
   "outputs": [
    {
     "data": {
      "text/html": [
       "<div>\n",
       "<style scoped>\n",
       "    .dataframe tbody tr th:only-of-type {\n",
       "        vertical-align: middle;\n",
       "    }\n",
       "\n",
       "    .dataframe tbody tr th {\n",
       "        vertical-align: top;\n",
       "    }\n",
       "\n",
       "    .dataframe thead tr th {\n",
       "        text-align: left;\n",
       "    }\n",
       "\n",
       "    .dataframe thead tr:last-of-type th {\n",
       "        text-align: right;\n",
       "    }\n",
       "</style>\n",
       "<table border=\"1\" class=\"dataframe\">\n",
       "  <thead>\n",
       "    <tr>\n",
       "      <th></th>\n",
       "      <th></th>\n",
       "      <th colspan=\"2\" halign=\"left\">ALTURA</th>\n",
       "      <th colspan=\"2\" halign=\"left\">CAPACIDADE_(L)</th>\n",
       "      <th colspan=\"2\" halign=\"left\">LARGURA</th>\n",
       "      <th colspan=\"2\" halign=\"left\">PROFUNDIDADE</th>\n",
       "      <th colspan=\"2\" halign=\"left\">PESO</th>\n",
       "      <th colspan=\"2\" halign=\"left\">TEMPO_GARANTIA</th>\n",
       "      <th colspan=\"2\" halign=\"left\">ITEM_PRICE</th>\n",
       "      <th colspan=\"2\" halign=\"left\">TEM_TAMPA</th>\n",
       "      <th colspan=\"2\" halign=\"left\">INTERESTED</th>\n",
       "    </tr>\n",
       "    <tr>\n",
       "      <th></th>\n",
       "      <th></th>\n",
       "      <th>mean</th>\n",
       "      <th>std</th>\n",
       "      <th>mean</th>\n",
       "      <th>std</th>\n",
       "      <th>mean</th>\n",
       "      <th>std</th>\n",
       "      <th>mean</th>\n",
       "      <th>std</th>\n",
       "      <th>mean</th>\n",
       "      <th>std</th>\n",
       "      <th>mean</th>\n",
       "      <th>std</th>\n",
       "      <th>mean</th>\n",
       "      <th>std</th>\n",
       "      <th>mean</th>\n",
       "      <th>std</th>\n",
       "      <th>mean</th>\n",
       "      <th>std</th>\n",
       "    </tr>\n",
       "    <tr>\n",
       "      <th>MARCA</th>\n",
       "      <th>TIPO_PRODUTO</th>\n",
       "      <th></th>\n",
       "      <th></th>\n",
       "      <th></th>\n",
       "      <th></th>\n",
       "      <th></th>\n",
       "      <th></th>\n",
       "      <th></th>\n",
       "      <th></th>\n",
       "      <th></th>\n",
       "      <th></th>\n",
       "      <th></th>\n",
       "      <th></th>\n",
       "      <th></th>\n",
       "      <th></th>\n",
       "      <th></th>\n",
       "      <th></th>\n",
       "      <th></th>\n",
       "      <th></th>\n",
       "    </tr>\n",
       "  </thead>\n",
       "  <tbody>\n",
       "    <tr>\n",
       "      <th rowspan=\"2\" valign=\"top\">MTA</th>\n",
       "      <th>PAELLERA</th>\n",
       "      <td>13.0</td>\n",
       "      <td>0.0</td>\n",
       "      <td>4.2</td>\n",
       "      <td>0.0</td>\n",
       "      <td>37.5</td>\n",
       "      <td>0.0</td>\n",
       "      <td>49.15</td>\n",
       "      <td>5.04</td>\n",
       "      <td>1927.1</td>\n",
       "      <td>8.89</td>\n",
       "      <td>NaN</td>\n",
       "      <td>NaN</td>\n",
       "      <td>108.97</td>\n",
       "      <td>7.78</td>\n",
       "      <td>1.0</td>\n",
       "      <td>0.0</td>\n",
       "      <td>0.10</td>\n",
       "      <td>0.31</td>\n",
       "    </tr>\n",
       "    <tr>\n",
       "      <th>WOK</th>\n",
       "      <td>12.0</td>\n",
       "      <td>0.0</td>\n",
       "      <td>4.0</td>\n",
       "      <td>0.0</td>\n",
       "      <td>30.0</td>\n",
       "      <td>0.0</td>\n",
       "      <td>36.00</td>\n",
       "      <td>0.00</td>\n",
       "      <td>450.0</td>\n",
       "      <td>0.00</td>\n",
       "      <td>NaN</td>\n",
       "      <td>NaN</td>\n",
       "      <td>85.21</td>\n",
       "      <td>4.78</td>\n",
       "      <td>1.0</td>\n",
       "      <td>0.0</td>\n",
       "      <td>0.08</td>\n",
       "      <td>0.27</td>\n",
       "    </tr>\n",
       "    <tr>\n",
       "      <th rowspan=\"2\" valign=\"top\">TRAMONTINA</th>\n",
       "      <th>CHALEIRA</th>\n",
       "      <td>22.0</td>\n",
       "      <td>0.0</td>\n",
       "      <td>2.0</td>\n",
       "      <td>0.0</td>\n",
       "      <td>18.0</td>\n",
       "      <td>0.0</td>\n",
       "      <td>22.00</td>\n",
       "      <td>0.00</td>\n",
       "      <td>1150.0</td>\n",
       "      <td>0.00</td>\n",
       "      <td>NaN</td>\n",
       "      <td>NaN</td>\n",
       "      <td>189.19</td>\n",
       "      <td>28.69</td>\n",
       "      <td>0.0</td>\n",
       "      <td>0.0</td>\n",
       "      <td>0.08</td>\n",
       "      <td>0.27</td>\n",
       "    </tr>\n",
       "    <tr>\n",
       "      <th>FRIGIDEIRA</th>\n",
       "      <td>12.2</td>\n",
       "      <td>0.0</td>\n",
       "      <td>1.6</td>\n",
       "      <td>0.0</td>\n",
       "      <td>40.3</td>\n",
       "      <td>0.0</td>\n",
       "      <td>21.30</td>\n",
       "      <td>0.00</td>\n",
       "      <td>130.0</td>\n",
       "      <td>0.00</td>\n",
       "      <td>NaN</td>\n",
       "      <td>NaN</td>\n",
       "      <td>188.90</td>\n",
       "      <td>0.00</td>\n",
       "      <td>0.0</td>\n",
       "      <td>0.0</td>\n",
       "      <td>0.19</td>\n",
       "      <td>0.40</td>\n",
       "    </tr>\n",
       "  </tbody>\n",
       "</table>\n",
       "</div>"
      ],
      "text/plain": [
       "                        ALTURA      CAPACIDADE_(L)  ... TEM_TAMPA INTERESTED      \n",
       "                          mean  std           mean  ...       std       mean   std\n",
       "MARCA      TIPO_PRODUTO                             ...                           \n",
       "MTA        PAELLERA       13.0  0.0            4.2  ...       0.0       0.10  0.31\n",
       "           WOK            12.0  0.0            4.0  ...       0.0       0.08  0.27\n",
       "TRAMONTINA CHALEIRA       22.0  0.0            2.0  ...       0.0       0.08  0.27\n",
       "           FRIGIDEIRA     12.2  0.0            1.6  ...       0.0       0.19  0.40\n",
       "\n",
       "[4 rows x 18 columns]"
      ]
     },
     "execution_count": 141,
     "metadata": {
      "tags": []
     },
     "output_type": "execute_result"
    }
   ],
   "source": [
    "# aqui conseguimos perceber que todos esses dados são unicos de suas categorias e marcas.\n",
    "list_marcas = ['TRAMONTINA','MTA']\n",
    "list_tipos = ['PAELLERA','WOK','CHALEIRA','FRIGIDEIRA']\n",
    "dados.query(f'MARCA in {list_marcas}').query(f'TIPO_PRODUTO in {list_tipos}').drop([\"TIPO_WOK\",\"TEM_FERRO_FUNDIDO\",\"TEM_GRELHA\",\"PARA_MICRO_ONDAS\",\"PARA_LAVA_LOUCAS\"], axis=1).set_index(\n",
    "    [\"MARCA\", \"TIPO_PRODUTO\"]).groupby(level = [\"MARCA\",\"TIPO_PRODUTO\"]).aggregate([np.mean, np.std]).round(2)"
   ]
  },
  {
   "cell_type": "code",
   "execution_count": 0,
   "metadata": {
    "colab": {
     "base_uri": "https://localhost:8080/",
     "height": 195
    },
    "colab_type": "code",
    "id": "j2O_t49acUl0",
    "outputId": "f4c02700-08a6-4aaf-86ab-9f7e55316e97"
   },
   "outputs": [
    {
     "data": {
      "text/html": [
       "<div>\n",
       "<style scoped>\n",
       "    .dataframe tbody tr th:only-of-type {\n",
       "        vertical-align: middle;\n",
       "    }\n",
       "\n",
       "    .dataframe tbody tr th {\n",
       "        vertical-align: top;\n",
       "    }\n",
       "\n",
       "    .dataframe thead tr th {\n",
       "        text-align: left;\n",
       "    }\n",
       "\n",
       "    .dataframe thead tr:last-of-type th {\n",
       "        text-align: right;\n",
       "    }\n",
       "</style>\n",
       "<table border=\"1\" class=\"dataframe\">\n",
       "  <thead>\n",
       "    <tr>\n",
       "      <th></th>\n",
       "      <th></th>\n",
       "      <th colspan=\"2\" halign=\"left\">ALTURA</th>\n",
       "      <th colspan=\"2\" halign=\"left\">CAPACIDADE_(L)</th>\n",
       "      <th colspan=\"2\" halign=\"left\">LARGURA</th>\n",
       "      <th colspan=\"2\" halign=\"left\">PROFUNDIDADE</th>\n",
       "      <th colspan=\"2\" halign=\"left\">PESO</th>\n",
       "      <th colspan=\"2\" halign=\"left\">ITEM_PRICE</th>\n",
       "      <th colspan=\"2\" halign=\"left\">PARA_LAVA_LOUCAS</th>\n",
       "      <th colspan=\"2\" halign=\"left\">PARA_MICRO_ONDAS</th>\n",
       "      <th colspan=\"2\" halign=\"left\">TEM_FERRO_FUNDIDO</th>\n",
       "      <th colspan=\"2\" halign=\"left\">TEM_GRELHA</th>\n",
       "      <th colspan=\"2\" halign=\"left\">TEM_TAMPA</th>\n",
       "      <th colspan=\"2\" halign=\"left\">TIPO_WOK</th>\n",
       "      <th colspan=\"2\" halign=\"left\">INTERESTED</th>\n",
       "    </tr>\n",
       "    <tr>\n",
       "      <th></th>\n",
       "      <th></th>\n",
       "      <th>mean</th>\n",
       "      <th>std</th>\n",
       "      <th>mean</th>\n",
       "      <th>std</th>\n",
       "      <th>mean</th>\n",
       "      <th>std</th>\n",
       "      <th>mean</th>\n",
       "      <th>std</th>\n",
       "      <th>mean</th>\n",
       "      <th>std</th>\n",
       "      <th>mean</th>\n",
       "      <th>std</th>\n",
       "      <th>mean</th>\n",
       "      <th>std</th>\n",
       "      <th>mean</th>\n",
       "      <th>std</th>\n",
       "      <th>mean</th>\n",
       "      <th>std</th>\n",
       "      <th>mean</th>\n",
       "      <th>std</th>\n",
       "      <th>mean</th>\n",
       "      <th>std</th>\n",
       "      <th>mean</th>\n",
       "      <th>std</th>\n",
       "      <th>mean</th>\n",
       "      <th>std</th>\n",
       "    </tr>\n",
       "    <tr>\n",
       "      <th>MARCA</th>\n",
       "      <th>TEMPO_GARANTIA</th>\n",
       "      <th></th>\n",
       "      <th></th>\n",
       "      <th></th>\n",
       "      <th></th>\n",
       "      <th></th>\n",
       "      <th></th>\n",
       "      <th></th>\n",
       "      <th></th>\n",
       "      <th></th>\n",
       "      <th></th>\n",
       "      <th></th>\n",
       "      <th></th>\n",
       "      <th></th>\n",
       "      <th></th>\n",
       "      <th></th>\n",
       "      <th></th>\n",
       "      <th></th>\n",
       "      <th></th>\n",
       "      <th></th>\n",
       "      <th></th>\n",
       "      <th></th>\n",
       "      <th></th>\n",
       "      <th></th>\n",
       "      <th></th>\n",
       "      <th></th>\n",
       "      <th></th>\n",
       "    </tr>\n",
       "  </thead>\n",
       "  <tbody>\n",
       "    <tr>\n",
       "      <th rowspan=\"2\" valign=\"top\">TRAMONTINA</th>\n",
       "      <th>12.0</th>\n",
       "      <td>43.48</td>\n",
       "      <td>7.78</td>\n",
       "      <td>4.98</td>\n",
       "      <td>0.95</td>\n",
       "      <td>35.74</td>\n",
       "      <td>5.54</td>\n",
       "      <td>28.73</td>\n",
       "      <td>14.14</td>\n",
       "      <td>144.67</td>\n",
       "      <td>92.77</td>\n",
       "      <td>109.23</td>\n",
       "      <td>23.09</td>\n",
       "      <td>0.96</td>\n",
       "      <td>0.18</td>\n",
       "      <td>0.0</td>\n",
       "      <td>0.0</td>\n",
       "      <td>0.0</td>\n",
       "      <td>0.0</td>\n",
       "      <td>0.0</td>\n",
       "      <td>0.0</td>\n",
       "      <td>0.48</td>\n",
       "      <td>0.5</td>\n",
       "      <td>0.59</td>\n",
       "      <td>0.49</td>\n",
       "      <td>0.09</td>\n",
       "      <td>0.29</td>\n",
       "    </tr>\n",
       "    <tr>\n",
       "      <th>300.0</th>\n",
       "      <td>24.66</td>\n",
       "      <td>9.31</td>\n",
       "      <td>8.31</td>\n",
       "      <td>3.96</td>\n",
       "      <td>28.47</td>\n",
       "      <td>3.73</td>\n",
       "      <td>26.70</td>\n",
       "      <td>8.38</td>\n",
       "      <td>299.81</td>\n",
       "      <td>88.48</td>\n",
       "      <td>271.54</td>\n",
       "      <td>76.98</td>\n",
       "      <td>0.00</td>\n",
       "      <td>0.00</td>\n",
       "      <td>0.0</td>\n",
       "      <td>0.0</td>\n",
       "      <td>0.0</td>\n",
       "      <td>0.0</td>\n",
       "      <td>0.0</td>\n",
       "      <td>0.0</td>\n",
       "      <td>0.00</td>\n",
       "      <td>0.0</td>\n",
       "      <td>0.00</td>\n",
       "      <td>0.00</td>\n",
       "      <td>0.10</td>\n",
       "      <td>0.29</td>\n",
       "    </tr>\n",
       "  </tbody>\n",
       "</table>\n",
       "</div>"
      ],
      "text/plain": [
       "                          ALTURA       CAPACIDADE_(L)  ... TIPO_WOK INTERESTED      \n",
       "                            mean   std           mean  ...      std       mean   std\n",
       "MARCA      TEMPO_GARANTIA                              ...                          \n",
       "TRAMONTINA 12.0            43.48  7.78           4.98  ...     0.49       0.09  0.29\n",
       "           300.0           24.66  9.31           8.31  ...     0.00       0.10  0.29\n",
       "\n",
       "[2 rows x 26 columns]"
      ]
     },
     "execution_count": 142,
     "metadata": {
      "tags": []
     },
     "output_type": "execute_result"
    }
   ],
   "source": [
    "dados.query(f'MARCA in {list_marcas}').set_index([\"MARCA\", \"TEMPO_GARANTIA\"]).groupby(level = [\"MARCA\",\"TEMPO_GARANTIA\"]).aggregate([np.mean, np.std]).round(2)"
   ]
  },
  {
   "cell_type": "markdown",
   "metadata": {
    "colab_type": "text",
    "id": "KPIE8b-yhxng"
   },
   "source": [
    "MTA não possui uma garantia definida para nenhum de seus produtos, e os da tramontina acabariam sendo enviezados, pois seriam alocados em alguma categoria. Mais uma vez esses dados estão melhores descartados"
   ]
  },
  {
   "cell_type": "code",
   "execution_count": 0,
   "metadata": {
    "colab": {},
    "colab_type": "code",
    "id": "O5Jk_fQzhS6A"
   },
   "outputs": [],
   "source": [
    "dados = dados[~dados.TEMPO_GARANTIA.isna()]"
   ]
  },
  {
   "cell_type": "code",
   "execution_count": 0,
   "metadata": {
    "colab": {
     "base_uri": "https://localhost:8080/",
     "height": 156
    },
    "colab_type": "code",
    "id": "akmhT81FiK74",
    "outputId": "70d8ea1b-8e6e-439d-97b3-b8dd35f1892c"
   },
   "outputs": [
    {
     "name": "stdout",
     "output_type": "stream",
     "text": [
      "Proporção de valores nan por coluna do dataset: \n",
      "\n"
     ]
    },
    {
     "data": {
      "text/plain": [
       "COR                 0.019542\n",
       "PARA_LAVA_LOUCAS    0.000096\n",
       "INTERESTED          0.000000\n",
       "PROFUNDIDADE        0.000000\n",
       "FORMATO             0.000000\n",
       "dtype: float64"
      ]
     },
     "execution_count": 144,
     "metadata": {
      "tags": []
     },
     "output_type": "execute_result"
    }
   ],
   "source": [
    "prop_missing()[0:5]"
   ]
  },
  {
   "cell_type": "markdown",
   "metadata": {
    "colab_type": "text",
    "id": "6WYlFFs9iate"
   },
   "source": [
    "### Finalização da filtragem"
   ]
  },
  {
   "cell_type": "code",
   "execution_count": 0,
   "metadata": {
    "colab": {
     "base_uri": "https://localhost:8080/",
     "height": 69
    },
    "colab_type": "code",
    "id": "bj83u0o-iUjr",
    "outputId": "ab07552a-488c-4704-b8ac-aa5bd73a561f"
   },
   "outputs": [
    {
     "data": {
      "text/plain": [
       "ROCHEDO           1626\n",
       "ALUMINIO RAMOS       7\n",
       "Name: MARCA, dtype: int64"
      ]
     },
     "execution_count": 145,
     "metadata": {
      "tags": []
     },
     "output_type": "execute_result"
    }
   ],
   "source": [
    "dados[dados.COR.isna()].MARCA.value_counts()"
   ]
  },
  {
   "cell_type": "code",
   "execution_count": 0,
   "metadata": {
    "colab": {
     "base_uri": "https://localhost:8080/",
     "height": 52
    },
    "colab_type": "code",
    "id": "uIh1StewihAz",
    "outputId": "bcd892fc-24aa-471f-b75f-31ba5e1db7af"
   },
   "outputs": [
    {
     "data": {
      "text/plain": [
       "ROCHEDO    1626\n",
       "Name: MARCA, dtype: int64"
      ]
     },
     "execution_count": 146,
     "metadata": {
      "tags": []
     },
     "output_type": "execute_result"
    }
   ],
   "source": [
    "# todos os produtos desta marca não apresentam cor definida. \n",
    "# Impossivel preencher esses dados\n",
    "dados.query(\"MARCA == 'ROCHEDO'\").MARCA.value_counts()"
   ]
  },
  {
   "cell_type": "code",
   "execution_count": 0,
   "metadata": {
    "colab": {},
    "colab_type": "code",
    "id": "ah5yC_V4i1wj"
   },
   "outputs": [],
   "source": [
    "dados = dados[~dados.COR.isna()]"
   ]
  },
  {
   "cell_type": "code",
   "execution_count": 0,
   "metadata": {
    "colab": {
     "base_uri": "https://localhost:8080/",
     "height": 156
    },
    "colab_type": "code",
    "id": "BlZ3ET1tjZvl",
    "outputId": "23df34c8-bf43-42a1-b7ab-73f806bb4649"
   },
   "outputs": [
    {
     "name": "stdout",
     "output_type": "stream",
     "text": [
      "Proporção de valores nan por coluna do dataset: \n",
      "\n"
     ]
    },
    {
     "data": {
      "text/plain": [
       "PARA_LAVA_LOUCAS    0.000096\n",
       "INTERESTED          0.000000\n",
       "PROFUNDIDADE        0.000000\n",
       "COR                 0.000000\n",
       "FORMATO             0.000000\n",
       "dtype: float64"
      ]
     },
     "execution_count": 148,
     "metadata": {
      "tags": []
     },
     "output_type": "execute_result"
    }
   ],
   "source": [
    "prop_missing()[0:5]"
   ]
  },
  {
   "cell_type": "code",
   "execution_count": 0,
   "metadata": {
    "colab": {
     "base_uri": "https://localhost:8080/",
     "height": 52
    },
    "colab_type": "code",
    "id": "NWKoxXzHjhz9",
    "outputId": "c94181be-ca61-454d-a7e2-471b12f4b923"
   },
   "outputs": [
    {
     "data": {
      "text/plain": [
       "GRILL    8\n",
       "Name: TIPO_PRODUTO, dtype: int64"
      ]
     },
     "execution_count": 149,
     "metadata": {
      "tags": []
     },
     "output_type": "execute_result"
    }
   ],
   "source": [
    "dados[dados.PARA_LAVA_LOUCAS.isna()].TIPO_PRODUTO.value_counts()"
   ]
  },
  {
   "cell_type": "code",
   "execution_count": 0,
   "metadata": {
    "colab": {
     "base_uri": "https://localhost:8080/",
     "height": 444
    },
    "colab_type": "code",
    "id": "z9Aid9-IjsR1",
    "outputId": "0cbfab29-a2ec-496c-fc57-409d4eb42180"
   },
   "outputs": [
    {
     "data": {
      "text/html": [
       "<div>\n",
       "<style scoped>\n",
       "    .dataframe tbody tr th:only-of-type {\n",
       "        vertical-align: middle;\n",
       "    }\n",
       "\n",
       "    .dataframe tbody tr th {\n",
       "        vertical-align: top;\n",
       "    }\n",
       "\n",
       "    .dataframe thead th {\n",
       "        text-align: right;\n",
       "    }\n",
       "</style>\n",
       "<table border=\"1\" class=\"dataframe\">\n",
       "  <thead>\n",
       "    <tr style=\"text-align: right;\">\n",
       "      <th></th>\n",
       "      <th>COMPOSICAO</th>\n",
       "      <th>COR</th>\n",
       "      <th>FORMATO</th>\n",
       "      <th>MARCA</th>\n",
       "      <th>TIPO_PRODUTO</th>\n",
       "      <th>ALTURA</th>\n",
       "      <th>CAPACIDADE_(L)</th>\n",
       "      <th>LARGURA</th>\n",
       "      <th>PROFUNDIDADE</th>\n",
       "      <th>PESO</th>\n",
       "      <th>TEMPO_GARANTIA</th>\n",
       "      <th>ITEM_PRICE</th>\n",
       "      <th>PARA_LAVA_LOUCAS</th>\n",
       "      <th>PARA_MICRO_ONDAS</th>\n",
       "      <th>TEM_FERRO_FUNDIDO</th>\n",
       "      <th>TEM_GRELHA</th>\n",
       "      <th>TEM_TAMPA</th>\n",
       "      <th>TIPO_WOK</th>\n",
       "      <th>INTERESTED</th>\n",
       "    </tr>\n",
       "  </thead>\n",
       "  <tbody>\n",
       "    <tr>\n",
       "      <th>3</th>\n",
       "      <td>ALUMINIO</td>\n",
       "      <td>VERMELHO</td>\n",
       "      <td>REDONDO</td>\n",
       "      <td>TRAMONTINA</td>\n",
       "      <td>PIPOQUEIRA</td>\n",
       "      <td>49.5</td>\n",
       "      <td>6.0</td>\n",
       "      <td>41.5</td>\n",
       "      <td>47.0</td>\n",
       "      <td>120.000</td>\n",
       "      <td>12.0</td>\n",
       "      <td>103.29</td>\n",
       "      <td>1.0</td>\n",
       "      <td>0.0</td>\n",
       "      <td>0.0</td>\n",
       "      <td>0.0</td>\n",
       "      <td>1.0</td>\n",
       "      <td>0.0</td>\n",
       "      <td>1.0</td>\n",
       "    </tr>\n",
       "    <tr>\n",
       "      <th>4</th>\n",
       "      <td>ALUMINIO</td>\n",
       "      <td>VERMELHO</td>\n",
       "      <td>REDONDO</td>\n",
       "      <td>TRAMONTINA</td>\n",
       "      <td>PIPOQUEIRA</td>\n",
       "      <td>49.5</td>\n",
       "      <td>6.0</td>\n",
       "      <td>41.5</td>\n",
       "      <td>47.0</td>\n",
       "      <td>120.000</td>\n",
       "      <td>12.0</td>\n",
       "      <td>103.33</td>\n",
       "      <td>1.0</td>\n",
       "      <td>0.0</td>\n",
       "      <td>0.0</td>\n",
       "      <td>0.0</td>\n",
       "      <td>1.0</td>\n",
       "      <td>0.0</td>\n",
       "      <td>0.0</td>\n",
       "    </tr>\n",
       "    <tr>\n",
       "      <th>9</th>\n",
       "      <td>ALUMINIO</td>\n",
       "      <td>CEREJA</td>\n",
       "      <td>REDONDO</td>\n",
       "      <td>TRAMONTINA</td>\n",
       "      <td>PANELA</td>\n",
       "      <td>42.7</td>\n",
       "      <td>4.5</td>\n",
       "      <td>32.7</td>\n",
       "      <td>18.1</td>\n",
       "      <td>160.000</td>\n",
       "      <td>12.0</td>\n",
       "      <td>89.90</td>\n",
       "      <td>1.0</td>\n",
       "      <td>0.0</td>\n",
       "      <td>0.0</td>\n",
       "      <td>0.0</td>\n",
       "      <td>0.0</td>\n",
       "      <td>1.0</td>\n",
       "      <td>1.0</td>\n",
       "    </tr>\n",
       "    <tr>\n",
       "      <th>11</th>\n",
       "      <td>ALUMINIO</td>\n",
       "      <td>PRETO</td>\n",
       "      <td>REDONDO</td>\n",
       "      <td>TRAMONTINA</td>\n",
       "      <td>PANELA</td>\n",
       "      <td>32.0</td>\n",
       "      <td>4.5</td>\n",
       "      <td>32.0</td>\n",
       "      <td>15.0</td>\n",
       "      <td>20.000</td>\n",
       "      <td>12.0</td>\n",
       "      <td>133.11</td>\n",
       "      <td>1.0</td>\n",
       "      <td>0.0</td>\n",
       "      <td>0.0</td>\n",
       "      <td>0.0</td>\n",
       "      <td>1.0</td>\n",
       "      <td>1.0</td>\n",
       "      <td>0.0</td>\n",
       "    </tr>\n",
       "    <tr>\n",
       "      <th>14</th>\n",
       "      <td>ALUMINIO</td>\n",
       "      <td>VERMELHO</td>\n",
       "      <td>REDONDO</td>\n",
       "      <td>TRAMONTINA</td>\n",
       "      <td>PIPOQUEIRA</td>\n",
       "      <td>49.5</td>\n",
       "      <td>6.0</td>\n",
       "      <td>41.5</td>\n",
       "      <td>47.0</td>\n",
       "      <td>120.000</td>\n",
       "      <td>12.0</td>\n",
       "      <td>105.50</td>\n",
       "      <td>1.0</td>\n",
       "      <td>0.0</td>\n",
       "      <td>0.0</td>\n",
       "      <td>0.0</td>\n",
       "      <td>1.0</td>\n",
       "      <td>0.0</td>\n",
       "      <td>0.0</td>\n",
       "    </tr>\n",
       "    <tr>\n",
       "      <th>...</th>\n",
       "      <td>...</td>\n",
       "      <td>...</td>\n",
       "      <td>...</td>\n",
       "      <td>...</td>\n",
       "      <td>...</td>\n",
       "      <td>...</td>\n",
       "      <td>...</td>\n",
       "      <td>...</td>\n",
       "      <td>...</td>\n",
       "      <td>...</td>\n",
       "      <td>...</td>\n",
       "      <td>...</td>\n",
       "      <td>...</td>\n",
       "      <td>...</td>\n",
       "      <td>...</td>\n",
       "      <td>...</td>\n",
       "      <td>...</td>\n",
       "      <td>...</td>\n",
       "      <td>...</td>\n",
       "    </tr>\n",
       "    <tr>\n",
       "      <th>180262</th>\n",
       "      <td>ALUMINIO</td>\n",
       "      <td>PRETO</td>\n",
       "      <td>REDONDO</td>\n",
       "      <td>TRAMONTINA</td>\n",
       "      <td>PANELA</td>\n",
       "      <td>32.0</td>\n",
       "      <td>4.5</td>\n",
       "      <td>32.0</td>\n",
       "      <td>15.0</td>\n",
       "      <td>20.000</td>\n",
       "      <td>12.0</td>\n",
       "      <td>180.16</td>\n",
       "      <td>1.0</td>\n",
       "      <td>0.0</td>\n",
       "      <td>0.0</td>\n",
       "      <td>0.0</td>\n",
       "      <td>1.0</td>\n",
       "      <td>1.0</td>\n",
       "      <td>0.0</td>\n",
       "    </tr>\n",
       "    <tr>\n",
       "      <th>180265</th>\n",
       "      <td>ALUMINIO</td>\n",
       "      <td>PRETO</td>\n",
       "      <td>REDONDO</td>\n",
       "      <td>PANELUX</td>\n",
       "      <td>ESPAGUETEIRA</td>\n",
       "      <td>18.5</td>\n",
       "      <td>4.0</td>\n",
       "      <td>21.5</td>\n",
       "      <td>26.0</td>\n",
       "      <td>0.619</td>\n",
       "      <td>6.0</td>\n",
       "      <td>36.46</td>\n",
       "      <td>1.0</td>\n",
       "      <td>1.0</td>\n",
       "      <td>0.0</td>\n",
       "      <td>0.0</td>\n",
       "      <td>1.0</td>\n",
       "      <td>0.0</td>\n",
       "      <td>0.0</td>\n",
       "    </tr>\n",
       "    <tr>\n",
       "      <th>180267</th>\n",
       "      <td>ALUMINIO</td>\n",
       "      <td>VERMELHO</td>\n",
       "      <td>REDONDO</td>\n",
       "      <td>TRAMONTINA</td>\n",
       "      <td>PIPOQUEIRA</td>\n",
       "      <td>49.5</td>\n",
       "      <td>6.0</td>\n",
       "      <td>41.5</td>\n",
       "      <td>47.0</td>\n",
       "      <td>120.000</td>\n",
       "      <td>12.0</td>\n",
       "      <td>115.40</td>\n",
       "      <td>1.0</td>\n",
       "      <td>0.0</td>\n",
       "      <td>0.0</td>\n",
       "      <td>0.0</td>\n",
       "      <td>1.0</td>\n",
       "      <td>0.0</td>\n",
       "      <td>0.0</td>\n",
       "    </tr>\n",
       "    <tr>\n",
       "      <th>180268</th>\n",
       "      <td>ALUMINIO</td>\n",
       "      <td>PRETO</td>\n",
       "      <td>REDONDO</td>\n",
       "      <td>TRAMONTINA</td>\n",
       "      <td>PANELA</td>\n",
       "      <td>32.0</td>\n",
       "      <td>4.5</td>\n",
       "      <td>32.0</td>\n",
       "      <td>15.0</td>\n",
       "      <td>20.000</td>\n",
       "      <td>12.0</td>\n",
       "      <td>160.56</td>\n",
       "      <td>1.0</td>\n",
       "      <td>0.0</td>\n",
       "      <td>0.0</td>\n",
       "      <td>0.0</td>\n",
       "      <td>1.0</td>\n",
       "      <td>1.0</td>\n",
       "      <td>0.0</td>\n",
       "    </tr>\n",
       "    <tr>\n",
       "      <th>180273</th>\n",
       "      <td>ALUMINIO</td>\n",
       "      <td>VERMELHO</td>\n",
       "      <td>REDONDO</td>\n",
       "      <td>TRAMONTINA</td>\n",
       "      <td>PIPOQUEIRA</td>\n",
       "      <td>49.5</td>\n",
       "      <td>6.0</td>\n",
       "      <td>41.5</td>\n",
       "      <td>47.0</td>\n",
       "      <td>120.000</td>\n",
       "      <td>12.0</td>\n",
       "      <td>105.12</td>\n",
       "      <td>1.0</td>\n",
       "      <td>0.0</td>\n",
       "      <td>0.0</td>\n",
       "      <td>0.0</td>\n",
       "      <td>1.0</td>\n",
       "      <td>0.0</td>\n",
       "      <td>0.0</td>\n",
       "    </tr>\n",
       "  </tbody>\n",
       "</table>\n",
       "<p>58794 rows × 19 columns</p>\n",
       "</div>"
      ],
      "text/plain": [
       "       COMPOSICAO       COR  FORMATO  ... TEM_TAMPA TIPO_WOK  INTERESTED\n",
       "3        ALUMINIO  VERMELHO  REDONDO  ...       1.0      0.0         1.0\n",
       "4        ALUMINIO  VERMELHO  REDONDO  ...       1.0      0.0         0.0\n",
       "9        ALUMINIO    CEREJA  REDONDO  ...       0.0      1.0         1.0\n",
       "11       ALUMINIO     PRETO  REDONDO  ...       1.0      1.0         0.0\n",
       "14       ALUMINIO  VERMELHO  REDONDO  ...       1.0      0.0         0.0\n",
       "...           ...       ...      ...  ...       ...      ...         ...\n",
       "180262   ALUMINIO     PRETO  REDONDO  ...       1.0      1.0         0.0\n",
       "180265   ALUMINIO     PRETO  REDONDO  ...       1.0      0.0         0.0\n",
       "180267   ALUMINIO  VERMELHO  REDONDO  ...       1.0      0.0         0.0\n",
       "180268   ALUMINIO     PRETO  REDONDO  ...       1.0      1.0         0.0\n",
       "180273   ALUMINIO  VERMELHO  REDONDO  ...       1.0      0.0         0.0\n",
       "\n",
       "[58794 rows x 19 columns]"
      ]
     },
     "execution_count": 150,
     "metadata": {
      "tags": []
     },
     "output_type": "execute_result"
    }
   ],
   "source": [
    "# devido a variedade de tipos de grill, e sua não especificação\n",
    "# é interessante desconsiderar estes dados\n",
    "dados = dados[~dados.PARA_LAVA_LOUCAS.isna()]; dados"
   ]
  },
  {
   "cell_type": "markdown",
   "metadata": {
    "colab_type": "text",
    "id": "sco9EhVLkTi2"
   },
   "source": [
    "Ainda temos um dataset bastante grande para poder trabalhar."
   ]
  },
  {
   "cell_type": "code",
   "execution_count": 0,
   "metadata": {
    "colab": {
     "base_uri": "https://localhost:8080/",
     "height": 399
    },
    "colab_type": "code",
    "id": "t8xSnbrIkJQ2",
    "outputId": "56ad7c7c-8f03-4867-9809-6da9b595282a"
   },
   "outputs": [
    {
     "name": "stdout",
     "output_type": "stream",
     "text": [
      "Proporção de valores nan por coluna do dataset: \n",
      "\n"
     ]
    },
    {
     "data": {
      "text/plain": [
       "INTERESTED           0.0\n",
       "PROFUNDIDADE         0.0\n",
       "COR                  0.0\n",
       "FORMATO              0.0\n",
       "MARCA                0.0\n",
       "TIPO_PRODUTO         0.0\n",
       "ALTURA               0.0\n",
       "CAPACIDADE_(L)       0.0\n",
       "LARGURA              0.0\n",
       "PESO                 0.0\n",
       "TIPO_WOK             0.0\n",
       "TEMPO_GARANTIA       0.0\n",
       "ITEM_PRICE           0.0\n",
       "PARA_LAVA_LOUCAS     0.0\n",
       "PARA_MICRO_ONDAS     0.0\n",
       "TEM_FERRO_FUNDIDO    0.0\n",
       "TEM_GRELHA           0.0\n",
       "TEM_TAMPA            0.0\n",
       "COMPOSICAO           0.0\n",
       "dtype: float64"
      ]
     },
     "execution_count": 151,
     "metadata": {
      "tags": []
     },
     "output_type": "execute_result"
    }
   ],
   "source": [
    "prop_missing()"
   ]
  },
  {
   "cell_type": "markdown",
   "metadata": {
    "colab_type": "text",
    "id": "f5Dj96AFR_4F"
   },
   "source": [
    "## Modelagem Preditiva"
   ]
  },
  {
   "cell_type": "markdown",
   "metadata": {
    "colab_type": "text",
    "id": "f1ruAT_cBmcJ"
   },
   "source": [
    "### Transformando variáveis categóricas em boleanas (dummies) e agregação"
   ]
  },
  {
   "cell_type": "markdown",
   "metadata": {
    "colab_type": "text",
    "id": "fYL0dXfbDULe"
   },
   "source": [
    "Como grande parte dos modelos preditivos tradicionais não pode ser preenchidas com variáveis categóricas, é necessário transforma-las em valores númericos."
   ]
  },
  {
   "cell_type": "code",
   "execution_count": 0,
   "metadata": {
    "colab": {
     "base_uri": "https://localhost:8080/",
     "height": 118
    },
    "colab_type": "code",
    "id": "Tn51tTNztA3C",
    "outputId": "daedbf54-a117-4628-d46e-b35bcfd565cf"
   },
   "outputs": [
    {
     "data": {
      "text/html": [
       "<div>\n",
       "<style scoped>\n",
       "    .dataframe tbody tr th:only-of-type {\n",
       "        vertical-align: middle;\n",
       "    }\n",
       "\n",
       "    .dataframe tbody tr th {\n",
       "        vertical-align: top;\n",
       "    }\n",
       "\n",
       "    .dataframe thead th {\n",
       "        text-align: right;\n",
       "    }\n",
       "</style>\n",
       "<table border=\"1\" class=\"dataframe\">\n",
       "  <thead>\n",
       "    <tr style=\"text-align: right;\">\n",
       "      <th></th>\n",
       "      <th>ALTURA</th>\n",
       "      <th>CAPACIDADE_(L)</th>\n",
       "      <th>LARGURA</th>\n",
       "      <th>PROFUNDIDADE</th>\n",
       "      <th>PESO</th>\n",
       "      <th>TEMPO_GARANTIA</th>\n",
       "      <th>ITEM_PRICE</th>\n",
       "      <th>PARA_LAVA_LOUCAS</th>\n",
       "      <th>PARA_MICRO_ONDAS</th>\n",
       "      <th>TEM_FERRO_FUNDIDO</th>\n",
       "      <th>TEM_GRELHA</th>\n",
       "      <th>TEM_TAMPA</th>\n",
       "      <th>TIPO_WOK</th>\n",
       "      <th>ACO ESMALTADO</th>\n",
       "      <th>ALUMINIO</th>\n",
       "      <th>CERAMICA</th>\n",
       "      <th>INOX</th>\n",
       "      <th>AMARELO</th>\n",
       "      <th>BRANCO</th>\n",
       "      <th>CEREJA</th>\n",
       "      <th>CHOCOLATE</th>\n",
       "      <th>COLORIDO</th>\n",
       "      <th>GRAFITE</th>\n",
       "      <th>INOX</th>\n",
       "      <th>LARANJA</th>\n",
       "      <th>PRATA</th>\n",
       "      <th>PRETO</th>\n",
       "      <th>ROSA</th>\n",
       "      <th>VERDE</th>\n",
       "      <th>VERMELHO</th>\n",
       "      <th>OUTROS</th>\n",
       "      <th>REDONDO</th>\n",
       "      <th>BIALETTI</th>\n",
       "      <th>BR HOME</th>\n",
       "      <th>CERAFLAME</th>\n",
       "      <th>EURO HOME</th>\n",
       "      <th>FORMA</th>\n",
       "      <th>HERCULES</th>\n",
       "      <th>JOMAFE</th>\n",
       "      <th>LA CUISINE</th>\n",
       "      <th>MIMO STYLE</th>\n",
       "      <th>OXFORD COOKWARE</th>\n",
       "      <th>PANELUX</th>\n",
       "      <th>PRAVAS</th>\n",
       "      <th>TRAMONTINA</th>\n",
       "      <th>BULE</th>\n",
       "      <th>CACAROLA</th>\n",
       "      <th>CALDEIRAO</th>\n",
       "      <th>CHALEIRA</th>\n",
       "      <th>COZI-VAPORE</th>\n",
       "      <th>ESPAGUETEIRA</th>\n",
       "      <th>FRIGIDEIRA</th>\n",
       "      <th>LEITEIRA</th>\n",
       "      <th>PANELA</th>\n",
       "      <th>PIPOQUEIRA</th>\n",
       "    </tr>\n",
       "  </thead>\n",
       "  <tbody>\n",
       "    <tr>\n",
       "      <th>3</th>\n",
       "      <td>49.5</td>\n",
       "      <td>6.0</td>\n",
       "      <td>41.5</td>\n",
       "      <td>47.0</td>\n",
       "      <td>120.0</td>\n",
       "      <td>12.0</td>\n",
       "      <td>103.29</td>\n",
       "      <td>1.0</td>\n",
       "      <td>0.0</td>\n",
       "      <td>0.0</td>\n",
       "      <td>0.0</td>\n",
       "      <td>1.0</td>\n",
       "      <td>0.0</td>\n",
       "      <td>0</td>\n",
       "      <td>1</td>\n",
       "      <td>0</td>\n",
       "      <td>0</td>\n",
       "      <td>0</td>\n",
       "      <td>0</td>\n",
       "      <td>0</td>\n",
       "      <td>0</td>\n",
       "      <td>0</td>\n",
       "      <td>0</td>\n",
       "      <td>0</td>\n",
       "      <td>0</td>\n",
       "      <td>0</td>\n",
       "      <td>0</td>\n",
       "      <td>0</td>\n",
       "      <td>0</td>\n",
       "      <td>1</td>\n",
       "      <td>0</td>\n",
       "      <td>1</td>\n",
       "      <td>0</td>\n",
       "      <td>0</td>\n",
       "      <td>0</td>\n",
       "      <td>0</td>\n",
       "      <td>0</td>\n",
       "      <td>0</td>\n",
       "      <td>0</td>\n",
       "      <td>0</td>\n",
       "      <td>0</td>\n",
       "      <td>0</td>\n",
       "      <td>0</td>\n",
       "      <td>0</td>\n",
       "      <td>1</td>\n",
       "      <td>0</td>\n",
       "      <td>0</td>\n",
       "      <td>0</td>\n",
       "      <td>0</td>\n",
       "      <td>0</td>\n",
       "      <td>0</td>\n",
       "      <td>0</td>\n",
       "      <td>0</td>\n",
       "      <td>0</td>\n",
       "      <td>1</td>\n",
       "    </tr>\n",
       "  </tbody>\n",
       "</table>\n",
       "</div>"
      ],
      "text/plain": [
       "   ALTURA  CAPACIDADE_(L)  LARGURA  ...  LEITEIRA  PANELA  PIPOQUEIRA\n",
       "3    49.5             6.0     41.5  ...         0       0           1\n",
       "\n",
       "[1 rows x 55 columns]"
      ]
     },
     "execution_count": 152,
     "metadata": {
      "tags": []
     },
     "output_type": "execute_result"
    }
   ],
   "source": [
    "def dummyfyer(dados_x):\n",
    "  dummycols = [\"COMPOSICAO\", \"COR\", \"FORMATO\", \"MARCA\", \"TIPO_PRODUTO\"]\n",
    "  dumm_composicao = dados_x[dummycols[0]].str.get_dummies()\n",
    "  dumm_cor = dados_x[dummycols[1]].str.get_dummies()\n",
    "  dumm_formato = dados_x[dummycols[2]].str.get_dummies()\n",
    "  dumm_marca = dados_x[dummycols[3]].str.get_dummies()\n",
    "  dumm_tipo = dados_x[dummycols[4]].str.get_dummies()\n",
    "  return pd.concat([dados_x, dumm_composicao, dumm_cor, dumm_formato,dumm_marca,dumm_tipo], axis=1).drop(\n",
    "      columns=dummycols).drop(columns=\"INTERESTED\"), dados_x.INTERESTED\n",
    "\n",
    "x_dados2, y_dados2 = dummyfyer(dados); x_dados2.head(1)"
   ]
  },
  {
   "cell_type": "markdown",
   "metadata": {
    "colab_type": "text",
    "id": "GllyZRuAq3Wt"
   },
   "source": [
    "## Modelagem"
   ]
  },
  {
   "cell_type": "markdown",
   "metadata": {
    "colab_type": "text",
    "id": "k4UIvFmbSLxt"
   },
   "source": [
    "Optei por deixar aqui apenas o modelo preditivo com o qual obtive uma maior acurácia na previsão de dados, o Random Forest."
   ]
  },
  {
   "cell_type": "code",
   "execution_count": 0,
   "metadata": {
    "colab": {
     "base_uri": "https://localhost:8080/",
     "height": 34
    },
    "colab_type": "code",
    "id": "EWnxZ4fEkbwH",
    "outputId": "6c726d2e-e2c2-473a-84d3-f3e7d734d371"
   },
   "outputs": [
    {
     "name": "stdout",
     "output_type": "stream",
     "text": [
      "Resultado da classificação 93.78%\n"
     ]
    }
   ],
   "source": [
    "from sklearn.model_selection import train_test_split\n",
    "from sklearn.ensemble import RandomForestClassifier\n",
    "\n",
    "x = x_dados2\n",
    "y = y_dados2\n",
    "\n",
    "treino_x, teste_x, treino_y, teste_y = train_test_split(x, y, test_size = 0.3)\n",
    "\n",
    "modelo = RandomForestClassifier(n_estimators = 1000)\n",
    "modelo.fit(treino_x, treino_y)\n",
    "print(\"Resultado da classificação %.2f%%\" %(modelo.score(teste_x,teste_y)*100))"
   ]
  },
  {
   "cell_type": "code",
   "execution_count": 0,
   "metadata": {
    "colab": {
     "base_uri": "https://localhost:8080/",
     "height": 52
    },
    "colab_type": "code",
    "id": "eCb7ZURld5fF",
    "outputId": "b37ef556-b2db-4958-f657-93e8710df43d"
   },
   "outputs": [
    {
     "name": "stdout",
     "output_type": "stream",
     "text": [
      "predict:  [0.]\n",
      "RESULTADO: [0.]\n"
     ]
    }
   ],
   "source": [
    "sample_test = x.sample()\n",
    "print(\"predict: \", modelo.predict(sample_test))\n",
    "print(\"RESULTADO:\", dados.loc[sample_test.index].INTERESTED.values)"
   ]
  },
  {
   "cell_type": "markdown",
   "metadata": {
    "colab_type": "text",
    "id": "FFAmEVZqWPjW"
   },
   "source": [
    "### Simulador Simples"
   ]
  },
  {
   "cell_type": "markdown",
   "metadata": {
    "colab_type": "text",
    "id": "RN2VXnTkgzOT"
   },
   "source": [
    "Para utilizar é só alterar os valores das variáveis no código, tomando cuidado com o formato e formatação. É possivel fazê-lo no programa, mas não vem ao caso para a previsão simplificada que pretendo fazer:"
   ]
  },
  {
   "cell_type": "code",
   "execution_count": 0,
   "metadata": {
    "colab": {
     "base_uri": "https://localhost:8080/",
     "height": 52
    },
    "colab_type": "code",
    "id": "uoO5PHq1WWDe",
    "outputId": "5dfbcdb0-11e8-42d0-e8ae-d727537b2b58"
   },
   "outputs": [
    {
     "name": "stdout",
     "output_type": "stream",
     "text": [
      "Segundo a nossa previsão, este produto é:\n",
      "não interessante\n"
     ]
    }
   ],
   "source": [
    "def preditor():\n",
    "  dfx = x_dados2.sample()\n",
    "\n",
    "  dfz = pd.DataFrame(0, index=np.arange(1), columns=x_dados2.sample().columns)\n",
    "\n",
    "  # Essas são colunas que foram transformadas em dummies\n",
    "  COLUNAS = [\n",
    "   \"ALUMINIO\", # COMPOSICAO\n",
    "   \"CHOCOLATE\", # COR\n",
    "   \"REDONDO\", # FORMATO\n",
    "   \"HERCULES\", # MARCA\n",
    "   \"PANELA\"] # TIPO_PRODUTO\n",
    "  for item in list(dfz.columns):  # Aqui é feita a verificação e marcação\n",
    "    if item in COLUNAS: \n",
    "      dfz[item] = 1.0\n",
    "  \n",
    "  dfz[\"ALTURA\"] = float(40.0)\n",
    "  dfz[\"CAPACIDADE_(L)\"] = float(3.0)\n",
    "  dfz[\"LARGURA\"] = float(25.0)\n",
    "  dfz[\"PROFUNDIDADE\"] = float(65.0)\n",
    "  dfz[\"PESO\"] = float(60.0)\n",
    "  dfz[\"TEMPO_GARANTIA\"] = float(12.0)\n",
    "  dfz[\"ITEM_PRICE\"] = float(70.0)\n",
    "  dfz[\"PARA_LAVA_LOUCAS\"] = float(1.0)\n",
    "  dfz[\"PARA_MICRO_ONDAS\"] = float(0.0)\n",
    "  dfz[\"TEM_FERRO_FUNDIDO\"] = float(1.0)\n",
    "  dfz[\"TEM_GRELHA\"] = float(0.0)\n",
    "  dfz[\"TEM_TAMPA\"] = float(1.0)\n",
    "  dfz[\"TIPO_WOK\"] = float(0.0)\n",
    "\n",
    "  dicionario = {0.0: \"não interessante\", 1.0: \"interessante\"}\n",
    "  print(\"Segundo a nossa previsão, este produto é:\\n\"+dicionario[modelo.predict(dfz)[0]])\n",
    "\n",
    "preditor()"
   ]
  },
  {
   "cell_type": "markdown",
   "metadata": {
    "colab_type": "text",
    "id": "mSk7OxDRnPff"
   },
   "source": [
    "### Atributos que mais impulsionam o interesse do cliente"
   ]
  },
  {
   "cell_type": "code",
   "execution_count": 0,
   "metadata": {
    "colab": {
     "base_uri": "https://localhost:8080/",
     "height": 520
    },
    "colab_type": "code",
    "id": "WfseMFk8JfJG",
    "outputId": "80fdf850-27b9-43b2-b36a-e27600b2beb2"
   },
   "outputs": [
    {
     "data": {
      "text/html": [
       "<div>\n",
       "<style scoped>\n",
       "    .dataframe tbody tr th:only-of-type {\n",
       "        vertical-align: middle;\n",
       "    }\n",
       "\n",
       "    .dataframe tbody tr th {\n",
       "        vertical-align: top;\n",
       "    }\n",
       "\n",
       "    .dataframe thead th {\n",
       "        text-align: right;\n",
       "    }\n",
       "</style>\n",
       "<table border=\"1\" class=\"dataframe\">\n",
       "  <thead>\n",
       "    <tr style=\"text-align: right;\">\n",
       "      <th></th>\n",
       "      <th>importance</th>\n",
       "    </tr>\n",
       "  </thead>\n",
       "  <tbody>\n",
       "    <tr>\n",
       "      <th>ITEM_PRICE</th>\n",
       "      <td>0.948530</td>\n",
       "    </tr>\n",
       "    <tr>\n",
       "      <th>VERMELHO</th>\n",
       "      <td>0.005497</td>\n",
       "    </tr>\n",
       "    <tr>\n",
       "      <th>PROFUNDIDADE</th>\n",
       "      <td>0.005138</td>\n",
       "    </tr>\n",
       "    <tr>\n",
       "      <th>LARGURA</th>\n",
       "      <td>0.004921</td>\n",
       "    </tr>\n",
       "    <tr>\n",
       "      <th>ALTURA</th>\n",
       "      <td>0.004799</td>\n",
       "    </tr>\n",
       "    <tr>\n",
       "      <th>GRAFITE</th>\n",
       "      <td>0.004517</td>\n",
       "    </tr>\n",
       "    <tr>\n",
       "      <th>PESO</th>\n",
       "      <td>0.003926</td>\n",
       "    </tr>\n",
       "    <tr>\n",
       "      <th>CAPACIDADE_(L)</th>\n",
       "      <td>0.003875</td>\n",
       "    </tr>\n",
       "    <tr>\n",
       "      <th>PIPOQUEIRA</th>\n",
       "      <td>0.001588</td>\n",
       "    </tr>\n",
       "    <tr>\n",
       "      <th>TEM_TAMPA</th>\n",
       "      <td>0.001554</td>\n",
       "    </tr>\n",
       "    <tr>\n",
       "      <th>CALDEIRAO</th>\n",
       "      <td>0.001398</td>\n",
       "    </tr>\n",
       "    <tr>\n",
       "      <th>TRAMONTINA</th>\n",
       "      <td>0.001329</td>\n",
       "    </tr>\n",
       "    <tr>\n",
       "      <th>PANELA</th>\n",
       "      <td>0.001297</td>\n",
       "    </tr>\n",
       "    <tr>\n",
       "      <th>TIPO_WOK</th>\n",
       "      <td>0.001275</td>\n",
       "    </tr>\n",
       "    <tr>\n",
       "      <th>CEREJA</th>\n",
       "      <td>0.001210</td>\n",
       "    </tr>\n",
       "  </tbody>\n",
       "</table>\n",
       "</div>"
      ],
      "text/plain": [
       "                importance\n",
       "ITEM_PRICE        0.948530\n",
       "VERMELHO          0.005497\n",
       "PROFUNDIDADE      0.005138\n",
       "LARGURA           0.004921\n",
       "ALTURA            0.004799\n",
       "GRAFITE           0.004517\n",
       "PESO              0.003926\n",
       "CAPACIDADE_(L)    0.003875\n",
       "PIPOQUEIRA        0.001588\n",
       "TEM_TAMPA         0.001554\n",
       "CALDEIRAO         0.001398\n",
       "TRAMONTINA        0.001329\n",
       "PANELA            0.001297\n",
       "TIPO_WOK          0.001275\n",
       "CEREJA            0.001210"
      ]
     },
     "execution_count": 156,
     "metadata": {
      "tags": []
     },
     "output_type": "execute_result"
    }
   ],
   "source": [
    "pd.DataFrame(modelo.feature_importances_, index = treino_x.columns, columns=['importance']).sort_values('importance',ascending=False).head(15)"
   ]
  },
  {
   "cell_type": "markdown",
   "metadata": {
    "colab_type": "text",
    "id": "bNk4UTfuJ_y8"
   },
   "source": [
    "É batante visivel que o preço acabado motivando mais o cliente na compra do produto de acordo com essa análise. O peso das outras qualidades acaba sendo bem menos relevante. É observado em segundo plano uma preferência por produtos maiores, como é visto nas variáveis PROFUNDIDADE, LARGURA, ALTURA, PESO e CAPACIDADE_(L), além de uma preferência pelas cores VERMELHO e GRAFITE."
   ]
  }
 ],
 "metadata": {
  "accelerator": "GPU",
  "colab": {
   "collapsed_sections": [],
   "name": "Ame_project.ipynb",
   "provenance": []
  },
  "kernelspec": {
   "display_name": "Python 3",
   "language": "python",
   "name": "python3"
  },
  "language_info": {
   "codemirror_mode": {
    "name": "ipython",
    "version": 3
   },
   "file_extension": ".py",
   "mimetype": "text/x-python",
   "name": "python",
   "nbconvert_exporter": "python",
   "pygments_lexer": "ipython3",
   "version": "3.7.4"
  }
 },
 "nbformat": 4,
 "nbformat_minor": 1
}
