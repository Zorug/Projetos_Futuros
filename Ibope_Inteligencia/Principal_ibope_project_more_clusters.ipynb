{
  "nbformat": 4,
  "nbformat_minor": 0,
  "metadata": {
    "colab": {
      "name": "Principal - ibope_project... - more clusters.ipynb",
      "provenance": [],
      "collapsed_sections": [
        "8QKSkqiugYKA"
      ]
    },
    "kernelspec": {
      "name": "python3",
      "display_name": "Python 3"
    },
    "accelerator": "GPU"
  },
  "cells": [
    {
      "cell_type": "markdown",
      "metadata": {
        "id": "mqK16Qdc_dnw",
        "colab_type": "text"
      },
      "source": [
        "# Case de Processo Seletivo: IBOPE Inteligência"
      ]
    },
    {
      "cell_type": "code",
      "metadata": {
        "id": "g9sF8qKT8Dra",
        "colab_type": "code",
        "colab": {}
      },
      "source": [
        "import pandas as pd\n",
        "import numpy as np\n",
        "import matplotlib.pyplot as plt\n",
        "%matplotlib inline\n",
        "import seaborn as sns"
      ],
      "execution_count": 0,
      "outputs": []
    },
    {
      "cell_type": "code",
      "metadata": {
        "id": "G9kTYX1b8s3_",
        "colab_type": "code",
        "colab": {}
      },
      "source": [
        "xls = 'Case - Data Science IBOPE.XLS'"
      ],
      "execution_count": 0,
      "outputs": []
    },
    {
      "cell_type": "code",
      "metadata": {
        "id": "ftOShcRv8ItG",
        "colab_type": "code",
        "outputId": "20e145aa-1acb-4065-b2a4-817393d28c05",
        "colab": {
          "base_uri": "https://localhost:8080/",
          "height": 357
        }
      },
      "source": [
        "dados = pd.read_excel(xls, sheet_name='Informações_Municipais', header=3)\n",
        "dados = dados.rename(columns={'Taxa bruta de freqüência à escola, 2000':'Taxa bruta de frequência à escola, 2000'})\n",
        "dados = dados.rename(columns={'Média de anos de estudo das pessoas de 25 anos ou mais de idade, 2000':'Média de anos de estudo das pessoas de 25 anos ou mais, 2000'})\n",
        "dados.sample(3)"
      ],
      "execution_count": 495,
      "outputs": [
        {
          "output_type": "execute_result",
          "data": {
            "text/html": [
              "<div>\n",
              "<style scoped>\n",
              "    .dataframe tbody tr th:only-of-type {\n",
              "        vertical-align: middle;\n",
              "    }\n",
              "\n",
              "    .dataframe tbody tr th {\n",
              "        vertical-align: top;\n",
              "    }\n",
              "\n",
              "    .dataframe thead th {\n",
              "        text-align: right;\n",
              "    }\n",
              "</style>\n",
              "<table border=\"1\" class=\"dataframe\">\n",
              "  <thead>\n",
              "    <tr style=\"text-align: right;\">\n",
              "      <th></th>\n",
              "      <th>Código</th>\n",
              "      <th>Município</th>\n",
              "      <th>Área (km²)</th>\n",
              "      <th>Densidade demográfica, 2000</th>\n",
              "      <th>Distância à capital (km)</th>\n",
              "      <th>Esperança de vida ao nascer, 2000</th>\n",
              "      <th>Mortalidade até um ano de idade, 2000</th>\n",
              "      <th>Taxa de fecundidade total, 2000</th>\n",
              "      <th>Percentual de pessoas de 25 anos ou mais analfabetas, 2000</th>\n",
              "      <th>Renda per Capita, 2000</th>\n",
              "      <th>Índice de Gini, 2000</th>\n",
              "      <th>Intensidade da indigência, 2000</th>\n",
              "      <th>Intensidade da pobreza, 2000</th>\n",
              "      <th>Índice de Desenvolvimento Humano Municipal, 2000</th>\n",
              "      <th>Taxa bruta de frequência à escola, 2000</th>\n",
              "      <th>Taxa de alfabetização, 2000</th>\n",
              "      <th>Média de anos de estudo das pessoas de 25 anos ou mais, 2000</th>\n",
              "      <th>População de 25 anos ou mais de idade, 1991</th>\n",
              "      <th>População de 25 anos ou mais de idade, 2000</th>\n",
              "      <th>População de 65 anos ou mais de idade, 1991</th>\n",
              "      <th>População de 65 anos ou mais de idade, 2000</th>\n",
              "      <th>População total, 1991</th>\n",
              "      <th>População total, 2000</th>\n",
              "      <th>População urbana, 2000</th>\n",
              "      <th>População rural, 2000</th>\n",
              "    </tr>\n",
              "  </thead>\n",
              "  <tbody>\n",
              "    <tr>\n",
              "      <th>1045</th>\n",
              "      <td>420390</td>\n",
              "      <td>Capinzal (SC)</td>\n",
              "      <td>224.8</td>\n",
              "      <td>88.8</td>\n",
              "      <td>303.282108</td>\n",
              "      <td>73.73</td>\n",
              "      <td>16.34</td>\n",
              "      <td>2.20</td>\n",
              "      <td>9.34</td>\n",
              "      <td>263.41</td>\n",
              "      <td>0.50</td>\n",
              "      <td>62.12</td>\n",
              "      <td>42.61</td>\n",
              "      <td>0.813</td>\n",
              "      <td>91.60</td>\n",
              "      <td>93.00</td>\n",
              "      <td>5.16</td>\n",
              "      <td>7293</td>\n",
              "      <td>10290</td>\n",
              "      <td>634</td>\n",
              "      <td>921</td>\n",
              "      <td>15562</td>\n",
              "      <td>19955</td>\n",
              "      <td>15460</td>\n",
              "      <td>4495</td>\n",
              "    </tr>\n",
              "    <tr>\n",
              "      <th>4572</th>\n",
              "      <td>354890</td>\n",
              "      <td>São Carlos (SP)</td>\n",
              "      <td>1143.9</td>\n",
              "      <td>168.7</td>\n",
              "      <td>213.153830</td>\n",
              "      <td>73.08</td>\n",
              "      <td>12.57</td>\n",
              "      <td>2.42</td>\n",
              "      <td>7.33</td>\n",
              "      <td>456.25</td>\n",
              "      <td>0.52</td>\n",
              "      <td>67.91</td>\n",
              "      <td>38.23</td>\n",
              "      <td>0.841</td>\n",
              "      <td>89.61</td>\n",
              "      <td>94.36</td>\n",
              "      <td>7.40</td>\n",
              "      <td>84178</td>\n",
              "      <td>109677</td>\n",
              "      <td>10758</td>\n",
              "      <td>14279</td>\n",
              "      <td>158221</td>\n",
              "      <td>192998</td>\n",
              "      <td>183433</td>\n",
              "      <td>9565</td>\n",
              "    </tr>\n",
              "    <tr>\n",
              "      <th>2067</th>\n",
              "      <td>291200</td>\n",
              "      <td>Ibiassucê (BA)</td>\n",
              "      <td>383.5</td>\n",
              "      <td>33.4</td>\n",
              "      <td>429.115723</td>\n",
              "      <td>68.08</td>\n",
              "      <td>32.39</td>\n",
              "      <td>2.31</td>\n",
              "      <td>38.39</td>\n",
              "      <td>104.32</td>\n",
              "      <td>0.54</td>\n",
              "      <td>56.88</td>\n",
              "      <td>53.44</td>\n",
              "      <td>0.659</td>\n",
              "      <td>71.89</td>\n",
              "      <td>70.66</td>\n",
              "      <td>2.76</td>\n",
              "      <td>5104</td>\n",
              "      <td>6492</td>\n",
              "      <td>751</td>\n",
              "      <td>1010</td>\n",
              "      <td>11898</td>\n",
              "      <td>12828</td>\n",
              "      <td>4037</td>\n",
              "      <td>8791</td>\n",
              "    </tr>\n",
              "  </tbody>\n",
              "</table>\n",
              "</div>"
            ],
            "text/plain": [
              "      Código        Município  ...  População urbana, 2000  População rural, 2000\n",
              "1045  420390    Capinzal (SC)  ...                   15460                   4495\n",
              "4572  354890  São Carlos (SP)  ...                  183433                   9565\n",
              "2067  291200   Ibiassucê (BA)  ...                    4037                   8791\n",
              "\n",
              "[3 rows x 25 columns]"
            ]
          },
          "metadata": {
            "tags": []
          },
          "execution_count": 495
        }
      ]
    },
    {
      "cell_type": "markdown",
      "metadata": {
        "id": "lxZEpV1mHlMj",
        "colab_type": "text"
      },
      "source": [
        "### Adicionando novos dados ao Dataset"
      ]
    },
    {
      "cell_type": "code",
      "metadata": {
        "id": "IkRpnOYj4Kqb",
        "colab_type": "code",
        "colab": {
          "base_uri": "https://localhost:8080/",
          "height": 34
        },
        "outputId": "2d791893-0a40-414e-d65c-485122c40997"
      },
      "source": [
        "dados2 = dados.copy()\n",
        "dados2['TAXA DE CRESCIMENTO: MAIS DE 25 ANOS'] = dados['População de 25 anos ou mais de idade, 2000'] - dados['População de 25 anos ou mais de idade, 1991']\n",
        "dados2['TAXA DE CRESCIMENTO: MAIS DE 65 ANOS'] = dados['População de 65 anos ou mais de idade, 2000'] - dados['População de 65 anos ou mais de idade, 1991']\n",
        "dados2['TAXA DE CRESCIMENTO POPULACIONAL EM 10 ANOS'] = dados['População total, 2000'] - dados['População total, 1991']\n",
        "dados2['PROPORÇÃO URBANA DA POPULAÇÃO'] = dados['População urbana, 2000'] / dados['População total, 2000']\n",
        "dados2['PROPORÇÃO RURAL DA POPULAÇÃO'] = dados['População rural, 2000'] / dados['População total, 2000']\n",
        "dados = dados2\n",
        "\n",
        "dados.shape # Tamanho do dataset"
      ],
      "execution_count": 496,
      "outputs": [
        {
          "output_type": "execute_result",
          "data": {
            "text/plain": [
              "(5507, 30)"
            ]
          },
          "metadata": {
            "tags": []
          },
          "execution_count": 496
        }
      ]
    },
    {
      "cell_type": "markdown",
      "metadata": {
        "id": "50oGjvOJHvhY",
        "colab_type": "text"
      },
      "source": [
        "### Verificação de dados nulos no Dataset"
      ]
    },
    {
      "cell_type": "code",
      "metadata": {
        "id": "cutPWEFs0OGw",
        "colab_type": "code",
        "outputId": "b3423e4a-dfaa-47b4-91ed-a18e2a2a95ae",
        "colab": {
          "base_uri": "https://localhost:8080/",
          "height": 638
        }
      },
      "source": [
        "# Tratar os dados/fazer as taxas\n",
        "dados.info() # todos os dados estão preenchidos."
      ],
      "execution_count": 497,
      "outputs": [
        {
          "output_type": "stream",
          "text": [
            "<class 'pandas.core.frame.DataFrame'>\n",
            "RangeIndex: 5507 entries, 0 to 5506\n",
            "Data columns (total 30 columns):\n",
            "Código                                                          5507 non-null int64\n",
            "Município                                                       5507 non-null object\n",
            "Área (km²)                                                      5507 non-null float64\n",
            "Densidade demográfica, 2000                                     5507 non-null float64\n",
            "Distância à capital (km)                                        5507 non-null float64\n",
            "Esperança de vida ao nascer, 2000                               5507 non-null float64\n",
            "Mortalidade até um ano de idade, 2000                           5507 non-null float64\n",
            "Taxa de fecundidade total, 2000                                 5507 non-null float64\n",
            "Percentual de pessoas de 25 anos ou mais analfabetas, 2000      5507 non-null float64\n",
            "Renda per Capita, 2000                                          5507 non-null float64\n",
            "Índice de Gini, 2000                                            5507 non-null float64\n",
            "Intensidade da indigência, 2000                                 5507 non-null float64\n",
            "Intensidade da pobreza, 2000                                    5507 non-null float64\n",
            "Índice de Desenvolvimento Humano Municipal, 2000                5507 non-null float64\n",
            "Taxa bruta de frequência à escola, 2000                         5507 non-null float64\n",
            "Taxa de alfabetização, 2000                                     5507 non-null float64\n",
            "Média de anos de estudo das pessoas de 25 anos ou mais, 2000    5507 non-null float64\n",
            "População de 25 anos ou mais de idade, 1991                     5507 non-null int64\n",
            "População de 25 anos ou mais de idade, 2000                     5507 non-null int64\n",
            "População de 65 anos ou mais de idade, 1991                     5507 non-null int64\n",
            "População de 65 anos ou mais de idade, 2000                     5507 non-null int64\n",
            "População total, 1991                                           5507 non-null int64\n",
            "População total, 2000                                           5507 non-null int64\n",
            "População urbana, 2000                                          5507 non-null int64\n",
            "População rural, 2000                                           5507 non-null int64\n",
            "TAXA DE CRESCIMENTO: MAIS DE 25 ANOS                            5507 non-null int64\n",
            "TAXA DE CRESCIMENTO: MAIS DE 65 ANOS                            5507 non-null int64\n",
            "TAXA DE CRESCIMENTO POPULACIONAL EM 10 ANOS                     5507 non-null int64\n",
            "PROPORÇÃO URBANA DA POPULAÇÃO                                   5507 non-null float64\n",
            "PROPORÇÃO RURAL DA POPULAÇÃO                                    5507 non-null float64\n",
            "dtypes: float64(17), int64(12), object(1)\n",
            "memory usage: 1.3+ MB\n"
          ],
          "name": "stdout"
        }
      ]
    },
    {
      "cell_type": "code",
      "metadata": {
        "id": "KteK-d7YM2no",
        "colab_type": "code",
        "colab": {}
      },
      "source": [
        "# Os dados estão 100%"
      ],
      "execution_count": 0,
      "outputs": []
    },
    {
      "cell_type": "markdown",
      "metadata": {
        "id": "6NcYcBYpH4UT",
        "colab_type": "text"
      },
      "source": [
        "### Criação de dicionários"
      ]
    },
    {
      "cell_type": "markdown",
      "metadata": {
        "id": "qSMRRf7sIARd",
        "colab_type": "text"
      },
      "source": [
        "Estes dicionários tem como objetivo facilitar a visualização dos dados, transformando as diversas colunas em valores numéricos"
      ]
    },
    {
      "cell_type": "code",
      "metadata": {
        "id": "h6o7weqjsHvD",
        "colab_type": "code",
        "colab": {}
      },
      "source": [
        "dicionario, dicionario_inverso = {}, {}\n",
        "for item in dados.columns: \n",
        "  dicionario[item] = list(dados.columns).index(item)\n",
        "  dicionario_inverso[list(dados.columns).index(item)] = item\n",
        "#dicionario_inverso"
      ],
      "execution_count": 0,
      "outputs": []
    },
    {
      "cell_type": "code",
      "metadata": {
        "id": "CbPRz6_YIbQv",
        "colab_type": "code",
        "colab": {}
      },
      "source": [
        "def func_prepara_para_padronizar(dados): #organiza os dados para clusterização\n",
        "  return dados.drop([\"Código\", \"Município\"], axis = 1).rename(columns=dicionario)"
      ],
      "execution_count": 0,
      "outputs": []
    },
    {
      "cell_type": "code",
      "metadata": {
        "id": "DHZCgFTD_99l",
        "colab_type": "code",
        "outputId": "a07fccbe-430b-4fe8-aabf-5d52c99acfad",
        "colab": {
          "base_uri": "https://localhost:8080/",
          "height": 217
        }
      },
      "source": [
        "dados_numericos = func_prepara_para_padronizar(dados); dados_numericos.head()"
      ],
      "execution_count": 501,
      "outputs": [
        {
          "output_type": "execute_result",
          "data": {
            "text/html": [
              "<div>\n",
              "<style scoped>\n",
              "    .dataframe tbody tr th:only-of-type {\n",
              "        vertical-align: middle;\n",
              "    }\n",
              "\n",
              "    .dataframe tbody tr th {\n",
              "        vertical-align: top;\n",
              "    }\n",
              "\n",
              "    .dataframe thead th {\n",
              "        text-align: right;\n",
              "    }\n",
              "</style>\n",
              "<table border=\"1\" class=\"dataframe\">\n",
              "  <thead>\n",
              "    <tr style=\"text-align: right;\">\n",
              "      <th></th>\n",
              "      <th>2</th>\n",
              "      <th>3</th>\n",
              "      <th>4</th>\n",
              "      <th>5</th>\n",
              "      <th>6</th>\n",
              "      <th>7</th>\n",
              "      <th>8</th>\n",
              "      <th>9</th>\n",
              "      <th>10</th>\n",
              "      <th>11</th>\n",
              "      <th>12</th>\n",
              "      <th>13</th>\n",
              "      <th>14</th>\n",
              "      <th>15</th>\n",
              "      <th>16</th>\n",
              "      <th>17</th>\n",
              "      <th>18</th>\n",
              "      <th>19</th>\n",
              "      <th>20</th>\n",
              "      <th>21</th>\n",
              "      <th>22</th>\n",
              "      <th>23</th>\n",
              "      <th>24</th>\n",
              "      <th>25</th>\n",
              "      <th>26</th>\n",
              "      <th>27</th>\n",
              "      <th>28</th>\n",
              "      <th>29</th>\n",
              "    </tr>\n",
              "  </thead>\n",
              "  <tbody>\n",
              "    <tr>\n",
              "      <th>0</th>\n",
              "      <td>136.9</td>\n",
              "      <td>36.3</td>\n",
              "      <td>21.414308</td>\n",
              "      <td>67.58</td>\n",
              "      <td>27.70</td>\n",
              "      <td>2.85</td>\n",
              "      <td>15.64</td>\n",
              "      <td>205.27</td>\n",
              "      <td>0.53</td>\n",
              "      <td>36.89</td>\n",
              "      <td>34.40</td>\n",
              "      <td>0.742</td>\n",
              "      <td>80.17</td>\n",
              "      <td>88.03</td>\n",
              "      <td>4.87</td>\n",
              "      <td>1872</td>\n",
              "      <td>2433</td>\n",
              "      <td>121</td>\n",
              "      <td>227</td>\n",
              "      <td>4227</td>\n",
              "      <td>4971</td>\n",
              "      <td>3096</td>\n",
              "      <td>1875</td>\n",
              "      <td>561</td>\n",
              "      <td>106</td>\n",
              "      <td>744</td>\n",
              "      <td>0.622812</td>\n",
              "      <td>0.377188</td>\n",
              "    </tr>\n",
              "    <tr>\n",
              "      <th>1</th>\n",
              "      <td>897.4</td>\n",
              "      <td>7.2</td>\n",
              "      <td>390.876513</td>\n",
              "      <td>72.92</td>\n",
              "      <td>20.51</td>\n",
              "      <td>2.54</td>\n",
              "      <td>14.48</td>\n",
              "      <td>196.36</td>\n",
              "      <td>0.52</td>\n",
              "      <td>51.90</td>\n",
              "      <td>35.22</td>\n",
              "      <td>0.760</td>\n",
              "      <td>74.57</td>\n",
              "      <td>86.58</td>\n",
              "      <td>4.36</td>\n",
              "      <td>3308</td>\n",
              "      <td>3781</td>\n",
              "      <td>354</td>\n",
              "      <td>459</td>\n",
              "      <td>6492</td>\n",
              "      <td>6446</td>\n",
              "      <td>3927</td>\n",
              "      <td>2519</td>\n",
              "      <td>473</td>\n",
              "      <td>105</td>\n",
              "      <td>-46</td>\n",
              "      <td>0.609215</td>\n",
              "      <td>0.390785</td>\n",
              "    </tr>\n",
              "    <tr>\n",
              "      <th>2</th>\n",
              "      <td>1047.7</td>\n",
              "      <td>10.9</td>\n",
              "      <td>78.641435</td>\n",
              "      <td>69.59</td>\n",
              "      <td>22.36</td>\n",
              "      <td>2.77</td>\n",
              "      <td>21.81</td>\n",
              "      <td>168.31</td>\n",
              "      <td>0.56</td>\n",
              "      <td>47.06</td>\n",
              "      <td>40.32</td>\n",
              "      <td>0.723</td>\n",
              "      <td>74.18</td>\n",
              "      <td>82.45</td>\n",
              "      <td>4.24</td>\n",
              "      <td>4241</td>\n",
              "      <td>5918</td>\n",
              "      <td>446</td>\n",
              "      <td>686</td>\n",
              "      <td>9402</td>\n",
              "      <td>11452</td>\n",
              "      <td>7206</td>\n",
              "      <td>4246</td>\n",
              "      <td>1677</td>\n",
              "      <td>240</td>\n",
              "      <td>2050</td>\n",
              "      <td>0.629235</td>\n",
              "      <td>0.370765</td>\n",
              "    </tr>\n",
              "    <tr>\n",
              "      <th>3</th>\n",
              "      <td>1613.9</td>\n",
              "      <td>73.8</td>\n",
              "      <td>51.184552</td>\n",
              "      <td>70.77</td>\n",
              "      <td>25.61</td>\n",
              "      <td>3.15</td>\n",
              "      <td>24.85</td>\n",
              "      <td>102.14</td>\n",
              "      <td>0.59</td>\n",
              "      <td>44.61</td>\n",
              "      <td>51.04</td>\n",
              "      <td>0.706</td>\n",
              "      <td>81.76</td>\n",
              "      <td>80.74</td>\n",
              "      <td>4.28</td>\n",
              "      <td>33554</td>\n",
              "      <td>44897</td>\n",
              "      <td>3792</td>\n",
              "      <td>4688</td>\n",
              "      <td>99989</td>\n",
              "      <td>119152</td>\n",
              "      <td>70843</td>\n",
              "      <td>48309</td>\n",
              "      <td>11343</td>\n",
              "      <td>896</td>\n",
              "      <td>19163</td>\n",
              "      <td>0.594560</td>\n",
              "      <td>0.405440</td>\n",
              "    </tr>\n",
              "    <tr>\n",
              "      <th>4</th>\n",
              "      <td>1822.4</td>\n",
              "      <td>12.3</td>\n",
              "      <td>172.311549</td>\n",
              "      <td>72.50</td>\n",
              "      <td>21.59</td>\n",
              "      <td>2.41</td>\n",
              "      <td>15.56</td>\n",
              "      <td>253.68</td>\n",
              "      <td>0.58</td>\n",
              "      <td>41.53</td>\n",
              "      <td>31.68</td>\n",
              "      <td>0.778</td>\n",
              "      <td>78.39</td>\n",
              "      <td>87.55</td>\n",
              "      <td>4.78</td>\n",
              "      <td>10163</td>\n",
              "      <td>12406</td>\n",
              "      <td>1084</td>\n",
              "      <td>1595</td>\n",
              "      <td>20689</td>\n",
              "      <td>22360</td>\n",
              "      <td>19022</td>\n",
              "      <td>3338</td>\n",
              "      <td>2243</td>\n",
              "      <td>511</td>\n",
              "      <td>1671</td>\n",
              "      <td>0.850716</td>\n",
              "      <td>0.149284</td>\n",
              "    </tr>\n",
              "  </tbody>\n",
              "</table>\n",
              "</div>"
            ],
            "text/plain": [
              "       2     3           4      5   ...   26     27        28        29\n",
              "0   136.9  36.3   21.414308  67.58  ...  106    744  0.622812  0.377188\n",
              "1   897.4   7.2  390.876513  72.92  ...  105    -46  0.609215  0.390785\n",
              "2  1047.7  10.9   78.641435  69.59  ...  240   2050  0.629235  0.370765\n",
              "3  1613.9  73.8   51.184552  70.77  ...  896  19163  0.594560  0.405440\n",
              "4  1822.4  12.3  172.311549  72.50  ...  511   1671  0.850716  0.149284\n",
              "\n",
              "[5 rows x 28 columns]"
            ]
          },
          "metadata": {
            "tags": []
          },
          "execution_count": 501
        }
      ]
    },
    {
      "cell_type": "markdown",
      "metadata": {
        "id": "v1PSqJdN8ZKF",
        "colab_type": "text"
      },
      "source": [
        "###Padronização dos dados"
      ]
    },
    {
      "cell_type": "code",
      "metadata": {
        "id": "s4MrvDz28Trf",
        "colab_type": "code",
        "colab": {}
      },
      "source": [
        "from sklearn.preprocessing  import StandardScaler\n",
        "\n",
        "scaler = StandardScaler()\n",
        "dados_padronizados = scaler.fit_transform(dados_numericos)\n",
        "# dados_padronizados"
      ],
      "execution_count": 0,
      "outputs": []
    },
    {
      "cell_type": "markdown",
      "metadata": {
        "id": "YvWCaNpxeVIg",
        "colab_type": "text"
      },
      "source": [
        "### K-Means: Busca pelo melhor número de clusters (Método do cotovelo)"
      ]
    },
    {
      "cell_type": "markdown",
      "metadata": {
        "id": "NcDIfks-a_H-",
        "colab_type": "text"
      },
      "source": [
        "O método Elbow se trata de uma técnica interessante para encontrar o valor ideal do parâmetro k.\n",
        "Basicamente o que o método faz é testar a variância dos dados em relação ao número de clusters.\n",
        "É considerado um valor ideal de k quando o aumento no número de clusters não representa um valor significativo de ganho."
      ]
    },
    {
      "cell_type": "code",
      "metadata": {
        "id": "xmTY8fo8d-hg",
        "colab_type": "code",
        "colab": {}
      },
      "source": [
        "from sklearn.cluster import KMeans\n",
        "from scipy.spatial.distance import cdist"
      ],
      "execution_count": 0,
      "outputs": []
    },
    {
      "cell_type": "code",
      "metadata": {
        "id": "AIxi0JYrfgaE",
        "colab_type": "code",
        "colab": {}
      },
      "source": [
        "X = np.array(dados_padronizados)#; X"
      ],
      "execution_count": 0,
      "outputs": []
    },
    {
      "cell_type": "code",
      "metadata": {
        "id": "RYAbD6WkesK9",
        "colab_type": "code",
        "colab": {}
      },
      "source": [
        "K = range(1,15)\n",
        "\n",
        "distorcoes = []\n",
        "\n",
        "for k in K:\n",
        "  kmeans_modelo = KMeans(n_clusters = k).fit(X)\n",
        "  kmeans_modelo.fit(X)\n",
        "  distorcoes.append(sum(np.min(cdist(X, kmeans_modelo.cluster_centers_, 'euclidean'), axis=1)) / X.shape[0])\n",
        "\n",
        "plt.plot(K, distorcoes, 'bx-')\n",
        "plt.xlabel('k')\n",
        "plt.ylabel('Distorção')\n",
        "plt.show()"
      ],
      "execution_count": 0,
      "outputs": []
    },
    {
      "cell_type": "markdown",
      "metadata": {
        "id": "hBjPfdtpESEA",
        "colab_type": "text"
      },
      "source": [
        "### Dendrograma"
      ]
    },
    {
      "cell_type": "markdown",
      "metadata": {
        "id": "Pr6mOuSdC1Uo",
        "colab_type": "text"
      },
      "source": [
        "A decisão do número de clusters que melhor representem diferentes grupos podem ser escolhidos observando-se o dendrograma. A melhor escolha do número de clusters é o número de linhas verticais no dendrograma cortadas por uma linha horizontal que pode atravessar verticalmente a distância máxima sem intersectar um cluster."
      ]
    },
    {
      "cell_type": "code",
      "metadata": {
        "id": "jvtFOck3Xg5-",
        "colab_type": "code",
        "colab": {}
      },
      "source": [
        "from scipy.cluster.hierarchy import dendrogram, linkage # dendrograma\n",
        "\n",
        "modelo = KMeans(n_clusters=15)\n",
        "modelo.fit(X)\n",
        "\n",
        "grupos = pd.DataFrame(modelo.cluster_centers_,\n",
        "             columns=dados_numericos.columns)\n",
        "\n",
        "matriz_de_distancia = linkage(grupos)\n",
        "\n",
        "dendrograma = dendrogram(matriz_de_distancia)\n",
        "dendrograma;"
      ],
      "execution_count": 0,
      "outputs": []
    },
    {
      "cell_type": "markdown",
      "metadata": {
        "id": "12Tt9yxEEgGS",
        "colab_type": "text"
      },
      "source": [
        "### Criação do modelo K-Means"
      ]
    },
    {
      "cell_type": "markdown",
      "metadata": {
        "id": "mcGlk1IGRl8h",
        "colab_type": "text"
      },
      "source": [
        "A ideia aqui é fazer uma segunda versão abrangindo mais de 3 categorias, para deixar maior a variação e percepção dos dados, diferente de uma tentativa prévia, e visualizar de uma forma um pouco mais exponêncial um potencial crescimento."
      ]
    },
    {
      "cell_type": "code",
      "metadata": {
        "id": "R_GT5Jj8lXCq",
        "colab_type": "code",
        "colab": {}
      },
      "source": [
        "n = 7 # número de clusters\n",
        "#n=3\n",
        "\n",
        "modelo = KMeans(n_clusters=n, random_state=0)\n",
        "modelo.fit(X)"
      ],
      "execution_count": 0,
      "outputs": []
    },
    {
      "cell_type": "code",
      "metadata": {
        "id": "jwHGmh6Do0nO",
        "colab_type": "code",
        "colab": {}
      },
      "source": [
        "# quantidade em cada grupo\n",
        "pd.Series(modelo.labels_).value_counts()"
      ],
      "execution_count": 0,
      "outputs": []
    },
    {
      "cell_type": "markdown",
      "metadata": {
        "id": "bx1MiMKhMJBf",
        "colab_type": "text"
      },
      "source": [
        "### Visualização dos grupos"
      ]
    },
    {
      "cell_type": "code",
      "metadata": {
        "id": "su6NK08-rUSZ",
        "colab_type": "code",
        "colab": {}
      },
      "source": [
        "grupos = pd.DataFrame(modelo.cluster_centers_, columns=dados_numericos.columns)\n",
        "grupos.transpose().plot.bar(\n",
        "    subplots = True, figsize=(20, 15), sharex = False, rot=0);"
      ],
      "execution_count": 0,
      "outputs": []
    },
    {
      "cell_type": "code",
      "metadata": {
        "id": "ON9hgeVwjdUF",
        "colab_type": "code",
        "colab": {}
      },
      "source": [
        "#grupos"
      ],
      "execution_count": 0,
      "outputs": []
    },
    {
      "cell_type": "markdown",
      "metadata": {
        "id": "tUTk6XOyb-0m",
        "colab_type": "text"
      },
      "source": [
        "### Adição do grupo a tabela"
      ]
    },
    {
      "cell_type": "code",
      "metadata": {
        "id": "PSiQDT0kfViK",
        "colab_type": "code",
        "colab": {}
      },
      "source": [
        "dados_agrupados = dados.copy()\n",
        "dados_agrupados['GRUPOS'] = modelo.labels_#; dados_agrupados.sample(3)"
      ],
      "execution_count": 0,
      "outputs": []
    },
    {
      "cell_type": "markdown",
      "metadata": {
        "id": "cgBt9cDqrEh8",
        "colab_type": "text"
      },
      "source": [
        "### Análise por grupo: média"
      ]
    },
    {
      "cell_type": "code",
      "metadata": {
        "id": "kKsUmdgK8ZFC",
        "colab_type": "code",
        "colab": {}
      },
      "source": [
        "número_de_municipios = pd.Series(modelo.labels_).value_counts().sort_index()"
      ],
      "execution_count": 0,
      "outputs": []
    },
    {
      "cell_type": "code",
      "metadata": {
        "id": "KyI5VP3prJY6",
        "colab_type": "code",
        "colab": {}
      },
      "source": [
        "medias_grupos = dados_agrupados.drop(\"Código\", axis=1).set_index(\"GRUPOS\").groupby(\"GRUPOS\").aggregate(np.mean).round(2)\n",
        "medias_grupos[\"Quantidade de cidades no grupo\"] = número_de_municipios; medias_grupos"
      ],
      "execution_count": 0,
      "outputs": []
    },
    {
      "cell_type": "code",
      "metadata": {
        "id": "UjH-P9yGWvt_",
        "colab_type": "code",
        "colab": {}
      },
      "source": [
        "#medias_grupos.sort_values(\"População total, 2000\", ascending=False)"
      ],
      "execution_count": 0,
      "outputs": []
    },
    {
      "cell_type": "markdown",
      "metadata": {
        "id": "YFtrbBaBb930",
        "colab_type": "text"
      },
      "source": [
        "Nesta análise é possivel notar uma relação bem clara entre os 4 primeiros grupos, onde há uma relação direta com o crescimento de renda, população e desenvolvimento humano no geral. Há uma relação direta entre os melhores lugares a ser investidos: onde há mais clientes e onde a renda é superior. Vou utilizar um dicionário para guardar esta sequência."
      ]
    },
    {
      "cell_type": "code",
      "metadata": {
        "id": "hSDaEpyKWbDV",
        "colab_type": "code",
        "colab": {}
      },
      "source": [
        "########## verificar\n",
        "dicionario_nivel_cidade = {3:'A', 2:'B', 5:'C', 0:'D', 1:'E', 6:'F', 4:'G'}\n",
        "###########"
      ],
      "execution_count": 0,
      "outputs": []
    },
    {
      "cell_type": "code",
      "metadata": {
        "id": "y8ss-FKG5K07",
        "colab_type": "code",
        "colab": {}
      },
      "source": [
        "medias_grupos.sort_values(\"População total, 2000\", ascending=False).rename(index=dicionario_nivel_cidade)"
      ],
      "execution_count": 0,
      "outputs": []
    },
    {
      "cell_type": "markdown",
      "metadata": {
        "id": "pFS5Ylygz0Di",
        "colab_type": "text"
      },
      "source": [
        "### Principais parâmetros por grupos:"
      ]
    },
    {
      "cell_type": "code",
      "metadata": {
        "id": "-ZUMKyMm0ZNG",
        "colab_type": "code",
        "colab": {}
      },
      "source": [
        "grupos_renomeados = grupos.copy()\n",
        "grupos_renomeados = grupos_renomeados.rename(columns=dicionario_inverso)#; grupos_renomeados"
      ],
      "execution_count": 0,
      "outputs": []
    },
    {
      "cell_type": "code",
      "metadata": {
        "id": "uZHFluqLt4ke",
        "colab_type": "code",
        "colab": {}
      },
      "source": [
        "# Verifica características relevantes de um determinado grupo\n",
        "grupo_para_verificar = 2\n",
        "grupos_renomeados.loc[grupo_para_verificar].sort_values(ascending = False)"
      ],
      "execution_count": 0,
      "outputs": []
    },
    {
      "cell_type": "code",
      "metadata": {
        "id": "8-i1zzYM1HBS",
        "colab_type": "code",
        "colab": {}
      },
      "source": [
        "dados_agrupados[dados_agrupados['GRUPOS'] == grupo_para_verificar].sample(5) # verifica a tabela por grupo"
      ],
      "execution_count": 0,
      "outputs": []
    },
    {
      "cell_type": "markdown",
      "metadata": {
        "id": "dcHR_gTMSp6l",
        "colab_type": "text"
      },
      "source": [
        "### Modelo Preditivo"
      ]
    },
    {
      "cell_type": "code",
      "metadata": {
        "id": "dESphT9-jidY",
        "colab_type": "code",
        "colab": {}
      },
      "source": [
        "# Previsão pelo modelo\n",
        "amostra = dados.sample()\n",
        "amostra_drop = func_prepara_para_padronizar(amostra)\n",
        "amostra_padronizada = scaler.transform(amostra_drop)#; amostra_padronizada"
      ],
      "execution_count": 0,
      "outputs": []
    },
    {
      "cell_type": "code",
      "metadata": {
        "id": "a2e4Oz4joaeB",
        "colab_type": "code",
        "colab": {}
      },
      "source": [
        "#print(modelo.predict(amostra_padronizada))\n",
        "#print(dados_agrupados['GRUPOS'].iloc[amostra_drop.index].values)"
      ],
      "execution_count": 0,
      "outputs": []
    },
    {
      "cell_type": "code",
      "metadata": {
        "id": "iLoK4lGch1wM",
        "colab_type": "code",
        "colab": {}
      },
      "source": [
        "def probabilidade_de_proximidade(amostra_padronizada):\n",
        "  distancias = modelo.transform(amostra_padronizada)\n",
        "  distancias2 = 1/distancias\n",
        "  soma = distancias2.sum()\n",
        "  proporcoes = distancias2 / soma\n",
        "\n",
        "  grupo = 0\n",
        "  for item in proporcoes[0]:\n",
        "    print(f'grupo {dicionario_nivel_cidade[grupo]} ou {grupo}: {round(item*100,2)}%')\n",
        "    grupo += 1"
      ],
      "execution_count": 0,
      "outputs": []
    },
    {
      "cell_type": "code",
      "metadata": {
        "id": "GultonxPh_rk",
        "colab_type": "code",
        "colab": {}
      },
      "source": [
        "x = probabilidade_de_proximidade(amostra_padronizada); x"
      ],
      "execution_count": 0,
      "outputs": []
    },
    {
      "cell_type": "code",
      "metadata": {
        "id": "HN5iMvNyOBJ6",
        "colab_type": "code",
        "colab": {}
      },
      "source": [
        ""
      ],
      "execution_count": 0,
      "outputs": []
    }
  ]
}